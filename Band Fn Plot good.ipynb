{
 "cells": [
  {
   "cell_type": "markdown",
   "metadata": {},
   "source": [
    "# BAND Function"
   ]
  },
  {
   "cell_type": "markdown",
   "metadata": {},
   "source": [
    "\\begin{equation*}\n",
    "f_{\\text{BAND}}(E) = \n",
    "\\end{equation*}\n",
    "\n",
    "\n",
    "\n",
    "\\begin{equation}\n",
    "A \n",
    "\\begin{cases} \n",
    "\t\\left( \\frac{E}{100 \\text{ keV}} \\right) ^\\alpha \\text{ exp} \\left[ -\\frac{ \\left( \\alpha + 2 \\right) E}{E_{peak}} \\right], \\\\ \n",
    "\t\t\\ \\ \\ \\ \\ \\  \\text{ for } E < \\frac{(\\alpha - \\beta) E_{peak}}{\\alpha + 2} \\\\\n",
    "\t\t\\left( \\frac{E}{100 \\text{ keV}} \\right) ^\\beta \\text{ exp} \\left( \\beta - \\alpha \\right) \n",
    "\t\\left[ \\frac{ \\left( \\alpha - \\beta \\right) E_{peak}}{100 \\text{ keV} (\\alpha + 2)} \\right] ^{\\alpha - \\beta} .\\\\\n",
    "\t\t\\ \\ \\ \\ \\ \\  \\text{ for } E \\geqslant \\frac{(\\alpha - \\beta) E_{peak}}{\\alpha + 2}  \\\\\n",
    "\\end{cases}\n",
    "\\end{equation}\n",
    "\n",
    "\n",
    "This model has four free parameters: the amplitude A (photons s$^{-1}$ cm$^{-2}$ keV$^{-1}$), the low-energy index $\\alpha$, the high-energy index $\\beta$, and the peak in the $\\nu F_{\\nu}$ spectrum, $E_{peak}$ (keV).  \n",
    "\n",
    "$E_{peak}$ and the e-folding energy used in XSPEC, $E_0$, are related by the following equation,\n",
    "\\begin{equation}\n",
    "E_0 = \\frac{E_{peak}}{(\\alpha + 2)}.  \n",
    "\\end{equation}\n",
    "The ``break energy\" is related to the photon energy $E_{peak}$ of the peak of the $\\nu F_{\\nu}$ spectrum by\n",
    "\\begin{equation}\n",
    "E_{break} = \\frac{(\\alpha - \\beta ) E_{peak}}{(\\alpha + 2)} = E_0(\\alpha - \\beta).\n",
    "\\end{equation}\n",
    "\n",
    "\n",
    "These are the functions I use to calculate Eiso.\n",
    "\n",
    "    a - alpha\n",
    "    b - beta\n",
    "    epk - epeak\n",
    "    engs - energy array\n",
    "    enrom is already set to 100.0 keV in these equations."
   ]
  },
  {
   "cell_type": "markdown",
   "metadata": {},
   "source": [
    "Simplify this even more by substituting single letter variables for the parameters.\n",
    "\n",
    "\n",
    "y = $\\left( \\alpha - \\beta \\right)$ \n",
    "\n",
    "z = $E_0$ \n",
    "\n",
    "x = $E$ \n",
    "\n",
    "a = $\\alpha$ \n",
    "\n",
    "b = $\\beta$ \n",
    "\n",
    "remove the 100 keV normalization factor that will cause a hangup in sympy, but Wolfram Alpha can handle it.  You will add it back on by introducing a factor of (100^ -alpha) after the integration is complete.  \n",
    "\n",
    "The factor of (1/100)^alpha, when included in the integration, returns  (100^ -alpha).  For the comptonized model, this will show up again.  Make sure to keep track of the signs. Depending on if alpha is - or + to start with, that will change your sign after integration.\n",
    "\n",
    "Remove the normalization (or Amplitude), $A$.  This parameter is intruduced as a nuience parameter that accounts for effects due to the detector, background, etc.\n",
    "We only care about the model."
   ]
  },
  {
   "cell_type": "markdown",
   "metadata": {},
   "source": [
    "\\begin{equation*}\n",
    "f_{\\text{BAND}}(E) = \n",
    "\\end{equation*}\n",
    "\n",
    "\n",
    "\n",
    "\\begin{equation}\n",
    "\\begin{cases} \n",
    "\t x ^a \\ \\text{ exp} \\left( -\\frac{x}{z} \\right), \\\\ \n",
    "\t\t\\ \\ \\ \\ \\ \\  \\text{ for lower part}\n",
    "        \\\\\n",
    "        \\\\\n",
    "\t\tx ^b \\ \\text{ exp} \\left( -y \\right) \n",
    "\t\\ \\left( y z \\right) ^y .\\\\\n",
    "\t\t\\ \\ \\ \\ \\ \\  \\text{ for upper part}   \\\\\n",
    "\\end{cases}\n",
    "\\end{equation}"
   ]
  },
  {
   "cell_type": "markdown",
   "metadata": {},
   "source": [
    "\\begin{equation*}\n",
    "f_{\\text{BAND}}(E) = \n",
    "\\end{equation*}\n",
    "\n",
    "\n",
    "\n",
    "\\begin{equation}\n",
    "\\begin{cases} \n",
    "\t E ^\\alpha \\ \\text{ exp} \\left( -\\frac{E}{E_0} \\right), \\\\ \n",
    "\t\t\\ \\ \\ \\ \\ \\  \\text{ for lower part}\n",
    "        \\\\\n",
    "        \\\\\n",
    "\t\tE ^\\beta \\ \\text{ exp} \\left( - \\left( \\alpha - \\beta \\right) \\right)\n",
    "\t\\ \\left( \\left( \\alpha - \\beta \\right) E_0 \\right) ^{\\left( \\alpha - \\beta \\right)} .\\\\\n",
    "\t\t\\ \\ \\ \\ \\ \\  \\text{ for upper part}   \\\\\n",
    "\\end{cases}\n",
    "\\end{equation}"
   ]
  },
  {
   "cell_type": "markdown",
   "metadata": {},
   "source": [
    "## We used Wolfram Alpha to integrate the Band function to get $f_{\\nu}$ and $\\nu f_{\\nu}$.  Sympy can also be used, but you would need to remove the factor of $\\left( \\frac{1}{100} \\right)^{\\alpha}$ and $\\left( \\frac{1}{100} \\right)^{\\beta}$ to get it to handle the integrations.\n",
    "\n",
    "## Wolfram Alpha can handle them and so we used it to determine the integral for the Function when including the factor."
   ]
  },
  {
   "cell_type": "markdown",
   "metadata": {},
   "source": [
    " "
   ]
  },
  {
   "cell_type": "markdown",
   "metadata": {},
   "source": [
    "# Important Notes:\n",
    "\n",
    "## Under NO circumstance should you assign variables (such as alpha, beta, efold, etc.) outside of their functions.  Any variable used in calculations within a funciton should remain unassigned in the main program.  It causes problems!\n",
    "\n",
    "## Use a dictionary to assign parameter names and values to then pass to the functions.\n",
    "\n",
    "## The - sign that I've had to enter (first part of band) or remove (second part of band) are due to the fact that the calculations are done by (lowIntegral - highIntegral).  The example from PyXspec did it this way, so I did as well.  If you assign the - and + correctly as Wolfram Alpha gives you, you can do (highIntegral - lowIntegral).\n",
    "\n",
    "## emodel (or eufspec) and eemodel (or eeufspec) are the $f_{\\nu}$ and $\\nu f_{\\nu}$, respectively. Both require the Band Function to be integrated wrt Energy.  The latter one requires you to multiply the Band Function by another factor of Energy before the integration.  This means, the Band Function is $E N(E)$ and $\\nu f_{\\nu}$ is then $E^2 N(E)$.  Integrating $f_{\\nu}$ gives the Spectral Flux Density or (Energy Flux) and integrating $\\nu f_{\\nu}$ gives the Spectral Energy density we use in the Eiso calculation.  model (or ufspec) is the Band Function (BEFORE INTEGRATION), $N(E)$, and requires no information about the response matrix.\n",
    "\n",
    "### Sidenote:  I call $\\nu f_{\\nu}$ \"energy flux\" in my Eiso calculations and $f_{\\nu}$ \"photon flux\"."
   ]
  },
  {
   "cell_type": "code",
   "execution_count": 1,
   "metadata": {
    "collapsed": true
   },
   "outputs": [],
   "source": [
    "from __future__ import division\n",
    "import numpy \n",
    "import matplotlib.pylab as plt\n",
    "%matplotlib inline\n",
    "import mpmath as mp\n",
    "from collections import OrderedDict\n",
    "import sympy as sy"
   ]
  },
  {
   "cell_type": "code",
   "execution_count": 2,
   "metadata": {
    "collapsed": true
   },
   "outputs": [],
   "source": [
    "params = OrderedDict()\n",
    "\n",
    "params.update({'alpha':-1.0286698070834475})\n",
    "params.update({'beta':-2.2003327469378235})\n",
    "params.update({'efold':527.5755660475579})\n",
    "params.update({'norm':0.01748869026041366})\n",
    "\n",
    "energy_array = numpy.logspace(1, 8, 10000)"
   ]
  },
  {
   "cell_type": "code",
   "execution_count": 70,
   "metadata": {
    "collapsed": false
   },
   "outputs": [],
   "source": [
    "## CHECK THIS AGAINST THE N(E) PLOT.\n",
    "## This is the model data from a fit and the plot 'model' in XSPEC.\n",
    "# fA - an NaI\n",
    "# fB - the BGO\n",
    "# fC - the LAT detector\n",
    "# all the models extend past the data range so they overlap just fine without LLE or the other NaI data..\n",
    "\n",
    "import pandas as pd\n",
    "\n",
    "direc = '/Users/KimiZ/GRBs2/analysis/LAT/bn080916009/PYXSPEC/GBMwLAT/grbm/'\n",
    "F1 = direc+'s1_model_emodel_eemodel.txt'  # s1 - NaI data from n3 detector\n",
    "F2 = direc+'s3_model_emodel_eemodel.txt'  # s3 - BGO data\n",
    "F3 = direc+'s5_model_emodel_eemodel.txt'  # s5 - LAT data\n",
    "f1 = numpy.loadtxt(F1, skiprows=1, delimiter=', ')\n",
    "f2 = numpy.loadtxt(F2, skiprows=1, delimiter=', ')\n",
    "f3 = numpy.loadtxt(F3, skiprows=1, delimiter=', ')\n",
    "ff1 = pd.DataFrame(f1)  # ff1[]\n",
    "ff2 = pd.DataFrame(f2)\n",
    "ff3 = pd.DataFrame(f3)\n",
    "# ff1[0] - energy\n",
    "# ff1[2] - model (Plot in Xspec)\n",
    "# ff1[3] - emodel (Plot in Xspec)\n",
    "# ff1[4] - eemodel (Plot in Xspec)\n",
    "\n",
    "Energy_Array_Dat = numpy.array(ff1[0][:]) # ENERGY ARRAY of s1 file. USED BY XSPEC as x-axis in plot.\n",
    "# columns: ModelEnergy(keV)_Plot.x(i), ModelEnergyErr(keV)_Plot.xErr(i), \n",
    "#          model_Plot.model(i), emodel_Plot.model(i), eemodel_Plot.model(i)"
   ]
  },
  {
   "cell_type": "markdown",
   "metadata": {},
   "source": [
    "### There is an issue with the $f_{\\nu}$ and $\\nu f_{\\nu}$ plots lining up with the data.  I believe it to be a result of not having the response matrix in these calculations.  It should be a multiplicative offset to get them to line up with the data.\n",
    "\n",
    "The data points plotted are calculated by D*(unfolded model)/(folded model), where D is the observed data, (unfolded model) is the theoretical model integrated over the plot bin, and (folded model) is the model times the response as seen in the standard plot data. \n",
    "\n",
    "The E used in the multiplicative factor is taken to be the geometric mean of the lower and upper energies of the plot bin.\n",
    "\n",
    "folded = model * response (as seen in the standard plot data)\n",
    "m1.values(1) * response\n",
    "\n",
    "unfolded = theoretical model integrated over the plot bin.  What we end up with in Plot.model(1)\n",
    "\n",
    "The offset for $f_{\\nu}$ band_100keV is a factor of 0.27 or between .27 and .28 (0.26631905)\n",
    "For $f_{\\nu}$ band, between between 30 and 32. (30.39077972)"
   ]
  },
  {
   "cell_type": "code",
   "execution_count": 71,
   "metadata": {
    "collapsed": true
   },
   "outputs": [],
   "source": [
    "s1_en_diff = numpy.diff(ff1[0])\n",
    "s1_emodel_diff =  numpy.diff(ff1[3])"
   ]
  },
  {
   "cell_type": "code",
   "execution_count": 72,
   "metadata": {
    "collapsed": false
   },
   "outputs": [
    {
     "data": {
      "text/plain": [
       "[<matplotlib.lines.Line2D at 0x10ffd0150>]"
      ]
     },
     "execution_count": 72,
     "metadata": {},
     "output_type": "execute_result"
    },
    {
     "data": {
      "image/png": "[encoded data removed]",
      "text/plain": [
       "<matplotlib.figure.Figure at 0x10fe5e310>"
      ]
     },
     "metadata": {},
     "output_type": "display_data"
    }
   ],
   "source": [
    "plt.plot(s1_emodel_diff)"
   ]
  },
  {
   "cell_type": "code",
   "execution_count": 106,
   "metadata": {
    "collapsed": false
   },
   "outputs": [
    {
     "data": {
      "text/plain": [
       "[<matplotlib.lines.Line2D at 0x111ed5a50>]"
      ]
     },
     "execution_count": 106,
     "metadata": {},
     "output_type": "execute_result"
    },
    {
     "data": {
      "image/png": "[encoded data removed]",
      "text/plain": [
       "<matplotlib.figure.Figure at 0x111c59210>"
      ]
     },
     "metadata": {},
     "output_type": "display_data"
    }
   ],
   "source": [
    "plt.plot(numpy.diff(my_model_1[:5264]))"
   ]
  },
  {
   "cell_type": "code",
   "execution_count": 73,
   "metadata": {
    "collapsed": false
   },
   "outputs": [
    {
     "data": {
      "text/plain": [
       "[<matplotlib.lines.Line2D at 0x110902410>]"
      ]
     },
     "execution_count": 73,
     "metadata": {},
     "output_type": "execute_result"
    },
    {
     "data": {
      "image/png": "[encoded data removed]",
      "text/plain": [
       "<matplotlib.figure.Figure at 0x10ffe87d0>"
      ]
     },
     "metadata": {},
     "output_type": "display_data"
    }
   ],
   "source": [
    "plt.plot(s1_en_diff)"
   ]
  },
  {
   "cell_type": "code",
   "execution_count": 74,
   "metadata": {
    "collapsed": false
   },
   "outputs": [
    {
     "data": {
      "image/png": "[encoded data removed]",
      "text/plain": [
       "<matplotlib.figure.Figure at 0x110918c50>"
      ]
     },
     "metadata": {},
     "output_type": "display_data"
    }
   ],
   "source": [
    "plt.plot(s1_en_diff)\n",
    "plt.yscale('log')"
   ]
  },
  {
   "cell_type": "code",
   "execution_count": 16,
   "metadata": {
    "collapsed": false
   },
   "outputs": [],
   "source": [
    "# from scipy.stats.mstats import gmean"
   ]
  },
  {
   "cell_type": "code",
   "execution_count": 23,
   "metadata": {
    "collapsed": false
   },
   "outputs": [],
   "source": [
    "# gmean([ff1[0][0], ff1[0][1]])"
   ]
  },
  {
   "cell_type": "code",
   "execution_count": 107,
   "metadata": {
    "collapsed": false
   },
   "outputs": [
    {
     "data": {
      "text/plain": [
       "array([ 10.        ,  10.01613271,  10.03229144,  10.04847624,\n",
       "        10.06468715,  10.08092422,  10.09718748,  10.11347697,\n",
       "        10.12979275,  10.14613485])"
      ]
     },
     "execution_count": 107,
     "metadata": {},
     "output_type": "execute_result"
    }
   ],
   "source": [
    "energy_array[0:10]"
   ]
  },
  {
   "cell_type": "code",
   "execution_count": 112,
   "metadata": {
    "collapsed": false
   },
   "outputs": [],
   "source": [
    "a = numpy.array(ff1[0])"
   ]
  },
  {
   "cell_type": "code",
   "execution_count": 113,
   "metadata": {
    "collapsed": false
   },
   "outputs": [
    {
     "data": {
      "text/plain": [
       "array([  5.17000008e+00,   5.52156019e+00,   5.89703012e+00,\n",
       "         6.29803491e+00,   6.72630501e+00,   7.18369508e+00,\n",
       "         7.67218995e+00,   8.19390011e+00,   8.75108528e+00,\n",
       "         9.34616518e+00,   9.98169518e+00,   1.06604500e+01,\n",
       "         1.13853998e+01,   1.21595998e+01,   1.29864497e+01,\n",
       "         1.38695498e+01,   1.48126497e+01,   1.58198996e+01,\n",
       "         1.68956995e+01,   1.80446501e+01,   1.92716999e+01,\n",
       "         2.05821495e+01,   2.19816999e+01,   2.34765005e+01,\n",
       "         2.50729504e+01,   2.67778997e+01,   2.85987997e+01,\n",
       "         3.05435495e+01,   3.26204996e+01,   3.48386993e+01,\n",
       "         3.72077484e+01,   3.97378998e+01,   4.24401016e+01,\n",
       "         4.53260002e+01,   4.84081993e+01,   5.17000008e+01,\n",
       "         5.52156010e+01,   5.89703007e+01,   6.29803505e+01,\n",
       "         6.72630501e+01,   7.18369484e+01,   7.67218475e+01,\n",
       "         8.19389496e+01,   8.75108490e+01,   9.34616470e+01,\n",
       "         9.98169479e+01,   1.06604500e+02,   1.13854000e+02,\n",
       "         1.21596001e+02,   1.29864498e+02,   1.38695496e+02,\n",
       "         1.48126495e+02,   1.58198997e+02,   1.68957001e+02,\n",
       "         1.80446503e+02,   1.92717003e+02,   2.05821503e+02,\n",
       "         2.19817001e+02,   2.34764999e+02,   2.50729500e+02,\n",
       "         2.67779007e+02,   2.85988007e+02,   3.05435501e+02,\n",
       "         3.26205002e+02,   3.48386993e+02,   3.72077499e+02,\n",
       "         3.97379013e+02,   4.24401001e+02,   4.53259995e+02,\n",
       "         4.84082001e+02,   5.17000000e+02,   5.52156006e+02,\n",
       "         5.89703003e+02,   6.29803009e+02,   6.72630005e+02,\n",
       "         7.18369507e+02,   7.67218506e+02,   8.19389496e+02,\n",
       "         8.75108490e+02,   9.34616486e+02,   9.98169495e+02,\n",
       "         1.06604498e+03,   1.13853998e+03,   1.21595996e+03,\n",
       "         1.29864496e+03,   1.38695502e+03,   1.48126501e+03,\n",
       "         1.58198999e+03,   1.68957001e+03,   1.80446503e+03,\n",
       "         1.92717004e+03,   2.05821497e+03,   2.19816992e+03,\n",
       "         2.34765002e+03,   2.50729504e+03,   2.67779004e+03,\n",
       "         2.85988000e+03,   3.05435498e+03,   3.26205005e+03,\n",
       "         3.48387000e+03,   3.72077502e+03,   3.97379004e+03,\n",
       "         4.24401001e+03,   4.53260498e+03,   4.84082495e+03,\n",
       "         5.17000000e+03,   5.52156006e+03,   5.89703003e+03,\n",
       "         6.29803003e+03,   6.72630005e+03,   7.18369507e+03,\n",
       "         7.67218506e+03,   8.19389502e+03,   8.75108496e+03,\n",
       "         9.34616504e+03,   9.98169531e+03,   1.06604502e+04,\n",
       "         1.13853999e+04,   1.21596001e+04,   1.29864502e+04,\n",
       "         1.38695498e+04,   1.48126499e+04,   1.58198999e+04,\n",
       "         1.68957002e+04,   1.80446006e+04,   1.92716006e+04,\n",
       "         2.05821006e+04,   2.19817002e+04,   2.34765000e+04,\n",
       "         2.50729004e+04,   2.67778506e+04,   2.85987998e+04,\n",
       "         3.05435000e+04,   3.26204512e+04,   3.48387012e+04,\n",
       "         3.72077500e+04,   3.97379004e+04,   4.24401016e+04,\n",
       "         4.53260000e+04,   4.84081992e+04])"
      ]
     },
     "execution_count": 113,
     "metadata": {},
     "output_type": "execute_result"
    }
   ],
   "source": [
    "a"
   ]
  },
  {
   "cell_type": "code",
   "execution_count": 75,
   "metadata": {
    "collapsed": false,
    "scrolled": true
   },
   "outputs": [
    {
     "data": {
      "image/png": "[encoded data removed]",
      "text/plain": [
       "<matplotlib.figure.Figure at 0x110db07d0>"
      ]
     },
     "metadata": {},
     "output_type": "display_data"
    }
   ],
   "source": [
    "def Band_fnu_w100keV(Energy, **Pars):\n",
    "    alpha = float(Pars['alpha'])\n",
    "    beta = float(Pars['beta'])\n",
    "    efold = float(Pars['efold']) # efolding energy\n",
    "    norm = float(Pars['norm'])\n",
    "    eng = numpy.array(Energy)\n",
    "\n",
    "    flux = []\n",
    "    for i in range(len(eng)-1):  \n",
    "        if eng[i] < ((alpha-beta)*efold):\n",
    "            multiplier = (-100.**-alpha) * efold**(alpha+1.) \n",
    "            lowIntegral = float(sy.uppergamma(alpha+1., eng[i]/efold ))\n",
    "            highIntegral = float(sy.uppergamma(alpha+1., eng[i+1]/efold ))\n",
    "            eqn = multiplier * (highIntegral - lowIntegral)\n",
    "            flux.append(eqn)\n",
    "\n",
    "        else:\n",
    "            multiplier = ((100**-alpha) * ((alpha-beta)**(alpha-beta)) * numpy.exp(beta-alpha) * (efold**(alpha-beta))) * (1./(beta+1.))\n",
    "            lowIntegral = (eng[i]**(beta+1.))\n",
    "            highIntegral = (eng[i+1]**(beta+1.))\n",
    "            eqn = multiplier * (highIntegral - lowIntegral)\n",
    "            flux.append(eqn)\n",
    "    return flux\n",
    "    \n",
    "    \n",
    "    \n",
    "    \n",
    "\n",
    "def Band_fnu(Energy, **Pars):\n",
    "    alpha = float(Pars['alpha'])\n",
    "    beta = float(Pars['beta'])\n",
    "    efold = float(Pars['efold']) # efolding energy\n",
    "    norm = float(Pars['norm'])\n",
    "    eng = numpy.array(Energy)\n",
    "\n",
    "    flux = []\n",
    "    for i in range(len(eng)-1):  \n",
    "        if eng[i] < ((alpha-beta)*efold):\n",
    "            multiplier = (efold**(alpha+1.))\n",
    "            lowIntegral = float(sy.uppergamma(alpha+1., eng[i]/efold ))\n",
    "            highIntegral = float(sy.uppergamma(alpha+1., eng[i+1]/efold ))\n",
    "            eqn = multiplier * (lowIntegral - highIntegral)\n",
    "            #eqn = multiplier * (highIntegral - lowIntegral)\n",
    "            flux.append(eqn)\n",
    "            \n",
    "        else:\n",
    "            multiplier = ((alpha-beta)**(alpha-beta) * -numpy.exp(beta-alpha) * (efold**(alpha-beta))) * (1./(beta+1.))\n",
    "            lowIntegral = (eng[i]**(beta+1.))\n",
    "            highIntegral = (eng[i+1]**(beta+1.))\n",
    "            eqn = multiplier * (lowIntegral - highIntegral)\n",
    "            flux.append(eqn)\n",
    "    return flux\n",
    "    \n",
    "\n",
    "plt.figure(figsize=(11,7))\n",
    "\n",
    "plt.plot(Energy_Array_Dat[:-1],  Band_fnu_w100keV(Energy_Array_Dat, **params), 'b--', label='w 100keV data Energy Array')\n",
    "plt.plot(Energy_Array_Dat[:-1],  Band_fnu(Energy_Array_Dat, **params), 'r--', label='w/o 100keV data Energy Array')\n",
    "\n",
    "plt.plot(energy_array[:-1],  Band_fnu_w100keV(energy_array, **params), 'k--', label='w 100keV our Energy Array')\n",
    "plt.plot(energy_array[:-1],  Band_fnu(energy_array, **params), 'k-', label='w/o 100keV our Energy Array')\n",
    "\n",
    "# plotting xspec results for emodel.\n",
    "plt.plot(ff1[0], ff1[3], '-.', color='green', label='data')\n",
    "plt.legend(loc='best')\n",
    "plt.plot(ff2[0], ff2[3], '-.', color='green')\n",
    "plt.plot(ff3[0], ff3[3], '-.', color='green')\n",
    "\n",
    "\n",
    "#plt.ylim(1E-7, 1)\n",
    "plt.xlim(5, 5E+7)\n",
    "plt.xscale('log')\n",
    "plt.yscale('log')\n"
   ]
  },
  {
   "cell_type": "code",
   "execution_count": 76,
   "metadata": {
    "collapsed": true
   },
   "outputs": [],
   "source": [
    "my_model_1 = Band_fnu_w100keV(energy_array, **params)\n",
    "my_model_2 = Band_fnu(energy_array, **params)"
   ]
  },
  {
   "cell_type": "code",
   "execution_count": 102,
   "metadata": {
    "collapsed": false
   },
   "outputs": [],
   "source": [
    "#ff1[-1] 48408.199219"
   ]
  },
  {
   "cell_type": "code",
   "execution_count": 81,
   "metadata": {
    "collapsed": false
   },
   "outputs": [
    {
     "data": {
      "text/plain": [
       "[<matplotlib.lines.Line2D at 0x111252450>]"
      ]
     },
     "execution_count": 81,
     "metadata": {},
     "output_type": "execute_result"
    },
    {
     "data": {
      "image/png": "[encoded data removed]",
      "text/plain": [
       "<matplotlib.figure.Figure at 0x1108b8a10>"
      ]
     },
     "metadata": {},
     "output_type": "display_data"
    }
   ],
   "source": [
    "plt.plot(numpy.diff(my_model_2))"
   ]
  },
  {
   "cell_type": "code",
   "execution_count": null,
   "metadata": {
    "collapsed": true
   },
   "outputs": [],
   "source": []
  },
  {
   "cell_type": "code",
   "execution_count": null,
   "metadata": {
    "collapsed": true
   },
   "outputs": [],
   "source": []
  },
  {
   "cell_type": "code",
   "execution_count": null,
   "metadata": {
    "collapsed": false,
    "scrolled": false
   },
   "outputs": [],
   "source": [
    "energy_diff = numpy.diff(ff1[0]); energy_diff"
   ]
  },
  {
   "cell_type": "code",
   "execution_count": null,
   "metadata": {
    "collapsed": false
   },
   "outputs": [],
   "source": [
    "emodel_diff = numpy.diff(ff1[3]); emodel_diff"
   ]
  },
  {
   "cell_type": "code",
   "execution_count": null,
   "metadata": {
    "collapsed": false
   },
   "outputs": [],
   "source": [
    "plt.plot(numpy.diff(energy_array))"
   ]
  },
  {
   "cell_type": "code",
   "execution_count": null,
   "metadata": {
    "collapsed": false
   },
   "outputs": [],
   "source": [
    "plt.plot(energy_diff)"
   ]
  },
  {
   "cell_type": "code",
   "execution_count": null,
   "metadata": {
    "collapsed": true
   },
   "outputs": [],
   "source": [
    "plt.figure(figsize=(11,7))\n",
    "plt.plot(numpy.diff(energy_array))\n",
    "plt.minorticks_on()\n",
    "plt.yscale('log')"
   ]
  },
  {
   "cell_type": "code",
   "execution_count": null,
   "metadata": {
    "collapsed": false
   },
   "outputs": [],
   "source": [
    "plt.plot(energy_diff)\n",
    "plt.yscale('log')"
   ]
  },
  {
   "cell_type": "code",
   "execution_count": null,
   "metadata": {
    "collapsed": false,
    "scrolled": true
   },
   "outputs": [],
   "source": [
    "plt.plot(emodel_diff)"
   ]
  },
  {
   "cell_type": "code",
   "execution_count": null,
   "metadata": {
    "collapsed": false
   },
   "outputs": [],
   "source": [
    "plt.plot(emodel_diff/energy_diff)"
   ]
  },
  {
   "cell_type": "markdown",
   "metadata": {},
   "source": [
    "## (lowIntegral - highIntegral) works as well if you switch a few - signs around.  I present this version because this is the setup the PyXspec example gave.  You need to add a - sign to the 2nd part and take away the - sign in the first part.  This example won't match the + and - signs that Wolfram Alpha gives you."
   ]
  },
  {
   "cell_type": "code",
   "execution_count": null,
   "metadata": {
    "collapsed": false
   },
   "outputs": [],
   "source": [
    "def Band_fnu_w100keV_2(Energy, **Pars):\n",
    "    alpha = float(Pars['alpha'])\n",
    "    beta = float(Pars['beta'])\n",
    "    efold = float(Pars['efold']) # efolding energy\n",
    "    norm = float(Pars['norm'])\n",
    "    eng = numpy.array(Energy)\n",
    "\n",
    "    flux = []\n",
    "    for i in range(len(eng)-1):  \n",
    "        if eng[i] < ((alpha-beta)*efold):\n",
    "            multiplier = (100.**-alpha) * efold**(alpha+1.) \n",
    "            lowIntegral = float(sy.uppergamma(alpha+1., eng[i]/efold ))\n",
    "            highIntegral = float(sy.uppergamma(alpha+1., eng[i+1]/efold ))\n",
    "            eqn = multiplier * (lowIntegral - highIntegral)\n",
    "            flux.append(eqn)\n",
    "\n",
    "        else:\n",
    "            multiplier = ((100**-alpha) * (alpha-beta)**(alpha-beta) * -numpy.exp(beta-alpha) * (efold**(alpha-beta))) * (1./(beta+1.))\n",
    "            lowIntegral = (eng[i]**(beta+1.))\n",
    "            highIntegral = (eng[i+1]**(beta+1.))\n",
    "            eqn = multiplier * (lowIntegral - highIntegral)\n",
    "            flux.append(eqn)\n",
    "\n",
    "    return flux\n",
    "    \n",
    "    \n",
    "    \n",
    "    \n",
    "\n",
    "def Band_fnu_2(Energy, **Pars):\n",
    "    alpha = float(Pars['alpha'])\n",
    "    beta = float(Pars['beta'])\n",
    "    efold = float(Pars['efold']) # efolding energy\n",
    "    norm = float(Pars['norm'])\n",
    "    eng = numpy.array(Energy)\n",
    "\n",
    "    flux = []\n",
    "    for i in range(len(eng)-1):  \n",
    "        if eng[i] < ((alpha-beta)*efold):\n",
    "            multiplier = efold**(alpha+1.)\n",
    "            lowIntegral = float(sy.uppergamma(alpha+1., eng[i]/efold ))\n",
    "            highIntegral = float(sy.uppergamma(alpha+1., eng[i+1]/efold ))\n",
    "            eqn = multiplier * (lowIntegral - highIntegral)\n",
    "            flux.append(eqn)\n",
    "\n",
    "        else:\n",
    "            multiplier = ((alpha-beta)**(alpha-beta) * -numpy.exp(beta-alpha) * (efold**(alpha-beta))) * (1./(beta+1.))\n",
    "            lowIntegral = (eng[i]**(beta+1.))\n",
    "            highIntegral = (eng[i+1]**(beta+1.))\n",
    "            eqn = multiplier * (lowIntegral - highIntegral)\n",
    "            flux.append(eqn)\n",
    "            \n",
    "    return flux\n",
    "    \n",
    "\n",
    "plt.figure(figsize=(11,7))\n",
    "plt.plot(energy_array[:-1],  Band_fnu_2(energy_array, **params), 'r-')\n",
    "plt.plot(energy_array[:-1],  Band_fnu_w100keV_2(energy_array, **params), 'b-')\n",
    "\n",
    "# plotting xspec results for emodel.\n",
    "plt.plot(ff1[0], ff1[3], '-.', color='green')\n",
    "plt.plot(ff2[0], ff2[3], '-.', color='green')\n",
    "plt.plot(ff3[0], ff3[3], '-.', color='green')\n",
    "\n",
    "\n",
    "#plt.ylim(1E-7, 1)\n",
    "plt.xlim(5, 5E+7)\n",
    "plt.xscale('log')\n",
    "plt.yscale('log')"
   ]
  },
  {
   "cell_type": "markdown",
   "metadata": {},
   "source": [
    "## Adding in the normalization "
   ]
  },
  {
   "cell_type": "code",
   "execution_count": null,
   "metadata": {
    "collapsed": false
   },
   "outputs": [],
   "source": [
    "def band_100keV(Energy, **Pars):\n",
    "    alpha = float(Pars['alpha'])\n",
    "    beta = float(Pars['beta'])\n",
    "    efold = float(Pars['efold']) # efolding energy\n",
    "    norm = float(Pars['norm'])\n",
    "    eng = numpy.array(Energy)\n",
    "    #flux = numpy.zeros(len(eng))\n",
    "\n",
    "    flux = []\n",
    "    for i in range(len(eng)-1):  \n",
    "        if eng[i] < ((alpha-beta)*efold):\n",
    "            multiplier = norm*(100.**-alpha) * efold**(alpha+1.) \n",
    "            lowIntegral = float(sy.uppergamma(alpha+1., eng[i]/efold ))\n",
    "            highIntegral = float(sy.uppergamma(alpha+1., eng[i+1]/efold ))\n",
    "            eqn = multiplier * (lowIntegral - highIntegral)\n",
    "            flux.append(eqn)\n",
    "            #flux[i] = eqn\n",
    "            #print flux[i]\n",
    "        else:\n",
    "            multiplier = norm*((100**-alpha) * (alpha-beta)**(alpha-beta) * -numpy.exp(beta-alpha) * (efold**(alpha-beta))) * (1./(beta+1.))\n",
    "            lowIntegral = (eng[i]**(beta+1.))\n",
    "            highIntegral = (eng[i+1]**(beta+1.))\n",
    "            eqn = multiplier * (lowIntegral - highIntegral)\n",
    "            flux.append(eqn)\n",
    "            #flux[i] = eqn\n",
    "            #print flux[i]\n",
    "            #eqn = ((100**-alpha) * (alpha-beta)**(alpha-beta) * -1*numpy.exp(beta-alpha) * eng**(beta+1.) * efold**(alpha-beta)) * (1./(beta+1.))\n",
    "            #return eqn\n",
    "    return flux\n",
    "    \n",
    "    \n",
    "    \n",
    "    \n",
    "\n",
    "def band(Energy, **Pars):\n",
    "    alpha = float(Pars['alpha'])\n",
    "    beta = float(Pars['beta'])\n",
    "    efold = float(Pars['efold']) # efolding energy\n",
    "    norm = float(Pars['norm'])\n",
    "    eng = numpy.array(Energy)\n",
    "    #flux = numpy.zeros(len(eng))\n",
    "\n",
    "    flux = []\n",
    "    for i in range(len(eng)-1):  \n",
    "        if eng[i] < ((alpha-beta)*efold):\n",
    "            multiplier = norm*(efold**(alpha+1.))\n",
    "            lowIntegral = float(sy.uppergamma(alpha+1., eng[i]/efold ))\n",
    "            highIntegral = float(sy.uppergamma(alpha+1., eng[i+1]/efold ))\n",
    "            eqn = multiplier * (lowIntegral - highIntegral)\n",
    "            flux.append(eqn)\n",
    "            #flux[i] = eqn\n",
    "            #print flux[i]\n",
    "        else:\n",
    "            multiplier = norm * ((alpha-beta)**(alpha-beta) * -numpy.exp(beta-alpha) * (efold**(alpha-beta))) * (1./(beta+1.))\n",
    "            lowIntegral = (eng[i]**(beta+1.))\n",
    "            highIntegral = (eng[i+1]**(beta+1.))\n",
    "            eqn = multiplier * (lowIntegral - highIntegral)\n",
    "            flux.append(eqn)\n",
    "            #flux[i] = eqn\n",
    "            #print flux[i]\n",
    "            #eqn = ((100**-alpha) * (alpha-beta)**(alpha-beta) * -1*numpy.exp(beta-alpha) * eng**(beta+1.) * efold**(alpha-beta)) * (1./(beta+1.))\n",
    "            #return eqn\n",
    "    return flux\n",
    "    \n",
    "\n",
    "plt.figure(figsize=(11,7))\n",
    "plt.plot(energy_array[:-1],  band(energy_array, **params), 'r-')\n",
    "plt.plot(energy_array[:-1],  band_100keV(energy_array, **params), 'b-')\n",
    "#plt.ylim(1E-7, 1)\n",
    "plt.xlim(5, 5E+7)\n",
    "plt.xscale('log')\n",
    "plt.yscale('log')"
   ]
  },
  {
   "cell_type": "markdown",
   "metadata": {},
   "source": [
    "def band(Energy, params):\n",
    "    engs = float(Energy)\n",
    "    a = float(params[0]) # alpha: low-energy index\n",
    "    b = float(params[1]) # beta: high-energy index\n",
    "    efold = float(params[2]) # e-folding energy, E_0\n",
    "    a=alpha\n",
    "    b=beta\n",
    "    efold = efolding\n",
    "\n",
    "    if engs < ((a - b) * efold):\n",
    "        #eqn = ((100.**(-a)) * (efold**(a+1.))) * (float(mp.gammainc(a + 1., a=engs/efold)))\n",
    "        eqn = (100.**-a) * efold * (engs**a) * ((engs/efold)**-a) * (float(mp.gammainc(a + 1., a=engs/efold)))\n",
    "\n",
    "    else:\n",
    "        eqn = (100.**-a) * -math.exp(b-a) * (engs**(b+1.)) * ((efold*(a-b))**(a-b)) * (1./(b+1.))\n",
    "    return eqn"
   ]
  },
  {
   "cell_type": "code",
   "execution_count": null,
   "metadata": {
    "collapsed": true
   },
   "outputs": [],
   "source": []
  },
  {
   "cell_type": "code",
   "execution_count": null,
   "metadata": {
    "collapsed": true
   },
   "outputs": [],
   "source": []
  },
  {
   "cell_type": "code",
   "execution_count": null,
   "metadata": {
    "collapsed": true
   },
   "outputs": [],
   "source": [
    "# This is the form that Wolfram alpha spits out, assuming that alpha, energy and efold are all positive.\n",
    "def band1(Energy, **Pars):\n",
    "    alpha = float(Pars['alpha'])\n",
    "    beta = float(Pars['beta'])\n",
    "    efold = float(Pars['efold']) # efolding energy\n",
    "    norm = float(Pars['norm'])\n",
    "    eng = numpy.array(Energy)\n",
    "    #flux = numpy.zeros(len(eng))\n",
    "\n",
    "    flux = []\n",
    "    for i in range(len(eng)-1):  \n",
    "        if eng[i] < ((alpha-beta)*efold):\n",
    "            multiplier = efold**(alpha+1.)\n",
    "            lowIntegral = float(sy.uppergamma(alpha+1., eng[i]/efold ))\n",
    "            highIntegral = float(sy.uppergamma(alpha+1., eng[i+1]/efold ))\n",
    "            eqn = multiplier * (lowIntegral - highIntegral)\n",
    "            flux.append(eqn)\n",
    "            #flux[i] = eqn\n",
    "            #print flux[i]\n",
    "        else:\n",
    "            multiplier = ((alpha-beta)**(alpha-beta) * -numpy.exp(beta-alpha) * (efold**(alpha-beta))) * (1./(beta+1.))\n",
    "            lowIntegral = (eng[i]**(beta+1.))\n",
    "            highIntegral = (eng[i+1]**(beta+1.))\n",
    "            eqn = multiplier * (lowIntegral - highIntegral)\n",
    "            flux.append(eqn)\n",
    "            #flux[i] = eqn\n",
    "            #print flux[i]\n",
    "            #eqn = ((100**-alpha) * (alpha-beta)**(alpha-beta) * -1*numpy.exp(beta-alpha) * eng**(beta+1.) * efold**(alpha-beta)) * (1./(beta+1.))\n",
    "            #return eqn\n",
    "    return flux\n",
    "    "
   ]
  },
  {
   "cell_type": "code",
   "execution_count": null,
   "metadata": {
    "collapsed": true
   },
   "outputs": [],
   "source": [
    "# This is the one I just changed to the aternative first part of band fn.  \n",
    "# This is the first option Wolfram Alpha shoots out and makes no assumptions \n",
    "# of positives for alpha, energy and efold.\n",
    "def band2(Energy, **Pars):\n",
    "    alpha = float(Pars['alpha'])\n",
    "    beta = float(Pars['beta'])\n",
    "    efold = float(Pars['efold']) # efolding energy\n",
    "    norm = float(Pars['norm'])\n",
    "    eng = numpy.array(Energy)\n",
    "    #flux = numpy.zeros(len(eng))\n",
    "\n",
    "    flux = []\n",
    "    for i in range(len(eng)-1):  \n",
    "        if eng[i] < ((alpha-beta)*efold):\n",
    "            #multiplier = efold**(alpha+1.)\n",
    "            multiplier = efold \n",
    "            lowIntegral = (eng[i]**alpha) * ((eng[i]/efold)**-alpha) * float(sy.uppergamma(alpha+1., eng[i]/efold ))\n",
    "            highIntegral = (eng[i+1]**alpha) * ((eng[i+1]/efold)**-alpha) * float(sy.uppergamma(alpha+1., eng[i+1]/efold ))\n",
    "            eqn = multiplier * (lowIntegral - highIntegral)\n",
    "            flux.append(eqn)\n",
    "            #flux[i] = eqn\n",
    "            #print flux[i]\n",
    "        else:\n",
    "            multiplier = ((alpha-beta)**(alpha-beta) * -numpy.exp(beta-alpha) * (efold**(alpha-beta))) * (1./(beta+1.))\n",
    "            lowIntegral = (eng[i]**(beta+1.))\n",
    "            highIntegral = (eng[i+1]**(beta+1.))\n",
    "            eqn = multiplier * (lowIntegral - highIntegral)\n",
    "            flux.append(eqn)\n",
    "            #flux[i] = eqn\n",
    "            #print flux[i]\n",
    "            #eqn = ((100**-alpha) * (alpha-beta)**(alpha-beta) * -1*numpy.exp(beta-alpha) * eng**(beta+1.) * efold**(alpha-beta)) * (1./(beta+1.))\n",
    "            #return eqn\n",
    "    return flux\n",
    "    "
   ]
  },
  {
   "cell_type": "code",
   "execution_count": null,
   "metadata": {
    "collapsed": false
   },
   "outputs": [],
   "source": [
    "plt.plot(energy_array[:-1],  band1(energy_array, **params), 'r-')\n",
    "plt.plot(energy_array[:-1],  band2(energy_array, **params), 'b--')\n",
    "#plt.ylim(1E-7, 1)\n",
    "plt.xlim(5, 5E+7)\n",
    "plt.xscale('log')\n",
    "plt.yscale('log')"
   ]
  },
  {
   "cell_type": "markdown",
   "metadata": {},
   "source": [
    "# $\\nu F_{\\nu}$"
   ]
  },
  {
   "cell_type": "markdown",
   "metadata": {},
   "source": [
    "## These next two are $\\nu F_{\\nu}$.\n",
    "You take the Band function, multiply it by another factor of energy and integrate it.  "
   ]
  },
  {
   "cell_type": "code",
   "execution_count": null,
   "metadata": {
    "collapsed": false,
    "scrolled": true
   },
   "outputs": [],
   "source": [
    "# This is the form that Wolfram alpha spits out, assuming that alpha, energy, and efold are all positive.\n",
    "# This is usually the last one Wolfram Alpha spits out as an answer.\n",
    "def band1(Energy, **Pars):\n",
    "    alpha = float(Pars['alpha'])\n",
    "    beta = float(Pars['beta'])\n",
    "    efold = float(Pars['efold']) # efolding energy\n",
    "    norm = float(Pars['norm'])\n",
    "    eng = numpy.array(Energy)\n",
    "\n",
    "    flux = []\n",
    "    for i in range(len(eng)-1):  \n",
    "        if eng[i] < ((alpha-beta)*efold):\n",
    "            multiplier = efold**(alpha+2.)\n",
    "            lowIntegral = float(sy.uppergamma(alpha+2., eng[i]/efold ))\n",
    "            highIntegral = float(sy.uppergamma(alpha+2., eng[i+1]/efold ))\n",
    "            eqn = multiplier * (lowIntegral - highIntegral)\n",
    "            flux.append(eqn)\n",
    "            #flux[i] = eqn\n",
    "            #print flux[i]\n",
    "        else:\n",
    "            multiplier = ((alpha-beta)**(alpha-beta) * -numpy.exp(beta-alpha) * (efold**(alpha-beta))) * (1./(beta+2.))\n",
    "            lowIntegral = (eng[i]**(beta+2.))\n",
    "            highIntegral = (eng[i+1]**(beta+2.))\n",
    "            eqn = multiplier * (lowIntegral - highIntegral)\n",
    "            flux.append(eqn)\n",
    "    return flux\n",
    "    \n",
    "\n",
    "# This option is the first Wolfram Alpha spits out.  It makes no assumtions of positive parameters.\n",
    "# I only changed the first part of the Band fn.  You can check that the 2nd part is also consistent between\n",
    "# Wolfram solutions by doing some basic algebra.\n",
    "def band2(Energy, **Pars):\n",
    "    alpha = float(Pars['alpha'])\n",
    "    beta = float(Pars['beta'])\n",
    "    efold = float(Pars['efold']) # efolding energy\n",
    "    norm = float(Pars['norm'])\n",
    "    eng = numpy.array(Energy)\n",
    "\n",
    "    flux = []\n",
    "    for i in range(len(eng)-1):  \n",
    "        if eng[i] < ((alpha-beta)*efold):\n",
    "            multiplier = (efold**2)\n",
    "            lowIntegral = (eng[i]**alpha) * ((eng[i]/efold)**-alpha) * float(sy.uppergamma(alpha+2., eng[i]/efold ))\n",
    "            highIntegral = (eng[i+1]**alpha) * ((eng[i+1]/efold)**-alpha) * float(sy.uppergamma(alpha+2., eng[i+1]/efold ))\n",
    "            eqn = multiplier * (lowIntegral - highIntegral)\n",
    "            flux.append(eqn)\n",
    "        else:\n",
    "            multiplier = ((alpha-beta)**(alpha-beta) * -numpy.exp(beta-alpha) * (efold**(alpha-beta))) * (1./(beta+2.))\n",
    "            lowIntegral = (eng[i]**(beta+2.))\n",
    "            highIntegral = (eng[i+1]**(beta+2.))\n",
    "            eqn = multiplier * (lowIntegral - highIntegral)\n",
    "            flux.append(eqn)\n",
    "    return flux\n",
    "    \n",
    "\n",
    "plt.plot(energy_array[:-1],  band1(energy_array, **params), 'r-')\n",
    "plt.plot(energy_array[:-1],  band2(energy_array, **params), 'b--')\n",
    "\n",
    "#plt.ylim(1E-7, 1)\n",
    "plt.xlim(5, 5E+7)\n",
    "plt.xscale('log')\n",
    "plt.yscale('log')"
   ]
  },
  {
   "cell_type": "code",
   "execution_count": null,
   "metadata": {
    "collapsed": true
   },
   "outputs": [],
   "source": [
    "# This is the form that Wolfram alpha spits out, assuming that alpha, energy, and efold are all positive.\n",
    "# This is usually the last one Wolfram Alpha spits out as an answer.\n",
    "def band1(Energy, **Pars):\n",
    "    alpha = float(Pars['alpha'])\n",
    "    beta = float(Pars['beta'])\n",
    "    efold = float(Pars['efold']) # efolding energy\n",
    "    norm = float(Pars['norm'])\n",
    "    eng = numpy.array(Energy)\n",
    "\n",
    "    flux = []\n",
    "    for i in range(len(eng)-1):  \n",
    "        if eng[i] < ((alpha-beta)*efold):\n",
    "            multiplier = efold**(alpha+2.)\n",
    "            lowIntegral = float(sy.uppergamma(alpha+2., eng[i]/efold ))\n",
    "            highIntegral = float(sy.uppergamma(alpha+2., eng[i+1]/efold ))\n",
    "            eqn = multiplier * (lowIntegral - highIntegral)\n",
    "            flux.append(eqn)\n",
    "            #flux[i] = eqn\n",
    "            #print flux[i]\n",
    "        else:\n",
    "            multiplier = ((alpha-beta)**(alpha-beta) * -numpy.exp(beta-alpha) * (efold**(alpha-beta))) * (1./(beta+2.))\n",
    "            lowIntegral = (eng[i]**(beta+2.))\n",
    "            highIntegral = (eng[i+1]**(beta+2.))\n",
    "            eqn = multiplier * (lowIntegral - highIntegral)\n",
    "            flux.append(eqn)\n",
    "    return flux\n",
    "plt.plot(energy_array[:-1],  band2(energy_array, **params), 'b--')\n",
    "\n",
    "#plt.ylim(1E-7, 1)\n",
    "plt.xlim(5, 5E+7)\n",
    "plt.xscale('log')\n",
    "plt.yscale('log')  "
   ]
  },
  {
   "cell_type": "code",
   "execution_count": null,
   "metadata": {
    "collapsed": true
   },
   "outputs": [],
   "source": [
    "# plotting xspec results for emodel.\n",
    "plt.plot(ff1[0], ff1[3], '-.', color='green')\n",
    "plt.plot(ff2[0], ff2[3], '-.', color='green')\n",
    "plt.plot(ff3[0], ff3[3], '-.', color='green')"
   ]
  },
  {
   "cell_type": "markdown",
   "metadata": {},
   "source": [
    "### Testing if we change the negative signs to what Wolfram Alpha gives, and swapping (lowIntegral - highIntegral) to (highIntegral-lowIntegral) to see if it is consistent, and it is."
   ]
  },
  {
   "cell_type": "code",
   "execution_count": null,
   "metadata": {
    "collapsed": false
   },
   "outputs": [],
   "source": [
    "# This is the form that Wolfram alpha spits out where we assume all parameters are positive.  \n",
    "# It's the same as all the rest it spits out.\n",
    "\n",
    "def band1(Energy, **Pars):\n",
    "    alpha = float(Pars['alpha'])\n",
    "    beta = float(Pars['beta'])\n",
    "    efold = float(Pars['efold']) # efolding energy\n",
    "    norm = float(Pars['norm'])\n",
    "    eng = numpy.array(Energy)\n",
    "\n",
    "    flux = []\n",
    "    for i in range(len(eng)-1):  \n",
    "        if eng[i] < ((alpha-beta)*efold):\n",
    "            multiplier = efold**(alpha+2.)\n",
    "            lowIntegral = float(sy.uppergamma(alpha+2., eng[i]/efold ))\n",
    "            highIntegral = float(sy.uppergamma(alpha+2., eng[i+1]/efold ))\n",
    "            eqn = -multiplier * (highIntegral - lowIntegral)\n",
    "            flux.append(eqn)\n",
    "\n",
    "        else:\n",
    "            multiplier = ((alpha-beta)**(alpha-beta) * numpy.exp(beta-alpha) * (efold**(alpha-beta))) * (1./(beta+2.))\n",
    "            lowIntegral = (eng[i]**(beta+2.))\n",
    "            highIntegral = (eng[i+1]**(beta+2.))\n",
    "            eqn = multiplier * (highIntegral - lowIntegral)\n",
    "            flux.append(eqn)\n",
    "    return flux\n",
    "\n",
    "\n",
    "\n",
    "# This is the one I just changed to the aternative first part of band fn.  \n",
    "# This is the first option Wolfram Alpha shoots out and makes no assumptions \n",
    "# of positives for alpha, energy and efold.\n",
    "def band2(Energy, **Pars):\n",
    "    alpha = float(Pars['alpha'])\n",
    "    beta = float(Pars['beta'])\n",
    "    efold = float(Pars['efold']) # efolding energy\n",
    "    norm = float(Pars['norm'])\n",
    "    eng = numpy.array(Energy)\n",
    "\n",
    "    flux = []\n",
    "    for i in range(len(eng)-1):  \n",
    "        if eng[i] < ((alpha-beta)*efold):\n",
    "            multiplier = (efold**2)\n",
    "            lowIntegral = (eng[i]**alpha) * ((eng[i]/efold)**-alpha) * float(sy.uppergamma(alpha+2., eng[i]/efold ))\n",
    "            highIntegral = (eng[i+1]**alpha) * ((eng[i+1]/efold)**-alpha) * float(sy.uppergamma(alpha+2., eng[i+1]/efold ))\n",
    "            eqn = multiplier * (lowIntegral - highIntegral)\n",
    "            flux.append(eqn)\n",
    "        else:\n",
    "            multiplier = ((alpha-beta)**(alpha-beta) * -numpy.exp(beta-alpha) * (efold**(alpha-beta))) * (1./(beta+2.))\n",
    "            lowIntegral = (eng[i]**(beta+2.))\n",
    "            highIntegral = (eng[i+1]**(beta+2.))\n",
    "            eqn = multiplier * (lowIntegral - highIntegral)\n",
    "            flux.append(eqn)\n",
    "    return flux\n",
    "\n",
    "plt.figure(figsize=(11,7))\n",
    "plt.plot(energy_array[:-1],  band1(energy_array, **params), 'r-')\n",
    "plt.plot(energy_array[:-1],  band2(energy_array, **params), 'b--')\n",
    "#plt.ylim(1E-7, 1)\n",
    "plt.xlim(5, 5E+7)\n",
    "plt.xscale('log')\n",
    "plt.yscale('log')"
   ]
  },
  {
   "cell_type": "markdown",
   "metadata": {},
   "source": [
    " "
   ]
  },
  {
   "cell_type": "markdown",
   "metadata": {},
   "source": [
    "# N(E) or model plot"
   ]
  },
  {
   "cell_type": "markdown",
   "metadata": {},
   "source": [
    "#### epeak = efold \\* (alpha+2)\n",
    "#### ebreak = efold \\* (alpha - beta) = ((alpha-beta) \\* epeak) / (alpha+2.)"
   ]
  },
  {
   "cell_type": "markdown",
   "metadata": {},
   "source": [
    "### Because there is no integration for this one, we don't have to worry about correct - + signs.  That only arrises during the integration."
   ]
  },
  {
   "cell_type": "code",
   "execution_count": null,
   "metadata": {
    "collapsed": false
   },
   "outputs": [],
   "source": [
    "# This version of the band function is N(E), the Photon Flux Density, or known as model out of model, emodel, and eemodel.\n",
    "# This version \n",
    "def bandB(Energy, **Pars):\n",
    "    alpha = round(float(Pars['alpha']), 5)\n",
    "    beta = round(float(Pars['beta']), 5)\n",
    "    efold = round(float(Pars['efold']), 5) # efolding energy\n",
    "    norm = round(float(Pars['norm']), 5)\n",
    "    eng = float(Energy)\n",
    "\n",
    "    eqn = []\n",
    "    if eng <= ((alpha-beta)*efold):\n",
    "        eqn = norm*((1./100.)**(alpha))*(eng**alpha)*(numpy.exp(-(eng/efold)))\n",
    "        return eqn\n",
    "\n",
    "    else:\n",
    "        eqn = norm*((1./100.)**(alpha))*((eng**beta) * numpy.exp(-(alpha-beta)) * (((alpha-beta)*efold)**(alpha-beta)))\n",
    "        return eqn\n",
    "\n",
    "plt.figure(figsize=(11,7))\n",
    "for i in energy_array:\n",
    "    plt.plot(i,  bandB(i, **params), marker='.', markersize=2,  color='red')\n",
    "plt.plot(ff1[0], ff1[2], '-.', color='green')\n",
    "plt.plot(ff2[0], ff2[2], '-.', color='green')\n",
    "plt.plot(ff3[0], ff3[2], '-.', color='green')\n",
    "\n",
    "#plt.ylim(1E-13, 1E-12)\n",
    "plt.xlim(5, 5E+7)\n",
    "plt.xscale('log')\n",
    "plt.yscale('log')"
   ]
  },
  {
   "cell_type": "code",
   "execution_count": null,
   "metadata": {
    "collapsed": true
   },
   "outputs": [],
   "source": []
  },
  {
   "cell_type": "code",
   "execution_count": null,
   "metadata": {
    "collapsed": true
   },
   "outputs": [],
   "source": []
  },
  {
   "cell_type": "code",
   "execution_count": null,
   "metadata": {
    "collapsed": true
   },
   "outputs": [],
   "source": []
  },
  {
   "cell_type": "code",
   "execution_count": null,
   "metadata": {
    "collapsed": true
   },
   "outputs": [],
   "source": []
  },
  {
   "cell_type": "code",
   "execution_count": null,
   "metadata": {
    "collapsed": true
   },
   "outputs": [],
   "source": []
  },
  {
   "cell_type": "code",
   "execution_count": null,
   "metadata": {
    "collapsed": true
   },
   "outputs": [],
   "source": []
  },
  {
   "cell_type": "markdown",
   "metadata": {},
   "source": [
    "def band(Energy, flux, **Pars):\n",
    "    alpha = float(Pars['alpha'])\n",
    "    beta = float(Pars['beta'])\n",
    "    efold = float(Pars['efold']) # efolding energy\n",
    "    norm = float(Pars['norm'])\n",
    "    eng = numpy.array(Energy)\n",
    "    flux = numpy.zeros(len(eng))\n",
    "\n",
    "\n",
    "    for i in range(len(eng)-1):  \n",
    "        if eng[i] < ((alpha-beta)*efold):\n",
    "            multiplier = (100**-alpha) * efold**(alpha+1.) \n",
    "            lowIntegral = float(mp.gammainc(alpha+1., eng[i]/efold ))\n",
    "            highIntegral = float(mp.gammainc(alpha+1., eng[i+1]/efold ))\n",
    "            eqn = multiplier * (lowIntegral - highIntegral)\n",
    "            flux[i] = eqn\n",
    "        else:\n",
    "            multiplier = ((100**-alpha) * (alpha-beta)**(alpha-beta) * -numpy.exp(beta-alpha) * (efold**(alpha-beta))) * (1./(beta+1.))\n",
    "            lowIntegral = (eng[i]**(beta+1.))\n",
    "            highIntegral = (eng[i+1]**(beta+1.))\n",
    "            eqn = multiplier * (lowIntegral - highIntegral)\n",
    "            flux[i] = eqn\n",
    "            #eqn = ((100**-alpha) * (alpha-beta)**(alpha-beta) * -1*numpy.exp(beta-alpha) * eng**(beta+1.) * efold**(alpha-beta)) * (1./(beta+1.))\n",
    "            #return eqn\n",
    "        return flux\n",
    "    "
   ]
  }
 ],
 "metadata": {
  "kernelspec": {
   "display_name": "Python 2",
   "language": "python",
   "name": "python2"
  },
  "language_info": {
   "codemirror_mode": {
    "name": "ipython",
    "version": 2
   },
   "file_extension": ".py",
   "mimetype": "text/x-python",
   "name": "python",
   "nbconvert_exporter": "python",
   "pygments_lexer": "ipython2",
   "version": "2.7.12"
  }
 },
 "nbformat": 4,
 "nbformat_minor": 0
}
