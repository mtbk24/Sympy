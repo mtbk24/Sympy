{
 "cells": [
  {
   "cell_type": "markdown",
   "metadata": {},
   "source": [
    "# Incomplete Gamma Funciton"
   ]
  },
  {
   "cell_type": "markdown",
   "metadata": {},
   "source": [
    "The Cutoff Power-law and the lower part of the Band Function are both the same function:"
   ]
  },
  {
   "cell_type": "markdown",
   "metadata": {},
   "source": [
    "\\begin{equation}\n",
    "f_{\\text{COMP}}(E) = E^{\\alpha} \\ \\text{exp} \\left( - \\frac{ E}{E_0} \\right).\n",
    "\\end{equation}"
   ]
  },
  {
   "cell_type": "markdown",
   "metadata": {},
   "source": [
    "When integrating this function to use for spectral modeling, it requires you to integrate over an exponentail of this format: <br>\n",
    "x = Energy, <br>\n",
    "a = $\\alpha$ <br>\n",
    "z = $E_0$ <br>\n",
    "<br>\n",
    "\\begin{equation}\n",
    "f(x) = x^{a} \\ \\text{exp} \\left( - \\frac{ x}{z} \\right).\n",
    "\\end{equation}"
   ]
  },
  {
   "cell_type": "markdown",
   "metadata": {},
   "source": [
    "Looking this up in a book under definite integrals involving exponentail functions gives us: "
   ]
  },
  {
   "cell_type": "markdown",
   "metadata": {},
   "source": [
    "\\begin{equation}\n",
    "\\int_{0}^{oo} x^n e^{-ax} dx = \\frac{\\Gamma \\left( n+1 \\right)}{a^{n+1}}\n",
    "\\end{equation}"
   ]
  },
  {
   "cell_type": "markdown",
   "metadata": {},
   "source": [
    "Here, x is the Energy, n is the $\\alpha$ parameter, and a is the factor of (1/$E_0$).\n",
    "$\\Gamma$ represents the Gamma Funciton.  Since n+1 is $\\alpha$+1 and alpha is always going to be less than 1 in our case, then $ n+1< 0 $ always.\n",
    "\n",
    "This gives us the lower incomplete gamma function."
   ]
  },
  {
   "cell_type": "markdown",
   "metadata": {},
   "source": [
    "### Definition of the Gamma Function  $\\Gamma(n)$  for $n > 0$ :"
   ]
  },
  {
   "cell_type": "markdown",
   "metadata": {},
   "source": [
    "\\begin{equation}\n",
    "\\Gamma(n) = \\int_{0}^{oo} t^{n-1} e^{-t} dt  \\ \\ \\ \\text{where} \\ \\ \\ n > 0.\n",
    "\\end{equation}"
   ]
  },
  {
   "cell_type": "markdown",
   "metadata": {},
   "source": [
    "### Recursion Formula"
   ]
  },
  {
   "cell_type": "markdown",
   "metadata": {},
   "source": [
    "\\begin{equation}\n",
    "\\Gamma(n+1) = n \\Gamma(n)\n",
    "\\end{equation}\n",
    "\n",
    "If n = 0, 1, 2, ..., a non-negative integer, we have the following (where 0! = 1):\n",
    "\n",
    "\\begin{equation}\n",
    "\\Gamma(n+1) = n!\n",
    "\\end{equation}"
   ]
  },
  {
   "cell_type": "markdown",
   "metadata": {},
   "source": [
    "### The Gamma Function for $n < 0$:"
   ]
  },
  {
   "cell_type": "markdown",
   "metadata": {},
   "source": [
    "\\begin{equation}\n",
    "\\Gamma(n) = \\frac{\\Gamma(n+1)}{n}\n",
    "\\end{equation}\n",
    "\n",
    "which is the lower incomplete gamma function."
   ]
  },
  {
   "cell_type": "markdown",
   "metadata": {},
   "source": [
    "This leads us to the expansion:\n",
    "\n",
    "When n+1 < 0, this is the lower incomplete gamma funciton.\n",
    "\n",
    "\\begin{equation}\n",
    "\\Gamma(n+1) = lim_{k\\rightarrow oo} \\frac{1 \\cdot 2 \\cdot 3 \\cdot \\ ...\\  \\cdot k}{(n+1)(n+2)(n+3)...(n+k)}\\cdot k^{n}\n",
    "\\end{equation}"
   ]
  },
  {
   "cell_type": "markdown",
   "metadata": {},
   "source": [
    "In our case, n is $\\alpha$, so this becomes:\n",
    "\\begin{equation}\n",
    "\\Gamma(\\alpha+1) = lim_{k\\rightarrow oo} \\frac{1 \\cdot 2 \\cdot 3 \\cdot \\ ...\\  \\cdot k}{(\\alpha+1)(\\alpha+2)(\\alpha+3)...(\\alpha+k)}\\cdot k^{\\alpha}\n",
    "\\end{equation}"
   ]
  },
  {
   "cell_type": "markdown",
   "metadata": {},
   "source": [
    "## Upper and Lower Incomplete Gamma functions:"
   ]
  },
  {
   "cell_type": "markdown",
   "metadata": {},
   "source": [
    "### Upper Incomplete Gamma Function:"
   ]
  },
  {
   "cell_type": "markdown",
   "metadata": {},
   "source": [
    "\\begin{equation}\n",
    "\\Gamma(n, x) = \\int_{x}^{oo} t^{n-1} e^{-t} dt  \\ \\ \\ \\ \\ \\ \\ \n",
    "\\end{equation}"
   ]
  },
  {
   "cell_type": "markdown",
   "metadata": {},
   "source": [
    "### Lower Incomplete Gamma Function:"
   ]
  },
  {
   "cell_type": "markdown",
   "metadata": {},
   "source": [
    "\\begin{equation}\n",
    "\\gamma(n, x) = \\int_{0}^{x} t^{n-1} e^{-t} dt     \\ \\ \\ \\ \\ \\ \\  \n",
    "\\end{equation}"
   ]
  },
  {
   "cell_type": "markdown",
   "metadata": {},
   "source": [
    "In both cases n is a complex parameter, such that the real part of n is positive.\n",
    "By integration by parts we find the recurrence relations:"
   ]
  },
  {
   "cell_type": "markdown",
   "metadata": {},
   "source": [
    "\\begin{equation}\n",
    "\\Gamma(n+1) = n \\Gamma(n)\n",
    "\\end{equation}\n",
    "\n",
    "By integration by parts we find the recurrence relations:\n",
    "\n",
    "\\begin{equation}\n",
    "\\Gamma(n+1, x) = n \\Gamma(n, x) + x^n e^{-x}\n",
    "\\end{equation}\n",
    "\n",
    "and conversely,\n",
    "\n",
    "\\begin{equation}\n",
    "\\gamma(n+1, x) = n \\gamma(n, x) - x^n e^{-x}\n",
    "\\end{equation}\n",
    "\n",
    "\n",
    "\n"
   ]
  },
  {
   "cell_type": "markdown",
   "metadata": {},
   "source": [
    "Since the ordinary gamma function is defined as:\n",
    "\\begin{equation}\n",
    "\\Gamma(n) = \\int_{0}^{oo} t^{n-1} e^{-t} dt\n",
    "\\end{equation}\n",
    "\n",
    "we have\n",
    "\n",
    "\\begin{equation}\n",
    "\\Gamma(n) = \\Gamma(n,0)\n",
    "\\end{equation}\n",
    "\n",
    "and \n",
    "\n",
    "\\begin{equation}\n",
    "\\gamma(n,x) + \\Gamma(n,x) = \\Gamma(n)\n",
    "\\end{equation}\n",
    "\n",
    "\n",
    "LowerGammaFn + UpperGammaFn = GammaFunction"
   ]
  },
  {
   "cell_type": "markdown",
   "metadata": {},
   "source": [
    "## Putting this to use:"
   ]
  },
  {
   "cell_type": "code",
   "execution_count": 1,
   "metadata": {
    "collapsed": true
   },
   "outputs": [],
   "source": [
    "from __future__ import division\n",
    "import numpy"
   ]
  },
  {
   "cell_type": "code",
   "execution_count": 2,
   "metadata": {
    "collapsed": true
   },
   "outputs": [],
   "source": [
    "import sympy as sy\n",
    "import scipy.special as scp\n",
    "import mpmath as mp"
   ]
  },
  {
   "cell_type": "code",
   "execution_count": 3,
   "metadata": {
    "collapsed": true
   },
   "outputs": [],
   "source": [
    "a = -1.46204\n",
    "x = 1000.0\n",
    "z = 455.23592"
   ]
  },
  {
   "cell_type": "markdown",
   "metadata": {},
   "source": [
    "### Sympy's lowergamma and uppergamma are the lower and upper parts to the incomplete gamma funciton.\n",
    "See more here:\n",
    "http://docs.sympy.org/dev/modules/functions/special.html#sympy.functions.special.gamma_functions.lowergamma"
   ]
  },
  {
   "cell_type": "code",
   "execution_count": 4,
   "metadata": {
    "collapsed": true
   },
   "outputs": [],
   "source": [
    "# lowergamma(alpha + 1, E/E0)"
   ]
  },
  {
   "cell_type": "code",
   "execution_count": 5,
   "metadata": {
    "collapsed": false
   },
   "outputs": [
    {
     "data": {
      "text/plain": [
       "-3.59578794007091"
      ]
     },
     "execution_count": 5,
     "metadata": {},
     "output_type": "execute_result"
    }
   ],
   "source": [
    "sy.lowergamma(a+1., x/z)"
   ]
  },
  {
   "cell_type": "code",
   "execution_count": 6,
   "metadata": {
    "collapsed": false
   },
   "outputs": [
    {
     "data": {
      "text/plain": [
       "0.0230084005118086"
      ]
     },
     "execution_count": 6,
     "metadata": {},
     "output_type": "execute_result"
    }
   ],
   "source": [
    "sy.uppergamma(a+1., x/z)"
   ]
  },
  {
   "cell_type": "code",
   "execution_count": 7,
   "metadata": {
    "collapsed": false
   },
   "outputs": [
    {
     "data": {
      "text/plain": [
       "-3.57277953955910"
      ]
     },
     "execution_count": 7,
     "metadata": {},
     "output_type": "execute_result"
    }
   ],
   "source": [
    "sy.gamma(a+1.) # gamma function"
   ]
  },
  {
   "cell_type": "code",
   "execution_count": 8,
   "metadata": {
    "collapsed": false
   },
   "outputs": [
    {
     "data": {
      "text/plain": [
       "-3.57277953955910"
      ]
     },
     "execution_count": 8,
     "metadata": {},
     "output_type": "execute_result"
    }
   ],
   "source": [
    "sy.lowergamma(a+1., x/z) + sy.uppergamma(a+1., x/z) # lower + upper = gamma "
   ]
  },
  {
   "cell_type": "markdown",
   "metadata": {},
   "source": [
    "## mpmath's incomplete gamma funciton.\n",
    "More info here:\n",
    "http://mpmath.readthedocs.io/en/latest/functions/expintegrals.html#incomplete-gamma-functions"
   ]
  },
  {
   "cell_type": "markdown",
   "metadata": {},
   "source": [
    "gammainc computes the generalized incomplete gamma funciton with integration limits [a,b].\n",
    "gammainc(z,a,b)\n",
    "for the lower function, use:\n",
    "gammainc(z, 0, b)\n",
    "for the upper funciton, use:\n",
    "gammainc(z, a, inf)"
   ]
  },
  {
   "cell_type": "code",
   "execution_count": 9,
   "metadata": {
    "collapsed": false
   },
   "outputs": [],
   "source": [
    "#help(mp.gammainc)"
   ]
  },
  {
   "cell_type": "markdown",
   "metadata": {},
   "source": [
    "### Lower Incomplete Gamma Function:"
   ]
  },
  {
   "cell_type": "markdown",
   "metadata": {},
   "source": [
    "Three ways of writing it:\n",
    "    1. mp.gammainc(a+1., a=0, b=x/z)\n",
    "    2. mp.gammainc(a+1., b=x/z)\n",
    "    3. mp.gammainc(a+1., 0, x/z) \n",
    "a is the lower limit, defaulted at 0. <br />\n",
    "b is the upper limit, defaulted at infinity."
   ]
  },
  {
   "cell_type": "code",
   "execution_count": 10,
   "metadata": {
    "collapsed": false
   },
   "outputs": [
    {
     "data": {
      "text/plain": [
       "mpf('-3.5957879400709065')"
      ]
     },
     "execution_count": 10,
     "metadata": {},
     "output_type": "execute_result"
    }
   ],
   "source": [
    "mp.gammainc(a+1., a=0, b=x/z)"
   ]
  },
  {
   "cell_type": "code",
   "execution_count": 11,
   "metadata": {
    "collapsed": false
   },
   "outputs": [
    {
     "data": {
      "text/plain": [
       "mpf('-3.5957879400709065')"
      ]
     },
     "execution_count": 11,
     "metadata": {},
     "output_type": "execute_result"
    }
   ],
   "source": [
    "mp.gammainc(a+1., b=x/z)"
   ]
  },
  {
   "cell_type": "code",
   "execution_count": 12,
   "metadata": {
    "collapsed": false,
    "scrolled": true
   },
   "outputs": [
    {
     "data": {
      "text/plain": [
       "mpf('-3.5957879400709065')"
      ]
     },
     "execution_count": 12,
     "metadata": {},
     "output_type": "execute_result"
    }
   ],
   "source": [
    "mp.gammainc(a+1., 0, x/z)"
   ]
  },
  {
   "cell_type": "markdown",
   "metadata": {},
   "source": [
    "### Upper Incomplete Gamma Function:"
   ]
  },
  {
   "cell_type": "markdown",
   "metadata": {},
   "source": [
    "Three ways of writing it:\n",
    "    1. mp.gammainc(a+1., a=x/z, b='inf')\n",
    "    2. mp.gammainc(a+1., a=x/z)\n",
    "    3. mp.gammainc(a+1., x/z) \n",
    "a is the lower limit, defaulted at 0. <br />\n",
    "b is the upper limit, defaulted at infinity."
   ]
  },
  {
   "cell_type": "code",
   "execution_count": 13,
   "metadata": {
    "collapsed": false
   },
   "outputs": [
    {
     "data": {
      "text/plain": [
       "mpf('0.023008400511808646')"
      ]
     },
     "execution_count": 13,
     "metadata": {},
     "output_type": "execute_result"
    }
   ],
   "source": [
    "mp.gammainc(a+1., a=x/z, b='inf')"
   ]
  },
  {
   "cell_type": "code",
   "execution_count": 14,
   "metadata": {
    "collapsed": false
   },
   "outputs": [
    {
     "data": {
      "text/plain": [
       "mpf('0.023008400511808646')"
      ]
     },
     "execution_count": 14,
     "metadata": {},
     "output_type": "execute_result"
    }
   ],
   "source": [
    "mp.gammainc(a+1., a=x/z)"
   ]
  },
  {
   "cell_type": "code",
   "execution_count": 15,
   "metadata": {
    "collapsed": false
   },
   "outputs": [
    {
     "data": {
      "text/plain": [
       "mpf('0.023008400511808646')"
      ]
     },
     "execution_count": 15,
     "metadata": {},
     "output_type": "execute_result"
    }
   ],
   "source": [
    "mp.gammainc(a+1., x/z)  # this is the uppergamma for sympy"
   ]
  },
  {
   "cell_type": "markdown",
   "metadata": {},
   "source": [
    "### So output from Sympy's lowergamma should be input to mp.gammainc as:"
   ]
  },
  {
   "cell_type": "code",
   "execution_count": 16,
   "metadata": {
    "collapsed": false
   },
   "outputs": [
    {
     "name": "stdout",
     "output_type": "stream",
     "text": [
      "-3.59578794007091\n",
      "-3.59578794007091\n"
     ]
    }
   ],
   "source": [
    "print sy.lowergamma(a+1., x/z)  # output\n",
    "print mp.gammainc(a+1., 0, x/z)  # input"
   ]
  },
  {
   "cell_type": "code",
   "execution_count": 17,
   "metadata": {
    "collapsed": false
   },
   "outputs": [
    {
     "name": "stdout",
     "output_type": "stream",
     "text": [
      "-3.59578794007091\n",
      "--- 0.000396013259888 seconds ---\n"
     ]
    }
   ],
   "source": [
    "import time\n",
    "start_time = time.time()\n",
    "print sy.lowergamma(a+1., x/z)\n",
    "print(\"--- %s seconds ---\" % (time.time() - start_time))"
   ]
  },
  {
   "cell_type": "code",
   "execution_count": 18,
   "metadata": {
    "collapsed": false
   },
   "outputs": [
    {
     "name": "stdout",
     "output_type": "stream",
     "text": [
      "-3.59578794007091\n",
      "--- 0.00141978263855 seconds ---\n"
     ]
    }
   ],
   "source": [
    "import time\n",
    "start_time = time.time()\n",
    "print mp.gammainc(a+1., 0, x/z)\n",
    "print(\"--- %s seconds ---\" % (time.time() - start_time))"
   ]
  },
  {
   "cell_type": "code",
   "execution_count": 19,
   "metadata": {
    "collapsed": false
   },
   "outputs": [],
   "source": [
    "a = -1.46204\n",
    "x = 1000.0 # Energy\n",
    "z = 455.23592 # E_0"
   ]
  },
  {
   "cell_type": "code",
   "execution_count": 20,
   "metadata": {
    "collapsed": false
   },
   "outputs": [
    {
     "data": {
      "text/plain": [
       "-0.983895881239796"
      ]
     },
     "execution_count": 20,
     "metadata": {},
     "output_type": "execute_result"
    }
   ],
   "source": [
    "k = 1\n",
    "\n",
    "((k/(a))*(k**a))/((x/z)**(a+1))"
   ]
  },
  {
   "cell_type": "code",
   "execution_count": 21,
   "metadata": {
    "collapsed": false
   },
   "outputs": [],
   "source": [
    "k = numpy.arange(1,3+1,1)"
   ]
  },
  {
   "cell_type": "code",
   "execution_count": 22,
   "metadata": {
    "collapsed": false
   },
   "outputs": [],
   "source": [
    "r = 1\n",
    "for i in k:\n",
    "    r *= k\n"
   ]
  },
  {
   "cell_type": "markdown",
   "metadata": {},
   "source": [
    "When x+1 < 0, this is the lower incomplete gamma funciton.\n",
    "\n",
    "\\begin{equation}\n",
    "\\Gamma(x+1) = lim_{k\\rightarrow oo} \\frac{1 \\cdot 2 \\cdot 3 \\cdot \\ ...\\  \\cdot k}{(x+1)(x+2)(x+3)...(x+k)}\\cdot k^{x}\n",
    "\\end{equation}"
   ]
  },
  {
   "cell_type": "markdown",
   "metadata": {},
   "source": [
    "\\begin{equation}\n",
    "\\Gamma(x+1) = lim_{k\\rightarrow oo} \\frac{1 \\cdot 2 \\cdot 3 \\cdot \\ ...\\  \\cdot k}{(x+1)(x+2)(x+3)...(x+k)}\\cdot k^{x}\n",
    "\\end{equation}"
   ]
  },
  {
   "cell_type": "code",
   "execution_count": 23,
   "metadata": {
    "collapsed": false
   },
   "outputs": [],
   "source": [
    "import math \n",
    "\n",
    "a = -1.46204\n",
    "x = 1000.0 # Energy\n",
    "z = 455.23592 # E_0\n",
    "k = 2\n",
    "m = math.factorial(k)\n",
    "d = numpy.arange(1,k+1,1)"
   ]
  },
  {
   "cell_type": "code",
   "execution_count": 24,
   "metadata": {
    "collapsed": true
   },
   "outputs": [],
   "source": [
    "kz = []\n",
    "def kz_product(a,d):\n",
    "    for i in d:\n",
    "        kz.append(a+i)\n",
    "    product = numpy.prod(kz)\n",
    "    return product"
   ]
  },
  {
   "cell_type": "code",
   "execution_count": 25,
   "metadata": {
    "collapsed": false
   },
   "outputs": [
    {
     "data": {
      "text/plain": [
       "-0.24855903839999999"
      ]
     },
     "execution_count": 25,
     "metadata": {},
     "output_type": "execute_result"
    }
   ],
   "source": [
    "mmm = kz_product(a,d); mmm"
   ]
  },
  {
   "cell_type": "code",
   "execution_count": 26,
   "metadata": {
    "collapsed": false,
    "scrolled": true
   },
   "outputs": [
    {
     "data": {
      "text/plain": [
       "-2.9206703425001006"
      ]
     },
     "execution_count": 26,
     "metadata": {},
     "output_type": "execute_result"
    }
   ],
   "source": [
    "((m*(k**a)) / mmm ) #/ ((x/z)**(a+1.))"
   ]
  },
  {
   "cell_type": "markdown",
   "metadata": {},
   "source": [
    "The above don't match the right answers."
   ]
  },
  {
   "cell_type": "code",
   "execution_count": 27,
   "metadata": {
    "collapsed": false
   },
   "outputs": [
    {
     "data": {
      "text/plain": [
       "-3.59578794007091"
      ]
     },
     "execution_count": 27,
     "metadata": {},
     "output_type": "execute_result"
    }
   ],
   "source": [
    "sy.lowergamma(a+1., x/z)"
   ]
  },
  {
   "cell_type": "code",
   "execution_count": 28,
   "metadata": {
    "collapsed": false
   },
   "outputs": [
    {
     "data": {
      "text/plain": [
       "-3.59578794007091"
      ]
     },
     "execution_count": 28,
     "metadata": {},
     "output_type": "execute_result"
    }
   ],
   "source": [
    "sy.lowergamma(a+1., x/z)"
   ]
  },
  {
   "cell_type": "code",
   "execution_count": 29,
   "metadata": {
    "collapsed": false
   },
   "outputs": [
    {
     "data": {
      "text/plain": [
       "mpf('-3.5957879400709065')"
      ]
     },
     "execution_count": 29,
     "metadata": {},
     "output_type": "execute_result"
    }
   ],
   "source": [
    "mp.gammainc(a+1., b=x/z)"
   ]
  },
  {
   "cell_type": "code",
   "execution_count": 30,
   "metadata": {
    "collapsed": false
   },
   "outputs": [
    {
     "data": {
      "text/plain": [
       "mpf('-3.5957879400709065')"
      ]
     },
     "execution_count": 30,
     "metadata": {},
     "output_type": "execute_result"
    }
   ],
   "source": [
    "mp.gammainc(a+1., 0, x/z)"
   ]
  },
  {
   "cell_type": "code",
   "execution_count": 31,
   "metadata": {
    "collapsed": true
   },
   "outputs": [],
   "source": [
    "import matplotlib.pyplot as plt\n",
    "%matplotlib inline"
   ]
  },
  {
   "cell_type": "code",
   "execution_count": 32,
   "metadata": {
    "collapsed": true
   },
   "outputs": [],
   "source": [
    "# sy.lowergamma(a+1., x/z) + sy.uppergamma(a+1., x/z)"
   ]
  },
  {
   "cell_type": "code",
   "execution_count": 33,
   "metadata": {
    "collapsed": false
   },
   "outputs": [],
   "source": [
    "alpha = -1.46204\n",
    "epk = 455.23592\n",
    "engs = numpy.logspace(1,4,400)"
   ]
  },
  {
   "cell_type": "markdown",
   "metadata": {},
   "source": [
    "# Plots of upper gamma"
   ]
  },
  {
   "cell_type": "code",
   "execution_count": 34,
   "metadata": {
    "collapsed": true
   },
   "outputs": [],
   "source": [
    "# sys.gamma(a,z)"
   ]
  },
  {
   "cell_type": "code",
   "execution_count": 35,
   "metadata": {
    "collapsed": false
   },
   "outputs": [],
   "source": [
    "a = numpy.array([.5, 1.0, 2.0, 3.0, 4.0, 5.0, 10.0])\n",
    "z = numpy.arange(0, 100, 1)"
   ]
  },
  {
   "cell_type": "code",
   "execution_count": 36,
   "metadata": {
    "collapsed": false
   },
   "outputs": [
    {
     "data": {
      "text/plain": [
       "<matplotlib.legend.Legend at 0x107f02bd0>"
      ]
     },
     "execution_count": 36,
     "metadata": {},
     "output_type": "execute_result"
    },
    {
     "data": {
      "image/png": "[encoded data removed]",
      "text/plain": [
       "<matplotlib.figure.Figure at 0x107ddd250>"
      ]
     },
     "metadata": {},
     "output_type": "display_data"
    }
   ],
   "source": [
    "plt.figure(figsize=(11,7))\n",
    "# sy.uppergamma(a, z)\n",
    "plt_x = []\n",
    "for k,anum in enumerate(a):\n",
    "    plt_y = []\n",
    "    for i,znum in enumerate(z):  # point for each z value\n",
    "        plt_y.append(sy.uppergamma(anum, znum))\n",
    "    plt_x = z # all of z's\n",
    "    plt.plot(plt_x, plt_y, '-', label='%s'%anum)\n",
    "\n",
    "plt.xscale('log')\n",
    "plt.yscale('log')\n",
    "plt.xlabel('z', fontsize=14)\n",
    "plt.ylabel('UpperGammaFn(a, z)',fontsize=14)\n",
    "plt.legend(loc='best', fontsize=12)"
   ]
  },
  {
   "cell_type": "code",
   "execution_count": 37,
   "metadata": {
    "collapsed": false
   },
   "outputs": [
    {
     "data": {
      "text/plain": [
       "<matplotlib.legend.Legend at 0x10b4e2110>"
      ]
     },
     "execution_count": 37,
     "metadata": {},
     "output_type": "execute_result"
    },
    {
     "data": {
      "image/png": "[encoded data removed]",
      "text/plain": [
       "<matplotlib.figure.Figure at 0x10b48cbd0>"
      ]
     },
     "metadata": {},
     "output_type": "display_data"
    }
   ],
   "source": [
    "plt.figure(figsize=(11,7))\n",
    "# sy.lowergamma(a, z)\n",
    "plt_x = []\n",
    "for k,anum in enumerate(a):\n",
    "    plt_y = []\n",
    "    for i,znum in enumerate(z):  # point for each z value\n",
    "        plt_y.append(sy.lowergamma(anum, znum))\n",
    "    plt_x = z # all of z's\n",
    "    plt.plot(plt_x, plt_y, '-', label='%s'%anum)\n",
    "\n",
    "plt.xscale('log')\n",
    "plt.yscale('log')\n",
    "plt.xlabel('z', fontsize=14)\n",
    "plt.ylabel('LowerGammaFn(a, z)',fontsize=14)\n",
    "plt.legend(loc='best', fontsize=12)"
   ]
  },
  {
   "cell_type": "markdown",
   "metadata": {},
   "source": [
    "## Band Funciton using the Upper Incomplete Gamma Function:"
   ]
  },
  {
   "cell_type": "code",
   "execution_count": 91,
   "metadata": {
    "collapsed": false
   },
   "outputs": [],
   "source": [
    "alpha = -1.0286698070834475\n",
    "beta = -2.2003327469378235\n",
    "efold = 527.5755660475579\n",
    "norm = 0.01748869026041366\n",
    "engs = numpy.logspace(1, 8, 10000)"
   ]
  },
  {
   "cell_type": "code",
   "execution_count": 39,
   "metadata": {
    "collapsed": true
   },
   "outputs": [],
   "source": [
    "# norm*(efold**(alpha + 1.)*lowergamma(alpha + 1., engs/efold))"
   ]
  },
  {
   "cell_type": "code",
   "execution_count": null,
   "metadata": {
    "collapsed": true
   },
   "outputs": [],
   "source": []
  },
  {
   "cell_type": "code",
   "execution_count": 90,
   "metadata": {
    "collapsed": false
   },
   "outputs": [
    {
     "data": {
      "text/plain": [
       "618.1407387106183"
      ]
     },
     "execution_count": 90,
     "metadata": {},
     "output_type": "execute_result"
    }
   ],
   "source": [
    "(alpha-beta)*efold"
   ]
  },
  {
   "cell_type": "code",
   "execution_count": 70,
   "metadata": {
    "collapsed": false
   },
   "outputs": [
    {
     "data": {
      "text/plain": [
       "array([ 614.72215814,  615.71387138,  616.70718452,  617.70210014,\n",
       "        618.69862083,  619.69674918,  620.69648778,  621.69783923])"
      ]
     },
     "execution_count": 70,
     "metadata": {},
     "output_type": "execute_result"
    }
   ],
   "source": [
    "plt_x[2555:2563]"
   ]
  },
  {
   "cell_type": "code",
   "execution_count": 71,
   "metadata": {
    "collapsed": false,
    "scrolled": true
   },
   "outputs": [
    {
     "data": {
      "text/plain": [
       "[15.709595522718327,\n",
       " 15.661920024971673,\n",
       " 15.614336332578468,\n",
       " 15.566844412893659,\n",
       " 24.473777433359331,\n",
       " 24.426468873217104,\n",
       " 24.379251761968238,\n",
       " 24.332125922839261]"
      ]
     },
     "execution_count": 71,
     "metadata": {},
     "output_type": "execute_result"
    }
   ],
   "source": [
    "plt_y[2555:2563]"
   ]
  },
  {
   "cell_type": "markdown",
   "metadata": {},
   "source": [
    "def band(engs, params, flux):\n",
    "    a = float(params[0]) # alpha: low-energy index\n",
    "    b = float(params[1]) # beta: high-energy index\n",
    "    efold = float(params[2]) # e-folding energy, E_0\n",
    "    \n",
    "    for i in range(len(engs)-1):\n",
    "        if engs[i] < ((a - b) * efold):\n",
    "            multiplier = ((100**(-a)) * (efold**(a+1.)))\n",
    "            lowIntegral =  float(gammainc(a + 1., (engs[i]/efold)))\n",
    "            highIntegral = float(gammainc(a + 1., (engs[i+1]/efold)))\n",
    "            val = multiplier * (lowIntegral - highIntegral)\n",
    "            flux[i] = val\n",
    "        \n",
    "        else:\n",
    "            multiplier = ((1./(b + 1.))* ((100**(-a)) * ((a - b)**(a-b)) * -exp(b-a) * (efold**(a-b))))\n",
    "            lowIntegral = engs[i]**(b+1.)\n",
    "            highIntegral = engs[i+1]**(b+1.)\n",
    "            val = multiplier * (lowIntegral - highIntegral)\n",
    "            flux[i] = val"
   ]
  },
  {
   "cell_type": "code",
   "execution_count": 105,
   "metadata": {
    "collapsed": false,
    "scrolled": true
   },
   "outputs": [
    {
     "data": {
      "text/plain": [
       "(0.44206640296563326, 0.44206640296563326)"
      ]
     },
     "execution_count": 105,
     "metadata": {},
     "output_type": "execute_result"
    }
   ],
   "source": [
    "float(mp.gammainc(alpha + 1., enum/efold)),  float(mp.gammainc(alpha + 1., a=enum/efold))"
   ]
  },
  {
   "cell_type": "code",
   "execution_count": 142,
   "metadata": {
    "collapsed": true
   },
   "outputs": [],
   "source": [
    "kim1 = ((1./(beta + 1.))* ((100**(-alpha)) * ((alpha - beta)**(alpha-beta)) * -numpy.exp(beta-alpha) * (efold**(alpha-beta)))) *(enum**(beta+1.))"
   ]
  },
  {
   "cell_type": "code",
   "execution_count": 143,
   "metadata": {
    "collapsed": false
   },
   "outputs": [],
   "source": [
    "kim2 = ((enum**(beta + 1.) * (((alpha-beta)*efold)**(alpha-beta))* -numpy.exp(-(alpha-beta)))/(beta + 1.))"
   ]
  },
  {
   "cell_type": "code",
   "execution_count": 144,
   "metadata": {
    "collapsed": false
   },
   "outputs": [
    {
     "data": {
      "text/plain": [
       "(1.3700703392011353e-05, 1.200613576882143e-07)"
      ]
     },
     "execution_count": 144,
     "metadata": {},
     "output_type": "execute_result"
    }
   ],
   "source": [
    "kim1, kim2"
   ]
  },
  {
   "cell_type": "code",
   "execution_count": 140,
   "metadata": {
    "collapsed": true
   },
   "outputs": [],
   "source": [
    "\n",
    "def band(alpha, beta, efold, norm, energy):\n",
    "    if enum < (efold*(alpha-beta)):\n",
    "        eqn = ((100**-alpha) * (efold**(alpha + 1.)) * float(mp.gammainc(alpha + 1., a=energy/efold)))\n",
    "        return eqn\n",
    "    else:\n",
    "        eqn = ((1./(beta + 1.))* ((100**(-beta)) * ((alpha - beta)**(alpha-beta)) \n",
    "                                  * -numpy.exp(beta-alpha) * (efold**(alpha-beta)))) * (energy**(beta+1.))\n",
    "        return eqn"
   ]
  },
  {
   "cell_type": "code",
   "execution_count": 141,
   "metadata": {
    "collapsed": false
   },
   "outputs": [
    {
     "data": {
      "image/png": "[encoded data removed]",
      "text/plain": [
       "<matplotlib.figure.Figure at 0x107d07090>"
      ]
     },
     "metadata": {},
     "output_type": "display_data"
    }
   ],
   "source": [
    "plt.figure(figsize=(11,7))\n",
    "plt_x = []\n",
    "plt_y = []\n",
    "\n",
    "for i,enum in enumerate(engs):\n",
    "    plt_y.append(band(alpha, beta, efold, norm, enum))\n",
    "plt_x = engs\n",
    "plt.plot(plt_x, plt_y, '-', label='%s'%anum)\n",
    "\n",
    "#plt.vlines(efold, 10**(-15), 1, color='black')\n",
    "plt.xscale('log')\n",
    "plt.yscale('log')\n",
    "plt.xlim(5, 3E7)\n",
    "#plt.ylim(1E-6, 1)\n",
    "plt.xlabel('z', fontsize=14)\n",
    "plt.ylabel('UpperGammaFn(a, z)', fontsize=14)\n",
    "plt.legend(loc='best', fontsize=12)\n",
    "plt.show() \n",
    "#     if enum < (efold*(alpha-beta)):\n",
    "#         band_lower = (100**-alpha)*(efold**(alpha + 1.) * float(mp.gammainc(alpha + 1., a=enum/efold))) # upper\n",
    "#         plt_y.append(band_lower)\n",
    "#     else:\n",
    "#         band_upper = (100**-alpha)*((enum**(beta + 1.) * (((alpha-beta)*efold)**(alpha-beta))* -numpy.exp(-(alpha-beta)))/(beta + 1.))\n",
    "#         #band_upper = norm*(((enum**(beta + 1.)) * (((alpha-beta)*numpy.exp(-1))**(alpha-beta)))/(beta + 1.))\n",
    "#         plt_y.append(band_upper)"
   ]
  },
  {
   "cell_type": "code",
   "execution_count": 113,
   "metadata": {
    "collapsed": false
   },
   "outputs": [
    {
     "data": {
      "text/plain": [
       "(-1.0286698070834475,\n",
       " -2.2003327469378235,\n",
       " 0.01748869026041366,\n",
       " 527.5755660475579)"
      ]
     },
     "execution_count": 113,
     "metadata": {},
     "output_type": "execute_result"
    }
   ],
   "source": [
    "alpha, beta, norm, efold"
   ]
  },
  {
   "cell_type": "code",
   "execution_count": 115,
   "metadata": {
    "collapsed": true
   },
   "outputs": [],
   "source": [
    "params = [alpha, beta, efold]"
   ]
  },
  {
   "cell_type": "code",
   "execution_count": 130,
   "metadata": {
    "collapsed": false
   },
   "outputs": [],
   "source": [
    "flux = numpy.zeros(len(engs))"
   ]
  },
  {
   "cell_type": "code",
   "execution_count": 132,
   "metadata": {
    "collapsed": false
   },
   "outputs": [
    {
     "data": {
      "text/plain": [
       "10000"
      ]
     },
     "execution_count": 132,
     "metadata": {},
     "output_type": "execute_result"
    }
   ],
   "source": [
    "len(flux)"
   ]
  },
  {
   "cell_type": "code",
   "execution_count": 136,
   "metadata": {
    "collapsed": true
   },
   "outputs": [],
   "source": [
    "def band(engs, params, flux):\n",
    "    a = float(params[0]) # alpha: low-energy index\n",
    "    b = float(params[1]) # beta: high-energy index\n",
    "    efold = float(params[2]) # e-folding energy, E_0\n",
    "    \n",
    "    for i in range(len(engs)-1):\n",
    "        if engs[i] < ((a - b) * efold):\n",
    "            multiplier = ((100**(-a)) * (efold**(a+1.)))\n",
    "            lowIntegral =  float(mp.gammainc(a + 1., (engs[i]/efold)))\n",
    "            highIntegral = float(mp.gammainc(a + 1., (engs[i+1]/efold)))\n",
    "            val = multiplier * (lowIntegral - highIntegral)\n",
    "            flux[i] = val\n",
    "        \n",
    "        else:\n",
    "            multiplier = ((1./(b + 1.))* ((100**(-a)) * ((a - b)**(a-b)) * -numpy.exp(b-a) * (efold**(a-b))))\n",
    "            lowIntegral = engs[i]**(b+1.)\n",
    "            highIntegral = engs[i+1]**(b+1.)\n",
    "            val = multiplier * (lowIntegral - highIntegral)\n",
    "            flux[i] = val\n",
    "        #return flux\n"
   ]
  },
  {
   "cell_type": "code",
   "execution_count": 139,
   "metadata": {
    "collapsed": false
   },
   "outputs": [],
   "source": [
    "band(engs, params, flux)"
   ]
  },
  {
   "cell_type": "code",
   "execution_count": 138,
   "metadata": {
    "collapsed": false
   },
   "outputs": [],
   "source": [
    "kzflux"
   ]
  },
  {
   "cell_type": "code",
   "execution_count": null,
   "metadata": {
    "collapsed": true
   },
   "outputs": [],
   "source": []
  },
  {
   "cell_type": "code",
   "execution_count": null,
   "metadata": {
    "collapsed": true
   },
   "outputs": [],
   "source": []
  },
  {
   "cell_type": "code",
   "execution_count": null,
   "metadata": {
    "collapsed": true
   },
   "outputs": [],
   "source": []
  },
  {
   "cell_type": "code",
   "execution_count": null,
   "metadata": {
    "collapsed": true
   },
   "outputs": [],
   "source": []
  },
  {
   "cell_type": "code",
   "execution_count": null,
   "metadata": {
    "collapsed": true
   },
   "outputs": [],
   "source": []
  },
  {
   "cell_type": "code",
   "execution_count": null,
   "metadata": {
    "collapsed": true
   },
   "outputs": [],
   "source": []
  },
  {
   "cell_type": "code",
   "execution_count": 78,
   "metadata": {
    "collapsed": true
   },
   "outputs": [],
   "source": [
    "x = 415\n",
    "a = -1.3"
   ]
  },
  {
   "cell_type": "code",
   "execution_count": 79,
   "metadata": {
    "collapsed": false
   },
   "outputs": [
    {
     "data": {
      "text/plain": [
       "-217.50253160870346"
      ]
     },
     "execution_count": 79,
     "metadata": {},
     "output_type": "execute_result"
    }
   ],
   "source": [
    "100.0*(0.01*x)**(a + 1)/(a + 1)"
   ]
  },
  {
   "cell_type": "code",
   "execution_count": 81,
   "metadata": {
    "collapsed": false
   },
   "outputs": [
    {
     "data": {
      "text/plain": [
       "-217.50253160870346"
      ]
     },
     "execution_count": 81,
     "metadata": {},
     "output_type": "execute_result"
    }
   ],
   "source": [
    "(100.0*((0.01*x)**(a + 1)))/(a + 1)"
   ]
  },
  {
   "cell_type": "code",
   "execution_count": 83,
   "metadata": {
    "collapsed": false
   },
   "outputs": [
    {
     "data": {
      "text/plain": [
       "398.1071705534973"
      ]
     },
     "execution_count": 83,
     "metadata": {},
     "output_type": "execute_result"
    }
   ],
   "source": [
    "(100**-a)"
   ]
  },
  {
   "cell_type": "code",
   "execution_count": 86,
   "metadata": {
    "collapsed": false
   },
   "outputs": [
    {
     "data": {
      "text/plain": [
       "398.1071705534973"
      ]
     },
     "execution_count": 86,
     "metadata": {},
     "output_type": "execute_result"
    }
   ],
   "source": [
    "(1./100.)**a"
   ]
  },
  {
   "cell_type": "code",
   "execution_count": null,
   "metadata": {
    "collapsed": true
   },
   "outputs": [],
   "source": []
  },
  {
   "cell_type": "code",
   "execution_count": null,
   "metadata": {
    "collapsed": true
   },
   "outputs": [],
   "source": []
  },
  {
   "cell_type": "code",
   "execution_count": 56,
   "metadata": {
    "collapsed": false
   },
   "outputs": [
    {
     "data": {
      "image/png": "[encoded data removed]",
      "text/plain": [
       "<matplotlib.figure.Figure at 0x10c73cc50>"
      ]
     },
     "metadata": {},
     "output_type": "display_data"
    }
   ],
   "source": [
    "plt.figure(figsize=(11,7))\n",
    "# sy.uppergamma(a, z)\n",
    "plt_x = []\n",
    "plt_y = []\n",
    "\n",
    "for i,enum in enumerate(engs):  # point for each z value\n",
    "    if enum < (efold*(alpha-beta)):\n",
    "        band_lower = (100**-alpha)*(efold**(alpha + 1.) * float(mp.gammainc(alpha + 1., a=enum/efold))) # upper\n",
    "        plt_y.append(band_lower)\n",
    "    else:\n",
    "        band_upper = (100**-alpha)*((enum**(beta + 1.) * (((alpha-beta)*efold)**(alpha-beta))* -numpy.exp(-(alpha-beta)))/(beta + 1.))\n",
    "        #band_upper = norm*(((enum**(beta + 1.)) * (((alpha-beta)*numpy.exp(-1))**(alpha-beta)))/(beta + 1.))\n",
    "        plt_y.append(band_upper)\n",
    "plt_x = engs\n",
    "plt.plot(plt_x, plt_y, '-', label='%s'%anum)\n",
    "\n",
    "#plt.vlines(efold, 10**(-15), 1, color='black')\n",
    "plt.xscale('log')\n",
    "plt.yscale('log')\n",
    "plt.xlim(5, 3E7)\n",
    "#plt.ylim(1E-6, 1)\n",
    "plt.xlabel('z', fontsize=14)\n",
    "plt.ylabel('UpperGammaFn(a, z)', fontsize=14)\n",
    "plt.legend(loc='best', fontsize=12)\n",
    "plt.show() "
   ]
  },
  {
   "cell_type": "code",
   "execution_count": 54,
   "metadata": {
    "collapsed": false
   },
   "outputs": [
    {
     "data": {
      "image/png": "[encoded data removed]",
      "text/plain": [
       "<matplotlib.figure.Figure at 0x10d253a10>"
      ]
     },
     "metadata": {},
     "output_type": "display_data"
    }
   ],
   "source": [
    "plt.figure(figsize=(11,7))\n",
    "# sy.uppergamma(a, z)\n",
    "plt_x = []\n",
    "plt_y = []\n",
    "\n",
    "for i,enum in enumerate(engs):  # point for each z value\n",
    "    if enum < (efold*(alpha-beta)):\n",
    "        band_lower = norm*(100**-alpha)*(efold**(alpha + 1.) * sy.uppergamma(alpha + 1., enum/efold))\n",
    "        plt_y.append(band_lower)\n",
    "    else:\n",
    "        band_upper = norm*(100**-alpha)*((enum**(beta + 1.)) * (((alpha-beta)*efold)**(alpha-beta))* -numpy.exp(-(alpha-beta)))/(beta + 1.)\n",
    "        #band_upper = norm*(((enum**(beta + 1.)) * (((alpha-beta)*numpy.exp(-1))**(alpha-beta)))/(beta + 1.))\n",
    "        plt_y.append(band_upper)\n",
    "plt_x = engs\n",
    "plt.plot(plt_x, plt_y, '-', label='%s'%anum)\n",
    "\n",
    "#plt.vlines(efold, 10**(-15), 1, color='black')\n",
    "plt.xscale('log')\n",
    "plt.yscale('log')\n",
    "plt.xlim(5, 3E7)\n",
    "#plt.ylim(1E-6, 1)\n",
    "plt.xlabel('z', fontsize=14)\n",
    "plt.ylabel('UpperGammaFn(a, z)', fontsize=14)\n",
    "plt.legend(loc='best', fontsize=12)\n",
    "plt.show() "
   ]
  },
  {
   "cell_type": "code",
   "execution_count": null,
   "metadata": {
    "collapsed": true
   },
   "outputs": [],
   "source": []
  },
  {
   "cell_type": "code",
   "execution_count": null,
   "metadata": {
    "collapsed": true
   },
   "outputs": [],
   "source": []
  },
  {
   "cell_type": "code",
   "execution_count": null,
   "metadata": {
    "collapsed": true
   },
   "outputs": [],
   "source": []
  },
  {
   "cell_type": "code",
   "execution_count": null,
   "metadata": {
    "collapsed": true
   },
   "outputs": [],
   "source": []
  },
  {
   "cell_type": "code",
   "execution_count": null,
   "metadata": {
    "collapsed": true
   },
   "outputs": [],
   "source": []
  },
  {
   "cell_type": "code",
   "execution_count": 276,
   "metadata": {
    "collapsed": false,
    "scrolled": true
   },
   "outputs": [
    {
     "data": {
      "image/png": "[encoded data removed]",
      "text/plain": [
       "<matplotlib.figure.Figure at 0x114b4d710>"
      ]
     },
     "metadata": {},
     "output_type": "display_data"
    }
   ],
   "source": [
    "plt.figure(figsize=(11,7))\n",
    "# sy.uppergamma(a, z)\n",
    "plt_x = []\n",
    "for k,anum in enumerate(a):\n",
    "    plt_y = []\n",
    "    for i,enum in enumerate(engs):  # point for each z value\n",
    "        if enum < efold:\n",
    "            band_lower = norm*(efold**(anum + 1.) * sy.uppergamma(anum + 1., enum/efold))\n",
    "            plt_y.append(band_lower)\n",
    "        else:\n",
    "            band_upper = norm*(((enum**(beta + 1.)) * (((anum-beta)*numpy.exp(-1))**(anum-beta)))/(beta + 1.))\n",
    "            plt_y.append(band_upper)\n",
    "    plt_x = z # all of z's\n",
    "    plt.plot(plt_x, plt_y, '-', label='%s'%anum)\n",
    "\n",
    "plt.vlines(efold, 10**(-15), 1, color='black')\n",
    "plt.xscale('log')\n",
    "plt.yscale('log')\n",
    "plt.xlim(5E1, 3E7)\n",
    "plt.ylim(10**(-13), 1)\n",
    "plt.xlabel('z', fontsize=14)\n",
    "plt.ylabel('UpperGammaFn(a, z)',fontsize=14)\n",
    "plt.legend(loc='best', fontsize=12)\n",
    "plt.show() "
   ]
  },
  {
   "cell_type": "code",
   "execution_count": null,
   "metadata": {
    "collapsed": true
   },
   "outputs": [],
   "source": []
  },
  {
   "cell_type": "code",
   "execution_count": null,
   "metadata": {
    "collapsed": true
   },
   "outputs": [],
   "source": []
  },
  {
   "cell_type": "code",
   "execution_count": null,
   "metadata": {
    "collapsed": true
   },
   "outputs": [],
   "source": []
  },
  {
   "cell_type": "raw",
   "metadata": {},
   "source": [
    "plt.figure(figsize=(11,7))\n",
    "# sy.uppergamma(a, z)\n",
    "plt_x = []\n",
    "for k,anum in enumerate(a):\n",
    "    plt_y = []\n",
    "    for i,enum in enumerate(engs):  # point for each z value\n",
    "        if enum < efold:\n",
    "            band_lower = norm*(efold**(anum + 1.) * sy.uppergamma(anum + 1., enum/efold))\n",
    "            plt_y.append(band_lower)\n",
    "        else:\n",
    "            band_upper = norm*(((enum**(beta + 1.))*((anum-beta) * efold * numpy.exp(-1))**(anum-beta))/(beta + 1.))\n",
    "            plt_y.append(band_upper)\n",
    "    plt_x = z # all of z's\n",
    "    plt.plot(plt_x, plt_y, '-', label='%s'%anum)\n",
    "\n",
    "plt.vlines(efold, 10**(-15), 1, color='black')\n",
    "plt.xscale('log')\n",
    "plt.yscale('log')\n",
    "plt.xlim(5E1, 3E7)\n",
    "plt.ylim(10**(-13), 1)\n",
    "plt.xlabel('z', fontsize=14)\n",
    "plt.ylabel('UpperGammaFn(a, z)',fontsize=14)\n",
    "plt.legend(loc='best', fontsize=12)\n",
    "plt.show() "
   ]
  },
  {
   "cell_type": "code",
   "execution_count": 268,
   "metadata": {
    "collapsed": false
   },
   "outputs": [
    {
     "data": {
      "text/plain": [
       "527.5755660475579"
      ]
     },
     "execution_count": 268,
     "metadata": {},
     "output_type": "execute_result"
    }
   ],
   "source": [
    "efold"
   ]
  },
  {
   "cell_type": "code",
   "execution_count": null,
   "metadata": {
    "collapsed": true
   },
   "outputs": [],
   "source": []
  },
  {
   "cell_type": "code",
   "execution_count": null,
   "metadata": {
    "collapsed": true
   },
   "outputs": [],
   "source": []
  },
  {
   "cell_type": "code",
   "execution_count": null,
   "metadata": {
    "collapsed": true
   },
   "outputs": [],
   "source": []
  },
  {
   "cell_type": "code",
   "execution_count": 245,
   "metadata": {
    "collapsed": false
   },
   "outputs": [
    {
     "data": {
      "image/png": "[encoded data removed]",
      "text/plain": [
       "<matplotlib.figure.Figure at 0x111d7c110>"
      ]
     },
     "metadata": {},
     "output_type": "display_data"
    }
   ],
   "source": [
    "plt.figure(figsize=(11,7))\n",
    "# sy.uppergamma(a, z)\n",
    "plt_x = []\n",
    "for k,anum in enumerate(a):\n",
    "    plt_y = []\n",
    "    for i,enum in enumerate(engs):  # point for each z value\n",
    "        plt_y.append(efold**(anum + 1.) * sy.lowergamma(anum + 1., enum/efold))\n",
    "    plt_x = z # all of z's\n",
    "    plt.plot(plt_x, plt_y, '-', label='%s'%anum)\n",
    "\n",
    "plt.vlines(efold, 10**(-3), 100, color='black')\n",
    "plt.xscale('log')\n",
    "plt.yscale('log')\n",
    "#plt.xlim(3, 10**8)\n",
    "#plt.ylim(10**(-15), 10)\n",
    "plt.xlabel('z', fontsize=14)\n",
    "plt.ylabel('UpperGammaFn(a, z)',fontsize=14)\n",
    "plt.legend(loc='best', fontsize=12)\n",
    "plt.show() "
   ]
  },
  {
   "cell_type": "code",
   "execution_count": 220,
   "metadata": {
    "collapsed": false
   },
   "outputs": [
    {
     "name": "stderr",
     "output_type": "stream",
     "text": [
      "/Users/KimiZ/anaconda/lib/python2.7/site-packages/matplotlib/scale.py:101: RuntimeWarning: invalid value encountered in less_equal\n",
      "  a[a <= 0.0] = 1e-300\n"
     ]
    },
    {
     "data": {
      "image/png": "[encoded data removed]",
      "text/plain": [
       "<matplotlib.figure.Figure at 0x10fdd8610>"
      ]
     },
     "metadata": {},
     "output_type": "display_data"
    }
   ],
   "source": [
    "plt.figure(figsize=(11,7))\n",
    "# sy.uppergamma(a, z)\n",
    "plt_x = []\n",
    "for k,anum in enumerate(a):\n",
    "    plt_y = []\n",
    "    for i,znum in enumerate(z):  # point for each z value\n",
    "        plt_y.append(sy.uppergamma(anum, znum))\n",
    "    plt_x = z # all of z's\n",
    "    plt.plot(plt_x, plt_y, '-', label='%s'%anum)\n",
    "\n",
    "plt.xscale('log')\n",
    "plt.yscale('log')\n",
    "plt.xlabel('z', fontsize=14)\n",
    "plt.ylabel('UpperGammaFn(a, z)',fontsize=14)\n",
    "plt.legend(loc='best', fontsize=12)\n",
    "plt.show() "
   ]
  },
  {
   "cell_type": "code",
   "execution_count": 221,
   "metadata": {
    "collapsed": false
   },
   "outputs": [
    {
     "data": {
      "image/png": "[encoded data removed]",
      "text/plain": [
       "<matplotlib.figure.Figure at 0x1101b7210>"
      ]
     },
     "metadata": {},
     "output_type": "display_data"
    }
   ],
   "source": [
    "plt.figure(figsize=(11,7))\n",
    "# sy.lowergamma(a, z)\n",
    "plt_x = []\n",
    "for k,anum in enumerate(a):\n",
    "    plt_y = []\n",
    "    for i,znum in enumerate(z):  # point for each z value\n",
    "        plt_y.append(sy.lowergamma(anum, znum))\n",
    "    plt_x = z # all of z's\n",
    "    plt.plot(plt_x, plt_y, '-', label='%s'%anum)\n",
    "\n",
    "plt.xscale('log')\n",
    "plt.yscale('log')\n",
    "plt.xlabel('z', fontsize=14)\n",
    "plt.ylabel('LowerGammaFn(a, z)',fontsize=14)\n",
    "plt.legend(loc='best', fontsize=12)\n",
    "plt.show()"
   ]
  },
  {
   "cell_type": "code",
   "execution_count": null,
   "metadata": {
    "collapsed": true
   },
   "outputs": [],
   "source": []
  },
  {
   "cell_type": "code",
   "execution_count": null,
   "metadata": {
    "collapsed": true
   },
   "outputs": [],
   "source": []
  },
  {
   "cell_type": "code",
   "execution_count": null,
   "metadata": {
    "collapsed": true
   },
   "outputs": [],
   "source": []
  },
  {
   "cell_type": "code",
   "execution_count": null,
   "metadata": {
    "collapsed": true
   },
   "outputs": [],
   "source": []
  },
  {
   "cell_type": "code",
   "execution_count": 199,
   "metadata": {
    "collapsed": false,
    "scrolled": true
   },
   "outputs": [
    {
     "data": {
      "image/png": "[encoded data removed]",
      "text/plain": [
       "<matplotlib.figure.Figure at 0x10f725b50>"
      ]
     },
     "metadata": {},
     "output_type": "display_data"
    }
   ],
   "source": [
    "plt_x = []\n",
    "for k,l in enumerate(a):\n",
    "    plt_y = []\n",
    "    for i,j in enumerate(z): \n",
    "        plt_y.append(sy.lowergamma(l, j))\n",
    "    plt_x=z\n",
    "    plt.plot(plt_x, plt_y, '-')\n",
    "\n",
    "plt.xscale('log')\n",
    "plt.yscale('log')\n",
    "# plt.xlabel('logged')\n",
    "# plt.ylabel('logged')\n",
    "#plt.title('Upper Incomplete Gamma Fn.')\n",
    "#plt.show()"
   ]
  },
  {
   "cell_type": "code",
   "execution_count": null,
   "metadata": {
    "collapsed": true
   },
   "outputs": [],
   "source": []
  },
  {
   "cell_type": "code",
   "execution_count": null,
   "metadata": {
    "collapsed": true
   },
   "outputs": [],
   "source": []
  },
  {
   "cell_type": "code",
   "execution_count": 101,
   "metadata": {
    "collapsed": false
   },
   "outputs": [
    {
     "data": {
      "image/png": "[encoded data removed]",
      "text/plain": [
       "<matplotlib.figure.Figure at 0x10e589610>"
      ]
     },
     "metadata": {},
     "output_type": "display_data"
    },
    {
     "data": {
      "image/png": "[encoded data removed]",
      "text/plain": [
       "<matplotlib.figure.Figure at 0x10f5c7750>"
      ]
     },
     "metadata": {},
     "output_type": "display_data"
    },
    {
     "ename": "ValueError",
     "evalue": "Unrecognized character i in format string",
     "output_type": "error",
     "traceback": [
      "\u001b[0;31m---------------------------------------------------------------------------\u001b[0m",
      "\u001b[0;31mValueError\u001b[0m                                Traceback (most recent call last)",
      "\u001b[0;32m<ipython-input-101-dd39047d27ec>\u001b[0m in \u001b[0;36m<module>\u001b[0;34m()\u001b[0m\n\u001b[1;32m     28\u001b[0m     \u001b[0mplt_x\u001b[0m \u001b[0;34m=\u001b[0m \u001b[0mj\u001b[0m\u001b[0;34m/\u001b[0m\u001b[0mepk\u001b[0m\u001b[0;34m\u001b[0m\u001b[0m\n\u001b[1;32m     29\u001b[0m     \u001b[0mplt_y\u001b[0m \u001b[0;34m=\u001b[0m \u001b[0msy\u001b[0m\u001b[0;34m.\u001b[0m\u001b[0muppergamma\u001b[0m\u001b[0;34m(\u001b[0m\u001b[0malpha\u001b[0m\u001b[0;34m+\u001b[0m\u001b[0;36m1.\u001b[0m\u001b[0;34m,\u001b[0m \u001b[0mj\u001b[0m\u001b[0;34m/\u001b[0m\u001b[0mepk\u001b[0m\u001b[0;34m)\u001b[0m\u001b[0;34m\u001b[0m\u001b[0m\n\u001b[0;32m---> 30\u001b[0;31m     \u001b[0mplt\u001b[0m\u001b[0;34m.\u001b[0m\u001b[0mplot\u001b[0m\u001b[0;34m(\u001b[0m\u001b[0mplt_x\u001b[0m\u001b[0;34m,\u001b[0m \u001b[0mplt_y\u001b[0m\u001b[0;34m,\u001b[0m \u001b[0;34m'i'\u001b[0m\u001b[0;34m)\u001b[0m\u001b[0;34m\u001b[0m\u001b[0m\n\u001b[0m\u001b[1;32m     31\u001b[0m \u001b[0mplt\u001b[0m\u001b[0;34m.\u001b[0m\u001b[0mxscale\u001b[0m\u001b[0;34m(\u001b[0m\u001b[0;34m'log'\u001b[0m\u001b[0;34m)\u001b[0m\u001b[0;34m\u001b[0m\u001b[0m\n\u001b[1;32m     32\u001b[0m \u001b[0;31m#plt.yscale('log')\u001b[0m\u001b[0;34m\u001b[0m\u001b[0;34m\u001b[0m\u001b[0m\n",
      "\u001b[0;32m/Users/KimiZ/anaconda/lib/python2.7/site-packages/matplotlib/pyplot.pyc\u001b[0m in \u001b[0;36mplot\u001b[0;34m(*args, **kwargs)\u001b[0m\n\u001b[1;32m   3152\u001b[0m         \u001b[0max\u001b[0m\u001b[0;34m.\u001b[0m\u001b[0mhold\u001b[0m\u001b[0;34m(\u001b[0m\u001b[0mhold\u001b[0m\u001b[0;34m)\u001b[0m\u001b[0;34m\u001b[0m\u001b[0m\n\u001b[1;32m   3153\u001b[0m     \u001b[0;32mtry\u001b[0m\u001b[0;34m:\u001b[0m\u001b[0;34m\u001b[0m\u001b[0m\n\u001b[0;32m-> 3154\u001b[0;31m         \u001b[0mret\u001b[0m \u001b[0;34m=\u001b[0m \u001b[0max\u001b[0m\u001b[0;34m.\u001b[0m\u001b[0mplot\u001b[0m\u001b[0;34m(\u001b[0m\u001b[0;34m*\u001b[0m\u001b[0margs\u001b[0m\u001b[0;34m,\u001b[0m \u001b[0;34m**\u001b[0m\u001b[0mkwargs\u001b[0m\u001b[0;34m)\u001b[0m\u001b[0;34m\u001b[0m\u001b[0m\n\u001b[0m\u001b[1;32m   3155\u001b[0m     \u001b[0;32mfinally\u001b[0m\u001b[0;34m:\u001b[0m\u001b[0;34m\u001b[0m\u001b[0m\n\u001b[1;32m   3156\u001b[0m         \u001b[0max\u001b[0m\u001b[0;34m.\u001b[0m\u001b[0mhold\u001b[0m\u001b[0;34m(\u001b[0m\u001b[0mwashold\u001b[0m\u001b[0;34m)\u001b[0m\u001b[0;34m\u001b[0m\u001b[0m\n",
      "\u001b[0;32m/Users/KimiZ/anaconda/lib/python2.7/site-packages/matplotlib/__init__.pyc\u001b[0m in \u001b[0;36minner\u001b[0;34m(ax, *args, **kwargs)\u001b[0m\n\u001b[1;32m   1809\u001b[0m                     warnings.warn(msg % (label_namer, func.__name__),\n\u001b[1;32m   1810\u001b[0m                                   RuntimeWarning, stacklevel=2)\n\u001b[0;32m-> 1811\u001b[0;31m             \u001b[0;32mreturn\u001b[0m \u001b[0mfunc\u001b[0m\u001b[0;34m(\u001b[0m\u001b[0max\u001b[0m\u001b[0;34m,\u001b[0m \u001b[0;34m*\u001b[0m\u001b[0margs\u001b[0m\u001b[0;34m,\u001b[0m \u001b[0;34m**\u001b[0m\u001b[0mkwargs\u001b[0m\u001b[0;34m)\u001b[0m\u001b[0;34m\u001b[0m\u001b[0m\n\u001b[0m\u001b[1;32m   1812\u001b[0m         \u001b[0mpre_doc\u001b[0m \u001b[0;34m=\u001b[0m \u001b[0minner\u001b[0m\u001b[0;34m.\u001b[0m\u001b[0m__doc__\u001b[0m\u001b[0;34m\u001b[0m\u001b[0m\n\u001b[1;32m   1813\u001b[0m         \u001b[0;32mif\u001b[0m \u001b[0mpre_doc\u001b[0m \u001b[0;32mis\u001b[0m \u001b[0mNone\u001b[0m\u001b[0;34m:\u001b[0m\u001b[0;34m\u001b[0m\u001b[0m\n",
      "\u001b[0;32m/Users/KimiZ/anaconda/lib/python2.7/site-packages/matplotlib/axes/_axes.pyc\u001b[0m in \u001b[0;36mplot\u001b[0;34m(self, *args, **kwargs)\u001b[0m\n\u001b[1;32m   1425\u001b[0m             \u001b[0mkwargs\u001b[0m\u001b[0;34m[\u001b[0m\u001b[0;34m'color'\u001b[0m\u001b[0;34m]\u001b[0m \u001b[0;34m=\u001b[0m \u001b[0mc\u001b[0m\u001b[0;34m\u001b[0m\u001b[0m\n\u001b[1;32m   1426\u001b[0m \u001b[0;34m\u001b[0m\u001b[0m\n\u001b[0;32m-> 1427\u001b[0;31m         \u001b[0;32mfor\u001b[0m \u001b[0mline\u001b[0m \u001b[0;32min\u001b[0m \u001b[0mself\u001b[0m\u001b[0;34m.\u001b[0m\u001b[0m_get_lines\u001b[0m\u001b[0;34m(\u001b[0m\u001b[0;34m*\u001b[0m\u001b[0margs\u001b[0m\u001b[0;34m,\u001b[0m \u001b[0;34m**\u001b[0m\u001b[0mkwargs\u001b[0m\u001b[0;34m)\u001b[0m\u001b[0;34m:\u001b[0m\u001b[0;34m\u001b[0m\u001b[0m\n\u001b[0m\u001b[1;32m   1428\u001b[0m             \u001b[0mself\u001b[0m\u001b[0;34m.\u001b[0m\u001b[0madd_line\u001b[0m\u001b[0;34m(\u001b[0m\u001b[0mline\u001b[0m\u001b[0;34m)\u001b[0m\u001b[0;34m\u001b[0m\u001b[0m\n\u001b[1;32m   1429\u001b[0m             \u001b[0mlines\u001b[0m\u001b[0;34m.\u001b[0m\u001b[0mappend\u001b[0m\u001b[0;34m(\u001b[0m\u001b[0mline\u001b[0m\u001b[0;34m)\u001b[0m\u001b[0;34m\u001b[0m\u001b[0m\n",
      "\u001b[0;32m/Users/KimiZ/anaconda/lib/python2.7/site-packages/matplotlib/axes/_base.pyc\u001b[0m in \u001b[0;36m_grab_next_args\u001b[0;34m(self, *args, **kwargs)\u001b[0m\n\u001b[1;32m    384\u001b[0m                 \u001b[0;32mreturn\u001b[0m\u001b[0;34m\u001b[0m\u001b[0m\n\u001b[1;32m    385\u001b[0m             \u001b[0;32mif\u001b[0m \u001b[0mlen\u001b[0m\u001b[0;34m(\u001b[0m\u001b[0mremaining\u001b[0m\u001b[0;34m)\u001b[0m \u001b[0;34m<=\u001b[0m \u001b[0;36m3\u001b[0m\u001b[0;34m:\u001b[0m\u001b[0;34m\u001b[0m\u001b[0m\n\u001b[0;32m--> 386\u001b[0;31m                 \u001b[0;32mfor\u001b[0m \u001b[0mseg\u001b[0m \u001b[0;32min\u001b[0m \u001b[0mself\u001b[0m\u001b[0;34m.\u001b[0m\u001b[0m_plot_args\u001b[0m\u001b[0;34m(\u001b[0m\u001b[0mremaining\u001b[0m\u001b[0;34m,\u001b[0m \u001b[0mkwargs\u001b[0m\u001b[0;34m)\u001b[0m\u001b[0;34m:\u001b[0m\u001b[0;34m\u001b[0m\u001b[0m\n\u001b[0m\u001b[1;32m    387\u001b[0m                     \u001b[0;32myield\u001b[0m \u001b[0mseg\u001b[0m\u001b[0;34m\u001b[0m\u001b[0m\n\u001b[1;32m    388\u001b[0m                 \u001b[0;32mreturn\u001b[0m\u001b[0;34m\u001b[0m\u001b[0m\n",
      "\u001b[0;32m/Users/KimiZ/anaconda/lib/python2.7/site-packages/matplotlib/axes/_base.pyc\u001b[0m in \u001b[0;36m_plot_args\u001b[0;34m(self, tup, kwargs)\u001b[0m\n\u001b[1;32m    334\u001b[0m         \u001b[0mret\u001b[0m \u001b[0;34m=\u001b[0m \u001b[0;34m[\u001b[0m\u001b[0;34m]\u001b[0m\u001b[0;34m\u001b[0m\u001b[0m\n\u001b[1;32m    335\u001b[0m         \u001b[0;32mif\u001b[0m \u001b[0mlen\u001b[0m\u001b[0;34m(\u001b[0m\u001b[0mtup\u001b[0m\u001b[0;34m)\u001b[0m \u001b[0;34m>\u001b[0m \u001b[0;36m1\u001b[0m \u001b[0;32mand\u001b[0m \u001b[0mis_string_like\u001b[0m\u001b[0;34m(\u001b[0m\u001b[0mtup\u001b[0m\u001b[0;34m[\u001b[0m\u001b[0;34m-\u001b[0m\u001b[0;36m1\u001b[0m\u001b[0;34m]\u001b[0m\u001b[0;34m)\u001b[0m\u001b[0;34m:\u001b[0m\u001b[0;34m\u001b[0m\u001b[0m\n\u001b[0;32m--> 336\u001b[0;31m             \u001b[0mlinestyle\u001b[0m\u001b[0;34m,\u001b[0m \u001b[0mmarker\u001b[0m\u001b[0;34m,\u001b[0m \u001b[0mcolor\u001b[0m \u001b[0;34m=\u001b[0m \u001b[0m_process_plot_format\u001b[0m\u001b[0;34m(\u001b[0m\u001b[0mtup\u001b[0m\u001b[0;34m[\u001b[0m\u001b[0;34m-\u001b[0m\u001b[0;36m1\u001b[0m\u001b[0;34m]\u001b[0m\u001b[0;34m)\u001b[0m\u001b[0;34m\u001b[0m\u001b[0m\n\u001b[0m\u001b[1;32m    337\u001b[0m             \u001b[0mtup\u001b[0m \u001b[0;34m=\u001b[0m \u001b[0mtup\u001b[0m\u001b[0;34m[\u001b[0m\u001b[0;34m:\u001b[0m\u001b[0;34m-\u001b[0m\u001b[0;36m1\u001b[0m\u001b[0;34m]\u001b[0m\u001b[0;34m\u001b[0m\u001b[0m\n\u001b[1;32m    338\u001b[0m         \u001b[0;32melif\u001b[0m \u001b[0mlen\u001b[0m\u001b[0;34m(\u001b[0m\u001b[0mtup\u001b[0m\u001b[0;34m)\u001b[0m \u001b[0;34m==\u001b[0m \u001b[0;36m3\u001b[0m\u001b[0;34m:\u001b[0m\u001b[0;34m\u001b[0m\u001b[0m\n",
      "\u001b[0;32m/Users/KimiZ/anaconda/lib/python2.7/site-packages/matplotlib/axes/_base.pyc\u001b[0m in \u001b[0;36m_process_plot_format\u001b[0;34m(fmt)\u001b[0m\n\u001b[1;32m    114\u001b[0m         \u001b[0;32melse\u001b[0m\u001b[0;34m:\u001b[0m\u001b[0;34m\u001b[0m\u001b[0m\n\u001b[1;32m    115\u001b[0m             raise ValueError(\n\u001b[0;32m--> 116\u001b[0;31m                 'Unrecognized character %c in format string' % c)\n\u001b[0m\u001b[1;32m    117\u001b[0m \u001b[0;34m\u001b[0m\u001b[0m\n\u001b[1;32m    118\u001b[0m     \u001b[0;32mif\u001b[0m \u001b[0mlinestyle\u001b[0m \u001b[0;32mis\u001b[0m \u001b[0mNone\u001b[0m \u001b[0;32mand\u001b[0m \u001b[0mmarker\u001b[0m \u001b[0;32mis\u001b[0m \u001b[0mNone\u001b[0m\u001b[0;34m:\u001b[0m\u001b[0;34m\u001b[0m\u001b[0m\n",
      "\u001b[0;31mValueError\u001b[0m: Unrecognized character i in format string"
     ]
    },
    {
     "data": {
      "image/png": "[encoded data removed]",
      "text/plain": [
       "<matplotlib.figure.Figure at 0x10e9e4550>"
      ]
     },
     "metadata": {},
     "output_type": "display_data"
    }
   ],
   "source": [
    "for i,j in enumerate(engs):\n",
    "    plt_x = j/epk\n",
    "    plt_y = sy.uppergamma(alpha+1., j/epk)\n",
    "    plt.plot(plt_x, plt_y, '--')\n",
    "# plt.xscale('log')\n",
    "# plt.yscale('log')\n",
    "# plt.xlabel('logged')\n",
    "# plt.ylabel('logged')\n",
    "plt.title('Upper Incomplete Gamma Fn.')\n",
    "plt.show()\n",
    "\n",
    "# ********************************************************************\n",
    "\n",
    "for i,j in enumerate(engs):\n",
    "    plt_x = j/epk\n",
    "    plt_y = sy.uppergamma(alpha+1., j/epk)\n",
    "    plt.plot(plt_x, plt_y, '-')\n",
    "plt.xscale('log')\n",
    "plt.yscale('log')\n",
    "plt.xlabel('logged')\n",
    "plt.ylabel('logged')\n",
    "plt.title('Upper Incomplete Gamma Fn.')\n",
    "plt.show()\n",
    "\n",
    "# ********************************************************************\n",
    "\n",
    "for i,j in enumerate(engs):\n",
    "    plt_x = j/epk\n",
    "    plt_y = sy.uppergamma(alpha+1., j/epk)\n",
    "    plt.plot(plt_x, plt_y, 'i')\n",
    "plt.xscale('log')\n",
    "#plt.yscale('log')\n",
    "plt.xlabel('logged')\n",
    "#plt.ylabel('logged')\n",
    "plt.title('Upper Incomplete Gamma Fn.')\n",
    "plt.show()\n",
    "\n",
    "# ********************************************************************\n",
    "\n",
    "for i,j in enumerate(engs):\n",
    "    plt_x = j/epk\n",
    "    plt_y = sy.uppergamma(alpha+1., j/epk)\n",
    "    plt.plot(plt_x, plt_y, 'i')\n",
    "#plt.xscale('log')\n",
    "plt.yscale('log')\n",
    "#plt.xlabel('logged')\n",
    "plt.ylabel('logged')\n",
    "plt.title('Upper Incomplete Gamma Fn.')\n",
    "plt.show()"
   ]
  },
  {
   "cell_type": "code",
   "execution_count": null,
   "metadata": {
    "collapsed": true
   },
   "outputs": [],
   "source": []
  },
  {
   "cell_type": "markdown",
   "metadata": {},
   "source": [
    "# Plots of lower gamma"
   ]
  },
  {
   "cell_type": "code",
   "execution_count": 91,
   "metadata": {
    "collapsed": false
   },
   "outputs": [
    {
     "data": {
      "image/png": "[encoded data removed]",
      "text/plain": [
       "<matplotlib.figure.Figure at 0x10e698650>"
      ]
     },
     "metadata": {},
     "output_type": "display_data"
    },
    {
     "data": {
      "image/png": "[encoded data removed]",
      "text/plain": [
       "<matplotlib.figure.Figure at 0x10e20ef10>"
      ]
     },
     "metadata": {},
     "output_type": "display_data"
    }
   ],
   "source": [
    "for i,j in enumerate(engs):\n",
    "    plt_x = j/epk\n",
    "    plt_y = sy.lowergamma(alpha+1., j/epk)\n",
    "    plt.plot(plt_x, plt_y, 'o')\n",
    "plt.title('Lower Incomplete Gamma Fn.')\n",
    "plt.show()\n",
    "\n",
    "# ********************************************************************\n",
    "\n",
    "for i,j in enumerate(engs):\n",
    "    plt_x = j/epk\n",
    "    plt_y = sy.lowergamma(alpha+1., j/epk)\n",
    "    plt.plot(plt_x, plt_y, 'o')\n",
    "plt.xscale('log')\n",
    "#plt.yscale('log')\n",
    "plt.xlabel('logged')\n",
    "#plt.ylabel('logged')\n",
    "plt.title('Lower Incomplete Gamma Fn.')\n",
    "plt.show()"
   ]
  },
  {
   "cell_type": "raw",
   "metadata": {},
   "source": [
    "# ********************************************************************\n",
    "\n",
    "for i,j in enumerate(engs):\n",
    "    plt_x = j/epk\n",
    "    plt_y = sy.lowergamma(alpha+1., j/epk)\n",
    "    plt.plot(plt_x, plt_y, 'o')\n",
    "plt.xscale('log')\n",
    "plt.yscale('log')\n",
    "plt.xlabel('logged')\n",
    "plt.ylabel('logged')\n",
    "plt.title('Lower Incomplete Gamma Fn.')\n",
    "plt.show()\n",
    "\n",
    "# ********************************************************************\n",
    "\n",
    "for i,j in enumerate(engs):\n",
    "    plt_x = j/epk\n",
    "    plt_y = sy.lowergamma(alpha+1., j/epk)\n",
    "    plt.plot(plt_x, plt_y, 'o')\n",
    "#plt.xscale('log')\n",
    "plt.yscale('log')\n",
    "#plt.xlabel('logged')\n",
    "plt.ylabel('logged')\n",
    "plt.title('Lower Incomplete Gamma Fn.')\n",
    "plt.show()"
   ]
  },
  {
   "cell_type": "code",
   "execution_count": null,
   "metadata": {
    "collapsed": true
   },
   "outputs": [],
   "source": []
  },
  {
   "cell_type": "code",
   "execution_count": 96,
   "metadata": {
    "collapsed": false
   },
   "outputs": [
    {
     "data": {
      "image/png": "[encoded data removed]",
      "text/plain": [
       "<matplotlib.figure.Figure at 0x10e9f2210>"
      ]
     },
     "metadata": {},
     "output_type": "display_data"
    },
    {
     "data": {
      "image/png": "[encoded data removed]",
      "text/plain": [
       "<matplotlib.figure.Figure at 0x10e56b0d0>"
      ]
     },
     "metadata": {},
     "output_type": "display_data"
    }
   ],
   "source": [
    "for i,j in enumerate(engs):\n",
    "    plt_x = j/epk\n",
    "    plt_y = sy.lowergamma(alpha+1., j/epk) + sy.uppergamma(alpha+1., j/epk)\n",
    "    plt.plot(plt_x, plt_y, 'o')\n",
    "# plt.xscale('log')\n",
    "# plt.yscale('log')\n",
    "# plt.xlabel('logged')\n",
    "# plt.ylabel('logged')\n",
    "plt.title('Complete Gamma Fn.')\n",
    "plt.show()\n",
    "\n",
    "# ********************************************************************\n",
    "\n",
    "for i,j in enumerate(engs):\n",
    "    plt_x = j/epk\n",
    "    plt_y = sy.lowergamma(alpha+1., j/epk) + sy.uppergamma(alpha+1., j/epk)\n",
    "    plt.plot(plt_x, plt_y, 'o')\n",
    "plt.xscale('log')\n",
    "#plt.yscale('log')\n",
    "plt.xlabel('logged')\n",
    "#plt.ylabel('logged')\n",
    "plt.title('Complete Gamma Fn.')\n",
    "plt.show()\n"
   ]
  },
  {
   "cell_type": "code",
   "execution_count": null,
   "metadata": {
    "collapsed": true
   },
   "outputs": [],
   "source": []
  },
  {
   "cell_type": "code",
   "execution_count": null,
   "metadata": {
    "collapsed": true
   },
   "outputs": [],
   "source": []
  },
  {
   "cell_type": "markdown",
   "metadata": {},
   "source": [
    "### The incomplete gamma functions satisfy simple recurrence relations:"
   ]
  },
  {
   "cell_type": "markdown",
   "metadata": {},
   "source": [
    "0 is the lower limit and b is the upper limit, set a 2 by mp.mpf(2)"
   ]
  },
  {
   "cell_type": "markdown",
   "metadata": {},
   "source": [
    "mp.mpf just means mpf float."
   ]
  },
  {
   "cell_type": "code",
   "execution_count": null,
   "metadata": {
    "collapsed": false
   },
   "outputs": [],
   "source": [
    "mp.mpf(2)"
   ]
  },
  {
   "cell_type": "code",
   "execution_count": null,
   "metadata": {
    "collapsed": false
   },
   "outputs": [],
   "source": [
    "mp.dps = 25\n",
    "z, b = mp.mpf(3.5), mp.mpf(2)"
   ]
  },
  {
   "cell_type": "code",
   "execution_count": null,
   "metadata": {
    "collapsed": false
   },
   "outputs": [],
   "source": [
    "mp.gammainc(z+1, b)"
   ]
  },
  {
   "cell_type": "code",
   "execution_count": null,
   "metadata": {
    "collapsed": false
   },
   "outputs": [],
   "source": [
    "z * mp.gammainc(z,b) + b**z*mp.exp(-b)"
   ]
  },
  {
   "cell_type": "code",
   "execution_count": null,
   "metadata": {
    "collapsed": false
   },
   "outputs": [],
   "source": [
    "mp.gammainc(z+1,0,b)"
   ]
  },
  {
   "cell_type": "code",
   "execution_count": null,
   "metadata": {
    "collapsed": false
   },
   "outputs": [],
   "source": [
    "z * mp.gammainc(z,0,b) - b**z*mp.exp(-b)"
   ]
  },
  {
   "cell_type": "code",
   "execution_count": null,
   "metadata": {
    "collapsed": true
   },
   "outputs": [],
   "source": []
  },
  {
   "cell_type": "code",
   "execution_count": null,
   "metadata": {
    "collapsed": false
   },
   "outputs": [],
   "source": [
    "engs1 = numpy.arange(1,10000000,1)"
   ]
  },
  {
   "cell_type": "code",
   "execution_count": null,
   "metadata": {
    "collapsed": false
   },
   "outputs": [],
   "source": [
    "len(engs1)"
   ]
  },
  {
   "cell_type": "code",
   "execution_count": null,
   "metadata": {
    "collapsed": true
   },
   "outputs": [],
   "source": [
    "cpl_Idx = -1.8\n",
    "#engs = 10000000.0\n",
    "cutoff = 100.0"
   ]
  },
  {
   "cell_type": "code",
   "execution_count": null,
   "metadata": {
    "collapsed": false
   },
   "outputs": [],
   "source": [
    "a = float(sy.uppergamma(cpl_Idx+1., (engs1[100000]/cutoff))); a"
   ]
  },
  {
   "cell_type": "code",
   "execution_count": null,
   "metadata": {
    "collapsed": false
   },
   "outputs": [],
   "source": [
    "mp.gammainc(cpl_Idx+1., 0, (engs1[100000]/cutoff))"
   ]
  },
  {
   "cell_type": "code",
   "execution_count": null,
   "metadata": {
    "collapsed": true
   },
   "outputs": [],
   "source": []
  }
 ],
 "metadata": {
  "kernelspec": {
   "display_name": "Python 2",
   "language": "python",
   "name": "python2"
  },
  "language_info": {
   "codemirror_mode": {
    "name": "ipython",
    "version": 2
   },
   "file_extension": ".py",
   "mimetype": "text/x-python",
   "name": "python",
   "nbconvert_exporter": "python",
   "pygments_lexer": "ipython2",
   "version": "2.7.12"
  }
 },
 "nbformat": 4,
 "nbformat_minor": 0
}
