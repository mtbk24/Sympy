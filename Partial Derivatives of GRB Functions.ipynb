{
 "cells": [
  {
   "cell_type": "code",
   "execution_count": 20,
   "metadata": {
    "collapsed": false
   },
   "outputs": [],
   "source": [
    "from __future__ import division\n",
    "import numpy\n",
    "from collections import OrderedDict\n",
    "import matplotlib.pyplot as plt\n",
    "%matplotlib inline"
   ]
  },
  {
   "cell_type": "code",
   "execution_count": 2,
   "metadata": {
    "collapsed": true
   },
   "outputs": [],
   "source": [
    "def PartialDerivatives(func, dpar, *params):\n",
    "    '''\n",
    "    PartialDerivatives(func, dpar, *params) # or **params for dictionary notation.\n",
    "\n",
    "    func -- str, the function equation.  Not name, but the math of the function.  Make sure the parameters within the function match all of those parameters within the parameter list. \n",
    "    *** WARNING ***: sympy requires ln for natural log and log for log base 10 as input.  However, it outputs log and log10.\n",
    "\n",
    "    dpar -- str, parameter derivative is wrt. example: 'alpha'\n",
    "\n",
    "    params -- list of strings, pass a list of strings containing the parameter names.  Make sure they match all of those included in the func.  energy and enorm are included by default, but it's not a bad idea to include them anyhow to get used to the notation.\n",
    "\n",
    "    old:  params -- dict, pass to params with **dictname, where dictname is a dictionary of all the parameters the function takes.\n",
    "\n",
    "    EXAMPLE:  \n",
    "    lower = 'energy * norm_band *((energy/enorm)**alpha)*(exp(-((energy*(2.+alpha))/epeak)))'\n",
    "    pars = 'alpha beta epeak norm_band enorm energy'.split(' ')\n",
    "\n",
    "    PartialDerivatives(lower, 'epeak', *pars)\n",
    "    '''\n",
    "    import sympy\n",
    "    from sympy import mpmath, integrate, diff, exp, log, ln, sqrt, lambdify\n",
    "    from sympy import Function, Symbol\n",
    "    # in this program, sympy uses log for log10 and ln for natural log.\n",
    "    from sympy.parsing.sympy_parser import parse_expr\n",
    "    from sympy.mpmath import atanh\n",
    "    enorm\t\t= Symbol('enorm', real=True)\n",
    "    energy\t\t= Symbol('energy', real=True)\n",
    "\n",
    "    # for par in params.keys():  # old dictionary notation\n",
    "    for par in params:\n",
    "        locals()[par] = Symbol('%s'%par, real=True)\n",
    "\n",
    "    answer\t= diff(eval(func), eval(dpar), method='quad')\n",
    "    return answer"
   ]
  },
  {
   "cell_type": "code",
   "execution_count": 3,
   "metadata": {
    "collapsed": true
   },
   "outputs": [],
   "source": [
    "'''********   Propagate BAND errors   *********'''\n",
    "pars = 'alpha beta efold norm'.split(' ')\n",
    "lower = 'norm * energy * ((energy/enorm)**alpha)*(exp(-(energy/efold)))'\n",
    "upper = 'norm * energy * ((((alpha-beta)*efold)/enorm)**(alpha-beta)) * (exp(beta-alpha))*((energy/enorm)**beta)'"
   ]
  },
  {
   "cell_type": "code",
   "execution_count": 4,
   "metadata": {
    "collapsed": true
   },
   "outputs": [],
   "source": [
    "energy = numpy.logspace(1, 8, 10000)"
   ]
  },
  {
   "cell_type": "code",
   "execution_count": 5,
   "metadata": {
    "collapsed": true
   },
   "outputs": [],
   "source": [
    "from numpy import exp, log"
   ]
  },
  {
   "cell_type": "code",
   "execution_count": 6,
   "metadata": {
    "collapsed": false
   },
   "outputs": [],
   "source": [
    "#for name in pars:\n",
    "dpar = 'alpha'\n",
    "out_lo = str(PartialDerivatives(lower, str(dpar), *pars))\n",
    "out_up = str(PartialDerivatives(upper, str(dpar), *pars))\n",
    "alpha = -1.26\n",
    "beta = -2.23\n",
    "efold = 514.93\n",
    "enorm = 100.0\n",
    "norm = 0.17\n",
    "y1 = eval(lower) + eval(upper)\n",
    "y2 = eval(out_lo) + eval(out_up)\n",
    "x = energy"
   ]
  },
  {
   "cell_type": "code",
   "execution_count": 13,
   "metadata": {
    "collapsed": false
   },
   "outputs": [
    {
     "data": {
      "text/plain": [
       "<matplotlib.legend.Legend at 0x10d17f510>"
      ]
     },
     "execution_count": 13,
     "metadata": {},
     "output_type": "execute_result"
    },
    {
     "data": {
      "image/png": "[encoded data removed]",
      "text/plain": [
       "<matplotlib.figure.Figure at 0x1064f4fd0>"
      ]
     },
     "metadata": {},
     "output_type": "display_data"
    }
   ],
   "source": [
    "fig = plt.figure(figsize=(11,7))\n",
    "\n",
    "#plt.hlines(0, 10, 100000000, hold=True)#colors='k', linestyles='solid')\n",
    "plt.plot(y1, color='red', label='function')\n",
    "plt.plot(y2, color='blue', label='function wrt alpha')\n",
    "#plt.ylim(-60, 800)\n",
    "#plt.xlim(5, 5E+7)\n",
    "plt.xscale('log')\n",
    "#plt.yscale('log')\n",
    "plt.legend(loc='best')\n",
    "\n",
    "\n",
    "#plt.ylim = [y.min(), y.max()]"
   ]
  },
  {
   "cell_type": "code",
   "execution_count": null,
   "metadata": {
    "collapsed": true
   },
   "outputs": [],
   "source": []
  },
  {
   "cell_type": "code",
   "execution_count": 23,
   "metadata": {
    "collapsed": true
   },
   "outputs": [],
   "source": [
    "# This version of the band function is N(E), the Photon Flux Density, or known as model out of model, emodel, and eemodel.\n",
    "# This version \n",
    "def bandA(Energy, **Pars):\n",
    "    alpha = round(float(Pars['alpha']), 5)\n",
    "    beta = round(float(Pars['beta']), 5)\n",
    "    efold = round(float(Pars['efold']), 5) # efolding energy\n",
    "    norm = round(float(Pars['norm']), 5)\n",
    "    eng = float(Energy)\n",
    "\n",
    "    eqn = []\n",
    "    if eng <= ((alpha-beta)*efold):\n",
    "        eqn = norm*((1./100.)**(alpha))*(eng**alpha)*(numpy.exp(-(eng/efold)))\n",
    "        return eqn\n",
    "\n",
    "    else:\n",
    "        eqn = norm*((1./100.)**(alpha))*((eng**beta) * numpy.exp(-(alpha-beta)) * (((alpha-beta)*efold)**(alpha-beta)))\n",
    "        return eqn\n",
    "\n",
    "def bandB(Energy, **Pars):\n",
    "    alpha = round(float(Pars['alpha']), 5)\n",
    "    beta = round(float(Pars['beta']), 5)\n",
    "    efold = round(float(Pars['efold']), 5) # efolding energy\n",
    "    norm = round(float(Pars['norm']), 5)\n",
    "    eng = float(Energy)\n",
    "\n",
    "    eqn = []\n",
    "    if eng <= ((alpha-beta)*efold):\n",
    "        eqn = norm*eng*((1./100.)**(alpha))*(eng**alpha)*(numpy.exp(-(eng/efold)))\n",
    "        return eqn\n",
    "\n",
    "    else:\n",
    "        eqn = norm*eng*((1./100.)**(alpha))*((eng**beta) * numpy.exp(-(alpha-beta)) * (((alpha-beta)*efold)**(alpha-beta)))\n",
    "        return eqn\n",
    "\n",
    "def bandC(Energy, **Pars):\n",
    "    alpha = round(float(Pars['alpha']), 5)\n",
    "    beta = round(float(Pars['beta']), 5)\n",
    "    efold = round(float(Pars['efold']), 5) # efolding energy\n",
    "    norm = round(float(Pars['norm']), 5)\n",
    "    eng = float(Energy)\n",
    "\n",
    "    eqn = []\n",
    "    if eng <= ((alpha-beta)*efold):\n",
    "        eqn = norm*(eng**2)*((1./100.)**(alpha))*(eng**alpha)*(numpy.exp(-(eng/efold)))\n",
    "        return eqn\n",
    "\n",
    "    else:\n",
    "        eqn = norm*(eng**2)*((1./100.)**(alpha))*((eng**beta) * numpy.exp(-(alpha-beta)) * (((alpha-beta)*efold)**(alpha-beta)))\n",
    "        return eqn\n",
    "\n"
   ]
  },
  {
   "cell_type": "code",
   "execution_count": 24,
   "metadata": {
    "collapsed": true
   },
   "outputs": [],
   "source": [
    "params = OrderedDict()\n",
    "\n",
    "params.update({'alpha':-1.0286698070834475})\n",
    "params.update({'beta':-2.2003327469378235})\n",
    "params.update({'efold':527.5755660475579})\n",
    "params.update({'norm':0.01748869026041366})"
   ]
  },
  {
   "cell_type": "code",
   "execution_count": 25,
   "metadata": {
    "collapsed": false
   },
   "outputs": [
    {
     "data": {
      "image/png": "[encoded data removed]",
      "text/plain": [
       "<matplotlib.figure.Figure at 0x1238135d0>"
      ]
     },
     "metadata": {},
     "output_type": "display_data"
    }
   ],
   "source": [
    "plt.figure(figsize=(11,7))\n",
    "for i in energy:\n",
    "    plt.plot(i,  bandB(i, **params), marker='.', markersize=2,  color='red')\n",
    "\n",
    "#plt.ylim(1E-13, 1E-12)\n",
    "plt.xlim(5, 5E+7)\n",
    "plt.xscale('log')\n",
    "plt.yscale('log')"
   ]
  },
  {
   "cell_type": "code",
   "execution_count": null,
   "metadata": {
    "collapsed": true
   },
   "outputs": [],
   "source": []
  },
  {
   "cell_type": "code",
   "execution_count": null,
   "metadata": {
    "collapsed": true
   },
   "outputs": [],
   "source": []
  },
  {
   "cell_type": "code",
   "execution_count": null,
   "metadata": {
    "collapsed": true
   },
   "outputs": [],
   "source": []
  },
  {
   "cell_type": "code",
   "execution_count": null,
   "metadata": {
    "collapsed": true
   },
   "outputs": [],
   "source": [
    "def wrt_param(energy):\n",
    "    if energy < ((alpha-beta)*efold):\n",
    "        out = str(PartialDerivatives(lower, str(dpar), *pars))\n",
    "        return eval(out)\n",
    "    else:\n",
    "        out = str(PartialDerivatives(upper, str(dpar), *pars))\n",
    "        return eval(out)"
   ]
  },
  {
   "cell_type": "code",
   "execution_count": null,
   "metadata": {
    "collapsed": false
   },
   "outputs": [],
   "source": [
    "for name in pars:\n",
    "    dpar = name\n",
    "    print wrt_param\n",
    "    print \"\"\n",
    "    #ptd_wrt_param = integrate.quad(wrt_param, emin_kcor, emax_kcor, limit=1000000)"
   ]
  },
  {
   "cell_type": "code",
   "execution_count": null,
   "metadata": {
    "collapsed": true
   },
   "outputs": [],
   "source": [
    "ppars = pars[0:nPars]\n",
    "Eiso_wrt_params = []\n",
    "for ppar in ppars:\n",
    "    dpar = ppar\n",
    "    ptd_wrt_param = integrate.quad(wrt_param, emin_kcor, emax_kcor, limit=1000000)\n",
    "    Eiso_wrt_params.append(ptd_wrt_param[0] * ((4. * math.pi * DL_cm**2 * (t90start-t90stop))/(1.+z)))\n",
    "partials = Eiso_wrt_params\n",
    "JacobErr, EisoErr = CalcErrors(partials, COVARMAT)"
   ]
  }
 ],
 "metadata": {
  "kernelspec": {
   "display_name": "Python 2",
   "language": "python",
   "name": "python2"
  },
  "language_info": {
   "codemirror_mode": {
    "name": "ipython",
    "version": 2
   },
   "file_extension": ".py",
   "mimetype": "text/x-python",
   "name": "python",
   "nbconvert_exporter": "python",
   "pygments_lexer": "ipython2",
   "version": "2.7.12"
  }
 },
 "nbformat": 4,
 "nbformat_minor": 0
}
