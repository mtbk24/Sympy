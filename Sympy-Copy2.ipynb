{
 "cells": [
  {
   "cell_type": "markdown",
   "metadata": {},
   "source": [
    "## To see this same notebook without the output in LaTex view, see the Sympy_GRBfunctions notebook.\n",
    "\n",
    "#### Those functions create usable output."
   ]
  },
  {
   "cell_type": "code",
   "execution_count": 6,
   "metadata": {
    "collapsed": true
   },
   "outputs": [],
   "source": [
    "from __future__ import division\n",
    "from sympy import *\n",
    "#from sympy import exp, integrate, Integral, pi\n",
    "#from sympy.abc import a,b,x,y,z\n",
    "#from sympy.abc import x\n",
    "#init_printing(use_unicode=True, wrap_line=False, no_global=True)"
   ]
  },
  {
   "cell_type": "markdown",
   "metadata": {},
   "source": [
    "## The Band Function"
   ]
  },
  {
   "cell_type": "markdown",
   "metadata": {},
   "source": [
    "\\begin{equation*}\n",
    "f_{\\text{BAND}}(E) = \n",
    "\\end{equation*}\n",
    "\n",
    "\n",
    "\n",
    "\\begin{equation}\n",
    "A \n",
    "\\begin{cases} \n",
    "\t\\left( \\frac{E}{100 \\text{ keV}} \\right) ^\\alpha \\text{ exp} \\left[ -\\frac{ \\left( \\alpha + 2 \\right) E}{E_{peak}} \\right], \\\\ \n",
    "\t\t\\ \\ \\ \\ \\ \\  \\text{ for } E < \\frac{(\\alpha - \\beta) E_{peak}}{\\alpha + 2} \\\\\n",
    "\t\t\\left( \\frac{E}{100 \\text{ keV}} \\right) ^\\beta \\text{ exp} \\left( \\beta - \\alpha \\right) \n",
    "\t\\left[ \\frac{ \\left( \\alpha - \\beta \\right) E_{peak}}{100 \\text{ keV} (\\alpha + 2)} \\right] ^{\\alpha - \\beta} .\\\\\n",
    "\t\t\\ \\ \\ \\ \\ \\  \\text{ for } E \\geqslant \\frac{(\\alpha - \\beta) E_{peak}}{\\alpha + 2}  \\\\\n",
    "\\end{cases}\n",
    "\\end{equation}"
   ]
  },
  {
   "cell_type": "markdown",
   "metadata": {},
   "source": [
    "This model has four free parameters: the amplitude A (photons s$^{-1}$ cm$^{-2}$ keV$^{-1}$), the low-energy index $\\alpha$, the high-energy index $\\beta$, and the peak in the $\\nu F_{\\nu}$ spectrum, $E_{peak}$ (keV).  \n",
    "\n",
    "$E_{peak}$ and the e-folding energy used in XSPEC, $E_0$, are related by the following equation,\n",
    "\\begin{equation}\n",
    "E_0 = \\frac{E_{peak}}{(\\alpha + 2)}.  \n",
    "\\end{equation}\n",
    "The ``break energy\" is related to the photon energy $E_{peak}$ of the peak of the $\\nu F_{\\nu}$ spectrum by\n",
    "\\begin{equation}\n",
    "E_{break} = \\frac{(\\alpha - \\beta ) E_{peak}}{(\\alpha + 2)} = E_0(\\alpha - \\beta).\n",
    "\\end{equation}"
   ]
  },
  {
   "cell_type": "markdown",
   "metadata": {},
   "source": [
    "#### In order to integrate this equation in Wolfram Alpha or Python's sympy package, you'll need to break it into two parts for the integration, based on their conditions.  You will also need to simplify it as much as possible."
   ]
  },
  {
   "cell_type": "markdown",
   "metadata": {},
   "source": [
    "Substitute the e-folding energy in for peak energy over alpha + 2.\n",
    "\n",
    "\\begin{equation*}\n",
    "f_{\\text{BAND}}(E) = \n",
    "\\end{equation*}\n",
    "\n",
    "\n",
    "\n",
    "\\begin{equation}\n",
    "A \n",
    "\\begin{cases} \n",
    "\t\\left( \\frac{E}{100 \\text{ keV}} \\right) ^\\alpha \\text{ exp} \\left[ -\\frac{E}{E_0} \\right], \\\\ \n",
    "\t\t\\ \\ \\ \\ \\ \\  \\text{ for } E < (\\alpha - \\beta) E_0 \\\\\n",
    "\t\t\\left( \\frac{E}{100 \\text{ keV}} \\right) ^\\beta \\text{ exp} \\left( \\beta - \\alpha \\right) \n",
    "\t\\left[ \\frac{ \\left( \\alpha - \\beta \\right) E_0}{100 \\text{ keV}} \\right] ^{\\alpha - \\beta} .\\\\\n",
    "\t\t\\ \\ \\ \\ \\ \\  \\text{ for } E \\geqslant (\\alpha - \\beta) E_0  \\\\\n",
    "\\end{cases}\n",
    "\\end{equation}"
   ]
  },
  {
   "cell_type": "markdown",
   "metadata": {},
   "source": [
    "Simplify this even more by substituting single letter variables for the parameters.\n",
    "\n",
    "\n",
    "y = $\\left( \\alpha - \\beta \\right)$ \n",
    "\n",
    "z = $E_0$ \n",
    "\n",
    "x = $E$ \n",
    "\n",
    "a = $\\alpha$ \n",
    "\n",
    "b = $\\beta$ \n",
    "\n",
    "remove the 100 keV normalization factor that will cause a hangup in sympy, but Wolfram Alpha can handle it.  You will add it back on by introducing a factor of (100^ alpha) after the integration is complete.  This is the factor that Wolfram Alpha will give if the factor of (1/100)^alpha is included in the function.\n",
    "\n",
    "remove the normalization (or Amplitude), $A$.  This parameter is intruduced as a nuience parameter that accounts for effects due to the detector, background, etc.\n",
    "We only care about the model."
   ]
  },
  {
   "cell_type": "markdown",
   "metadata": {},
   "source": [
    "\\begin{equation*}\n",
    "f_{\\text{BAND}}(E) = \n",
    "\\end{equation*}\n",
    "\n",
    "\n",
    "\n",
    "\\begin{equation}\n",
    "\\begin{cases} \n",
    "\t\\left( x \\right) ^a \\ \\text{ exp} \\left( -\\frac{x}{z} \\right), \\\\ \n",
    "\t\t\\ \\ \\ \\ \\ \\  \\text{ for lower part}\n",
    "        \\\\\n",
    "        \\\\\n",
    "\t\t\\left( x \\right) ^b \\ \\text{ exp} \\left( -y \\right) \n",
    "\t\\ \\left( y z \\right) ^y .\\\\\n",
    "\t\t\\ \\ \\ \\ \\ \\  \\text{ for upper part}   \\\\\n",
    "\\end{cases}\n",
    "\\end{equation}"
   ]
  },
  {
   "cell_type": "markdown",
   "metadata": {},
   "source": [
    "Set all variables as Symbols that are real and positive."
   ]
  },
  {
   "cell_type": "code",
   "execution_count": 7,
   "metadata": {
    "collapsed": true
   },
   "outputs": [],
   "source": [
    "y = Symbol('y', real=True) # y - (alpha-beta) for the upper part\n",
    "a = Symbol('a', positive=True, real=True) # a - alpha\n",
    "b = Symbol('b', positive=True, real=True) # b - beta\n",
    "z = Symbol('z', positive=True, real=True) # z - e0 = epeak/(alpha+2)\n",
    "x = Symbol('x', positive=True, real=True) # x - energy\n",
    "\n",
    "# integrate(y * ((x/100)**a)*(exp(-(x/z))), x)"
   ]
  },
  {
   "cell_type": "markdown",
   "metadata": {},
   "source": [
    "We really want integrate(y \\* ((x/100)\\*\\*a) \\* (exp(-(x/z))), x)  to work, but the factor of (1/100)^a causes problems.\n",
    "\n",
    "We just need to add on a factor of (100^(-a)) at the front of the ouput.  This will be the case for any function where we have a factor of (1/100)^a."
   ]
  },
  {
   "cell_type": "markdown",
   "metadata": {},
   "source": [
    "#### Making the output look like LaTex eqauations -- "
   ]
  },
  {
   "cell_type": "code",
   "execution_count": 3,
   "metadata": {
    "collapsed": false,
    "scrolled": false
   },
   "outputs": [],
   "source": [
    "# init_printing(use_latex=True)"
   ]
  },
  {
   "cell_type": "markdown",
   "metadata": {},
   "source": [
    "Calculating the lower part:"
   ]
  },
  {
   "cell_type": "markdown",
   "metadata": {},
   "source": [
    "s = np.where(condition, s1, s2)\n",
    "\n",
    "This is the same using an if else.  If condition is met, s1, else s2."
   ]
  },
  {
   "cell_type": "code",
   "execution_count": 1,
   "metadata": {
    "collapsed": true
   },
   "outputs": [],
   "source": [
    "import numpy as np"
   ]
  },
  {
   "cell_type": "raw",
   "metadata": {},
   "source": [
    "s = np.where(E < (alpha-beta)*E0, \n",
    "             Integral(((x)**a)*(exp(-x/z)), x),\n",
    "             Integral(((x**b) * exp(-y) * (y*z)**(y)), x)\n",
    "             )"
   ]
  },
  {
   "cell_type": "code",
   "execution_count": 8,
   "metadata": {
    "collapsed": false
   },
   "outputs": [],
   "source": [
    "y = Symbol('y', real=True) # y - (alpha-beta) for the upper part\n",
    "a = Symbol('alpha', positive=True, real=True) # a - alpha\n",
    "b = Symbol('beta', positive=True, real=True) # b - beta\n",
    "z = Symbol('E0', positive=True, real=True) # z - e0 = epeak/(alpha+2)\n",
    "x = Symbol('E', positive=True, real=True) # x - energy"
   ]
  },
  {
   "cell_type": "code",
   "execution_count": 9,
   "metadata": {
    "collapsed": false
   },
   "outputs": [
    {
     "ename": "TypeError",
     "evalue": "cannot determine truth value of\nE < E0*(alpha - beta)",
     "output_type": "error",
     "traceback": [
      "\u001b[0;31m---------------------------------------------------------------------------\u001b[0m",
      "\u001b[0;31mTypeError\u001b[0m                                 Traceback (most recent call last)",
      "\u001b[0;32m<ipython-input-9-0343ee4e645a>\u001b[0m in \u001b[0;36m<module>\u001b[0;34m()\u001b[0m\n\u001b[1;32m      1\u001b[0m s = np.where(x < (a-b)*z, \n\u001b[1;32m      2\u001b[0m              \u001b[0mIntegral\u001b[0m\u001b[0;34m(\u001b[0m\u001b[0;34m(\u001b[0m\u001b[0;34m(\u001b[0m\u001b[0mx\u001b[0m\u001b[0;34m)\u001b[0m\u001b[0;34m**\u001b[0m\u001b[0ma\u001b[0m\u001b[0;34m)\u001b[0m\u001b[0;34m*\u001b[0m\u001b[0;34m(\u001b[0m\u001b[0mexp\u001b[0m\u001b[0;34m(\u001b[0m\u001b[0;34m-\u001b[0m\u001b[0mx\u001b[0m\u001b[0;34m/\u001b[0m\u001b[0mz\u001b[0m\u001b[0;34m)\u001b[0m\u001b[0;34m)\u001b[0m\u001b[0;34m,\u001b[0m \u001b[0mx\u001b[0m\u001b[0;34m)\u001b[0m\u001b[0;34m,\u001b[0m\u001b[0;34m\u001b[0m\u001b[0m\n\u001b[0;32m----> 3\u001b[0;31m              \u001b[0mIntegral\u001b[0m\u001b[0;34m(\u001b[0m\u001b[0;34m(\u001b[0m\u001b[0;34m(\u001b[0m\u001b[0mx\u001b[0m\u001b[0;34m**\u001b[0m\u001b[0mb\u001b[0m\u001b[0;34m)\u001b[0m \u001b[0;34m*\u001b[0m \u001b[0mexp\u001b[0m\u001b[0;34m(\u001b[0m\u001b[0;34m-\u001b[0m\u001b[0my\u001b[0m\u001b[0;34m)\u001b[0m \u001b[0;34m*\u001b[0m \u001b[0;34m(\u001b[0m\u001b[0my\u001b[0m\u001b[0;34m*\u001b[0m\u001b[0mz\u001b[0m\u001b[0;34m)\u001b[0m\u001b[0;34m**\u001b[0m\u001b[0;34m(\u001b[0m\u001b[0my\u001b[0m\u001b[0;34m)\u001b[0m\u001b[0;34m)\u001b[0m\u001b[0;34m,\u001b[0m \u001b[0mx\u001b[0m\u001b[0;34m)\u001b[0m\u001b[0;34m\u001b[0m\u001b[0m\n\u001b[0m\u001b[1;32m      4\u001b[0m              )\n",
      "\u001b[0;32m/Users/KimiZ/anaconda/lib/python2.7/site-packages/sympy/core/relational.pyc\u001b[0m in \u001b[0;36m__nonzero__\u001b[0;34m(self)\u001b[0m\n\u001b[1;32m    101\u001b[0m \u001b[0;34m\u001b[0m\u001b[0m\n\u001b[1;32m    102\u001b[0m     \u001b[0;32mdef\u001b[0m \u001b[0m__nonzero__\u001b[0m\u001b[0;34m(\u001b[0m\u001b[0mself\u001b[0m\u001b[0;34m)\u001b[0m\u001b[0;34m:\u001b[0m\u001b[0;34m\u001b[0m\u001b[0m\n\u001b[0;32m--> 103\u001b[0;31m         \u001b[0;32mraise\u001b[0m \u001b[0mTypeError\u001b[0m\u001b[0;34m(\u001b[0m\u001b[0;34m\"cannot determine truth value of\\n%s\"\u001b[0m \u001b[0;34m%\u001b[0m \u001b[0mself\u001b[0m\u001b[0;34m)\u001b[0m\u001b[0;34m\u001b[0m\u001b[0m\n\u001b[0m\u001b[1;32m    104\u001b[0m \u001b[0;34m\u001b[0m\u001b[0m\n\u001b[1;32m    105\u001b[0m     \u001b[0m__bool__\u001b[0m \u001b[0;34m=\u001b[0m \u001b[0m__nonzero__\u001b[0m\u001b[0;34m\u001b[0m\u001b[0m\n",
      "\u001b[0;31mTypeError\u001b[0m: cannot determine truth value of\nE < E0*(alpha - beta)"
     ]
    }
   ],
   "source": [
    "s = np.where(x < (a-b)*z, \n",
    "             Integral(((x)**a)*(exp(-x/z)), x),\n",
    "             Integral(((x**b) * exp(-y) * (y*z)**(y)), x))"
   ]
  },
  {
   "cell_type": "code",
   "execution_count": null,
   "metadata": {
    "collapsed": true
   },
   "outputs": [],
   "source": []
  },
  {
   "cell_type": "code",
   "execution_count": 4,
   "metadata": {
    "collapsed": false
   },
   "outputs": [
    {
     "data": {
      "text/plain": [
       "Integral(x**a*exp(-x/z), x)"
      ]
     },
     "execution_count": 4,
     "metadata": {},
     "output_type": "execute_result"
    }
   ],
   "source": [
    "integ_lower = Integral(((x)**a)*(exp(-x/z)), x); integ_lower"
   ]
  },
  {
   "cell_type": "code",
   "execution_count": 5,
   "metadata": {
    "collapsed": false
   },
   "outputs": [
    {
     "data": {
      "text/plain": [
       "a*z*z**a*gamma(a + 1)*lowergamma(a + 1, x/z)/gamma(a + 2) + z*z**a*gamma(a + 1)*lowergamma(a + 1, x/z)/gamma(a + 2)"
      ]
     },
     "execution_count": 5,
     "metadata": {},
     "output_type": "execute_result"
    }
   ],
   "source": [
    "answer = integ_lower.doit(); answer"
   ]
  },
  {
   "cell_type": "code",
   "execution_count": 6,
   "metadata": {
    "collapsed": false
   },
   "outputs": [
    {
     "data": {
      "text/plain": [
       "z**(a + 1)*lowergamma(a + 1, x/z)"
      ]
     },
     "execution_count": 6,
     "metadata": {},
     "output_type": "execute_result"
    }
   ],
   "source": [
    "lower = answer.simplify(); lower"
   ]
  },
  {
   "cell_type": "markdown",
   "metadata": {},
   "source": [
    "### I will get to what the $\\gamma$ symbol represents later.\n",
    "\n",
    "Now we calculate the upper part:"
   ]
  },
  {
   "cell_type": "code",
   "execution_count": 7,
   "metadata": {
    "collapsed": false
   },
   "outputs": [
    {
     "data": {
      "text/plain": [
       "Integral(x**b*(y*z)**y*exp(-y), x)"
      ]
     },
     "execution_count": 7,
     "metadata": {},
     "output_type": "execute_result"
    }
   ],
   "source": [
    "integ_upper = Integral( ((x**b) * exp(-y) * (y*z)**(y)), x); integ_upper"
   ]
  },
  {
   "cell_type": "code",
   "execution_count": 8,
   "metadata": {
    "collapsed": false
   },
   "outputs": [
    {
     "data": {
      "text/plain": [
       "x**(b + 1)*(y*z)**y*exp(-y)/(b + 1)"
      ]
     },
     "execution_count": 8,
     "metadata": {},
     "output_type": "execute_result"
    }
   ],
   "source": [
    "answer2 = integ_upper.doit(); answer2"
   ]
  },
  {
   "cell_type": "code",
   "execution_count": 9,
   "metadata": {
    "collapsed": false
   },
   "outputs": [
    {
     "data": {
      "text/plain": [
       "x**(b + 1)*(y*z*exp(-1))**y/(b + 1)"
      ]
     },
     "execution_count": 9,
     "metadata": {},
     "output_type": "execute_result"
    }
   ],
   "source": [
    "upper = answer2.simplify(); upper"
   ]
  },
  {
   "cell_type": "markdown",
   "metadata": {},
   "source": [
    "#### Now we want to see what these look like with the actual parameter names."
   ]
  },
  {
   "cell_type": "code",
   "execution_count": 10,
   "metadata": {
    "collapsed": true
   },
   "outputs": [],
   "source": [
    "y = Symbol('(alpha-beta)', real=True) \n",
    "a = Symbol('alpha', positive=True, real=True)\n",
    "b = Symbol('beta', positive=True, real=True)\n",
    "z = Symbol('E0', positive=True, real=True) # e0 = epeak/(alpha+2)\n",
    "x = Symbol('E', positive=True, real=True) \n",
    "# E is an energy array that will be passed to the function after it has been integrated."
   ]
  },
  {
   "cell_type": "code",
   "execution_count": 11,
   "metadata": {
    "collapsed": false
   },
   "outputs": [
    {
     "data": {
      "text/plain": [
       "Integral(E**alpha*exp(-E/E0), E)"
      ]
     },
     "execution_count": 11,
     "metadata": {},
     "output_type": "execute_result"
    }
   ],
   "source": [
    "integ_lower = Integral(((x)**a)*(exp(-x/z)), x); integ_lower"
   ]
  },
  {
   "cell_type": "code",
   "execution_count": 12,
   "metadata": {
    "collapsed": false
   },
   "outputs": [
    {
     "data": {
      "text/plain": [
       "E0*E0**alpha*alpha*gamma(alpha + 1)*lowergamma(alpha + 1, E/E0)/gamma(alpha + 2) + E0*E0**alpha*gamma(alpha + 1)*lowergamma(alpha + 1, E/E0)/gamma(alpha + 2)"
      ]
     },
     "execution_count": 12,
     "metadata": {},
     "output_type": "execute_result"
    }
   ],
   "source": [
    "answer = integ_lower.doit(); answer"
   ]
  },
  {
   "cell_type": "code",
   "execution_count": 13,
   "metadata": {
    "collapsed": false
   },
   "outputs": [
    {
     "data": {
      "text/plain": [
       "E0**(alpha + 1)*lowergamma(alpha + 1, E/E0)"
      ]
     },
     "execution_count": 13,
     "metadata": {},
     "output_type": "execute_result"
    }
   ],
   "source": [
    "lower = answer.simplify(); lower"
   ]
  },
  {
   "cell_type": "code",
   "execution_count": 14,
   "metadata": {
    "collapsed": false
   },
   "outputs": [
    {
     "data": {
      "text/plain": [
       "Integral(E**beta*((alpha-beta)*E0)**(alpha-beta)*exp(-(alpha-beta)), E)"
      ]
     },
     "execution_count": 14,
     "metadata": {},
     "output_type": "execute_result"
    }
   ],
   "source": [
    "integ_upper = Integral( ((x**b) * exp(-y) * (y*z)**(y)), x); integ_upper"
   ]
  },
  {
   "cell_type": "code",
   "execution_count": 15,
   "metadata": {
    "collapsed": false
   },
   "outputs": [
    {
     "data": {
      "text/plain": [
       "E**(beta + 1)*((alpha-beta)*E0)**(alpha-beta)*exp(-(alpha-beta))/(beta + 1)"
      ]
     },
     "execution_count": 15,
     "metadata": {},
     "output_type": "execute_result"
    }
   ],
   "source": [
    "answer2 = integ_upper.doit(); answer2"
   ]
  },
  {
   "cell_type": "code",
   "execution_count": 16,
   "metadata": {
    "collapsed": false
   },
   "outputs": [
    {
     "data": {
      "text/plain": [
       "E**(beta + 1)*((alpha-beta)*E0*exp(-1))**(alpha-beta)/(beta + 1)"
      ]
     },
     "execution_count": 16,
     "metadata": {},
     "output_type": "execute_result"
    }
   ],
   "source": [
    "upper = answer2.simplify(); upper"
   ]
  },
  {
   "cell_type": "markdown",
   "metadata": {},
   "source": [
    " "
   ]
  },
  {
   "cell_type": "markdown",
   "metadata": {},
   "source": [
    "### Now that we've shown you in pretty LaTex output, We need that output in a format that we can use as Python input."
   ]
  },
  {
   "cell_type": "code",
   "execution_count": 17,
   "metadata": {
    "collapsed": true
   },
   "outputs": [],
   "source": [
    "# as expression.  \n",
    "upper_expression = upper.as_expr()"
   ]
  },
  {
   "cell_type": "code",
   "execution_count": 18,
   "metadata": {
    "collapsed": false
   },
   "outputs": [
    {
     "name": "stdout",
     "output_type": "stream",
     "text": [
      "E**(beta + 1)*((alpha-beta)*E0*exp(-1))**(alpha-beta)/(beta + 1)\n"
     ]
    }
   ],
   "source": [
    "print upper_expression"
   ]
  },
  {
   "cell_type": "markdown",
   "metadata": {},
   "source": [
    "### If you start the session without the init_printing(), this printing will be the default, not the LaTex view."
   ]
  },
  {
   "cell_type": "code",
   "execution_count": 19,
   "metadata": {
    "collapsed": true
   },
   "outputs": [],
   "source": [
    "# as expression.  \n",
    "lower_expression = lower.as_expr()"
   ]
  },
  {
   "cell_type": "code",
   "execution_count": 20,
   "metadata": {
    "collapsed": false
   },
   "outputs": [
    {
     "name": "stdout",
     "output_type": "stream",
     "text": [
      "E0**(alpha + 1)*lowergamma(alpha + 1, E/E0)\n"
     ]
    }
   ],
   "source": [
    "print lower_expression"
   ]
  },
  {
   "cell_type": "markdown",
   "metadata": {},
   "source": [
    "### That $\\gamma$ function we saw earlier is the same as the \"lowergamma\" we see here.  \n",
    "\n",
    "### The lowergamma stands for the Incomplete Gamma Function, or gammainc in sympy's mpmath."
   ]
  },
  {
   "cell_type": "code",
   "execution_count": 21,
   "metadata": {
    "collapsed": true
   },
   "outputs": [],
   "source": [
    "from mpmath import gammainc"
   ]
  },
  {
   "cell_type": "markdown",
   "metadata": {},
   "source": [
    "Imagine that alpha = -1.342, E = 1000.0 keV and E0 = 592.738 keV.\n",
    "\n",
    "Then lowergamma(alpha + 1, E/E0) is also\n",
    "\n",
    "gammainc(alpha + 1, E/E0):"
   ]
  },
  {
   "cell_type": "code",
   "execution_count": 22,
   "metadata": {
    "collapsed": false
   },
   "outputs": [
    {
     "data": {
      "text/plain": [
       "mpf('0.057128909548596361')"
      ]
     },
     "execution_count": 22,
     "metadata": {},
     "output_type": "execute_result"
    }
   ],
   "source": [
    "gammainc(-1.342 + 1.0, 1000.0/592.738 )"
   ]
  },
  {
   "cell_type": "markdown",
   "metadata": {},
   "source": [
    "In a usable format, use float() around it"
   ]
  },
  {
   "cell_type": "code",
   "execution_count": 23,
   "metadata": {
    "collapsed": false
   },
   "outputs": [
    {
     "data": {
      "text/plain": [
       "0.05712890954859636"
      ]
     },
     "execution_count": 23,
     "metadata": {},
     "output_type": "execute_result"
    }
   ],
   "source": [
    "float(gammainc(-1.342 + 1.0, 1000.0/592.738 ))"
   ]
  },
  {
   "cell_type": "markdown",
   "metadata": {},
   "source": [
    "## Comptonized Model"
   ]
  },
  {
   "cell_type": "markdown",
   "metadata": {},
   "source": [
    "The comptonized model (COMP) is an exponential cutoff power-law and is a version of the BAND function in the limit that $\\beta$ $\\rightarrow$ $-\\infty$:\n",
    "\n",
    "\\begin{equation}\n",
    "f_{\\text{COMP}}(E) = A \\left(\\frac{E}{E_{piv}}\\right)^{\\alpha} \\text{exp} \\left[ - \\frac{(\\alpha + 2) E}{E_{peak}} \\right].\n",
    "\\end{equation}\n",
    "\n",
    "This model has three free parameters: the amplitude A (photons s$^{-1}$ cm$^{-2}$ keV$^{-1}$), the low-energy index $\\alpha$ and the peak in the $\\nu F_{\\nu}$ spectrum, $E_{peak}$ (keV).  $E_{piv}$ is set to 100 keV, same as the PL model.  The COMP best fits dim bursts that lack high-energy emission required to constrain BANDs $\\beta$."
   ]
  },
  {
   "cell_type": "markdown",
   "metadata": {},
   "source": [
    "\\begin{equation}\n",
    "f_{\\text{COMP}}(E) = E^{\\alpha} \\ \\text{exp} \\left( - \\frac{ E}{E_0} \\right).\n",
    "\\end{equation}"
   ]
  },
  {
   "cell_type": "code",
   "execution_count": 24,
   "metadata": {
    "collapsed": true
   },
   "outputs": [],
   "source": [
    "a = Symbol('alpha', positive=True, real=True)\n",
    "z = Symbol('E0', positive=True, real=True) # e0 = epeak/(alpha+2)\n",
    "x = Symbol('E', positive=True, real=True) \n",
    "# E is an energy array that will be passed to the function after it has been integrated."
   ]
  },
  {
   "cell_type": "code",
   "execution_count": 25,
   "metadata": {
    "collapsed": false
   },
   "outputs": [
    {
     "data": {
      "text/plain": [
       "Integral(E**alpha*exp(-E/E0), E)"
      ]
     },
     "execution_count": 25,
     "metadata": {},
     "output_type": "execute_result"
    }
   ],
   "source": [
    "integ_copl = Integral( ((x**a) * exp(-x/z)), x); integ_copl"
   ]
  },
  {
   "cell_type": "code",
   "execution_count": 26,
   "metadata": {
    "collapsed": false
   },
   "outputs": [
    {
     "data": {
      "text/plain": [
       "E0*E0**alpha*alpha*gamma(alpha + 1)*lowergamma(alpha + 1, E/E0)/gamma(alpha + 2) + E0*E0**alpha*gamma(alpha + 1)*lowergamma(alpha + 1, E/E0)/gamma(alpha + 2)"
      ]
     },
     "execution_count": 26,
     "metadata": {},
     "output_type": "execute_result"
    }
   ],
   "source": [
    "answer = integ_copl.doit(); answer"
   ]
  },
  {
   "cell_type": "code",
   "execution_count": 27,
   "metadata": {
    "collapsed": false
   },
   "outputs": [
    {
     "data": {
      "text/plain": [
       "E0**(alpha + 1)*lowergamma(alpha + 1, E/E0)"
      ]
     },
     "execution_count": 27,
     "metadata": {},
     "output_type": "execute_result"
    }
   ],
   "source": [
    "COPL = answer.simplify(); COPL"
   ]
  },
  {
   "cell_type": "markdown",
   "metadata": {},
   "source": [
    "### Again, the $\\gamma$ presented here is the Incomplete Gamma Function.  See the mpmath's gammainc function discussion above."
   ]
  },
  {
   "cell_type": "markdown",
   "metadata": {},
   "source": [
    "Since we'd reall like to include the (1/100)^a, but we can't becaumse sympy won't calculate it, we have to add on that factor of (100^a) to the front of the output."
   ]
  },
  {
   "cell_type": "markdown",
   "metadata": {},
   "source": [
    "## Power-Law Model"
   ]
  },
  {
   "cell_type": "markdown",
   "metadata": {},
   "source": [
    "The most simple model is a single power-law and has only two free parameters,\n",
    "\n",
    "\\begin{equation}\n",
    "f_{\\text{PL}}(E) = A \\left(\\frac{E}{E_{piv}}\\right)^{\\alpha}\n",
    "\\end{equation}\n",
    "\n",
    "which are A, the amplitude (photons s$^{-1}$ cm$^{-2}$ keV$^{-1}$), $\\alpha$ is the spectral index, and the pivot energy $E_{piv}$ is set to 100 keV.  The pivot energy normalizes the model to the bandpass of the data."
   ]
  },
  {
   "cell_type": "code",
   "execution_count": 28,
   "metadata": {
    "collapsed": true
   },
   "outputs": [],
   "source": [
    "a = Symbol('alpha', positive=True, real=True)\n",
    "x = Symbol('E', positive=True, real=True) "
   ]
  },
  {
   "cell_type": "code",
   "execution_count": 29,
   "metadata": {
    "collapsed": false
   },
   "outputs": [
    {
     "data": {
      "text/plain": [
       "Integral((E/100)**alpha, E)"
      ]
     },
     "execution_count": 29,
     "metadata": {},
     "output_type": "execute_result"
    }
   ],
   "source": [
    "integ_pl = Integral( (x/100)**a, x); integ_pl"
   ]
  },
  {
   "cell_type": "code",
   "execution_count": 30,
   "metadata": {
    "collapsed": false
   },
   "outputs": [
    {
     "data": {
      "text/plain": [
       "100*(E/100)**(alpha + 1)/(alpha + 1)"
      ]
     },
     "execution_count": 30,
     "metadata": {},
     "output_type": "execute_result"
    }
   ],
   "source": [
    "answer = integ_pl.doit(); answer"
   ]
  },
  {
   "cell_type": "code",
   "execution_count": 31,
   "metadata": {
    "collapsed": false
   },
   "outputs": [
    {
     "data": {
      "text/plain": [
       "100**(-alpha)*E**(alpha + 1)/(alpha + 1)"
      ]
     },
     "execution_count": 31,
     "metadata": {},
     "output_type": "execute_result"
    }
   ],
   "source": [
    "PL = answer.simplify(); PL"
   ]
  },
  {
   "cell_type": "markdown",
   "metadata": {},
   "source": [
    "### Here I can demonstrate the factor of (1/100)^a because of how simple the power-law model is.  The result is a factor of 100^(-a), just as we see in the BAND Funciton and the Cutoff Power-Law function."
   ]
  },
  {
   "cell_type": "markdown",
   "metadata": {},
   "source": [
    "## Blackbody Model"
   ]
  },
  {
   "cell_type": "markdown",
   "metadata": {},
   "source": [
    "The blackbody is a Planck-like function believed to represent the thermal emission from the jet's photosphere.  The fireball model predicts two components, a non-thermal synchrotron and a strong thermal component associated with the jet's photosphere, which would be observable when the ejecta layers become optically thin to Thompson scattering (Goodman 1986; M$\\acute{e}$sz$\\acute{a}$ros 2002; Rees $\\&$ M$\\acute{e}$sz$\\acute{a}$ros 2005).\n",
    "\n",
    "\n",
    "\\begin{equation}\n",
    "f_{\\text{BBODY}}(E) = A \\frac{E^{2}}{exp\\left(\\frac{E}{kT}\\right)-1}\n",
    "\\end{equation}\n",
    "This model has one free parameter, $kT$, and is always nested with one of the non-thermal synchrotron models listed above."
   ]
  },
  {
   "cell_type": "markdown",
   "metadata": {},
   "source": [
    "\\begin{equation}\n",
    "f_{\\text{BBODY}}(E) = \\frac{x^{2}}{exp\\left(\\frac{x}{y}\\right)-1}\n",
    "\\end{equation}"
   ]
  },
  {
   "cell_type": "markdown",
   "metadata": {},
   "source": [
    "## See also:\n",
    "http://webcache.googleusercontent.com/search?q=cache:gz4pTM5COAkJ:csa.phys.uvic.ca/teaching/solve-problems-with-sympy/examples-of-problems-to-solve-with-sympy-live/at_download/file+&cd=4&hl=en&ct=clnk&gl=us"
   ]
  },
  {
   "cell_type": "markdown",
   "metadata": {},
   "source": [
    "http://csa.phys.uvic.ca/teaching/solve-problems-with-sympy"
   ]
  },
  {
   "cell_type": "code",
   "execution_count": 32,
   "metadata": {
    "collapsed": true
   },
   "outputs": [],
   "source": [
    "x = Symbol('E', positive=True, real=True) # energy\n",
    "y = Symbol('kT', positive=True, real=True) # kT"
   ]
  },
  {
   "cell_type": "code",
   "execution_count": 36,
   "metadata": {
    "collapsed": false,
    "scrolled": true
   },
   "outputs": [
    {
     "data": {
      "text/plain": [
       "Integral(E**2/(exp(E) - 1), E)"
      ]
     },
     "execution_count": 36,
     "metadata": {},
     "output_type": "execute_result"
    }
   ],
   "source": [
    "integrate((x**2)/(exp(x)-1), x)"
   ]
  },
  {
   "cell_type": "code",
   "execution_count": null,
   "metadata": {
    "collapsed": false
   },
   "outputs": [],
   "source": [
    "n"
   ]
  },
  {
   "cell_type": "code",
   "execution_count": null,
   "metadata": {
    "collapsed": true
   },
   "outputs": [],
   "source": [
    "top = integrate(x**3/(exp(x)-1),(x,0,oo))"
   ]
  },
  {
   "cell_type": "code",
   "execution_count": null,
   "metadata": {
    "collapsed": false
   },
   "outputs": [],
   "source": [
    "bottom = integrate(x**2/(exp(x)-1),(x,0,oo))"
   ]
  },
  {
   "cell_type": "code",
   "execution_count": null,
   "metadata": {
    "collapsed": false
   },
   "outputs": [],
   "source": [
    "zol = (top/bottom).evalf()"
   ]
  },
  {
   "cell_type": "code",
   "execution_count": null,
   "metadata": {
    "collapsed": false
   },
   "outputs": [],
   "source": [
    "zol"
   ]
  },
  {
   "cell_type": "code",
   "execution_count": null,
   "metadata": {
    "collapsed": true
   },
   "outputs": [],
   "source": []
  },
  {
   "cell_type": "code",
   "execution_count": null,
   "metadata": {
    "collapsed": false
   },
   "outputs": [],
   "source": [
    "BBODY = answer.simplify(); BBODY"
   ]
  },
  {
   "cell_type": "code",
   "execution_count": null,
   "metadata": {
    "collapsed": false
   },
   "outputs": [],
   "source": [
    "answer = integ_bbody.doit(); answer"
   ]
  },
  {
   "cell_type": "code",
   "execution_count": null,
   "metadata": {
    "collapsed": true
   },
   "outputs": [],
   "source": []
  },
  {
   "cell_type": "code",
   "execution_count": null,
   "metadata": {
    "collapsed": true
   },
   "outputs": [],
   "source": []
  }
 ],
 "metadata": {
  "kernelspec": {
   "display_name": "Python 2",
   "language": "python",
   "name": "python2"
  },
  "language_info": {
   "codemirror_mode": {
    "name": "ipython",
    "version": 2
   },
   "file_extension": ".py",
   "mimetype": "text/x-python",
   "name": "python",
   "nbconvert_exporter": "python",
   "pygments_lexer": "ipython2",
   "version": "2.7.12"
  }
 },
 "nbformat": 4,
 "nbformat_minor": 0
}
