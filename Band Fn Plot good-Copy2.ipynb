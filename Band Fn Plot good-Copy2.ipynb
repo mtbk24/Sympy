{
 "cells": [
  {
   "cell_type": "code",
   "execution_count": 1,
   "metadata": {
    "collapsed": true
   },
   "outputs": [],
   "source": [
    "from __future__ import division\n",
    "import numpy \n",
    "import matplotlib.pylab as plt\n",
    "%matplotlib inline\n",
    "import mpmath as mp\n",
    "from collections import OrderedDict\n",
    "import sympy as sy"
   ]
  },
  {
   "cell_type": "code",
   "execution_count": 2,
   "metadata": {
    "collapsed": false
   },
   "outputs": [],
   "source": [
    "params = OrderedDict()"
   ]
  },
  {
   "cell_type": "code",
   "execution_count": 3,
   "metadata": {
    "collapsed": true
   },
   "outputs": [],
   "source": [
    "params.update({'alpha':-1.0286698070834475})\n",
    "params.update({'beta':-2.2003327469378235})\n",
    "params.update({'efold':527.5755660475579})\n",
    "params.update({'norm':0.01748869026041366})"
   ]
  },
  {
   "cell_type": "raw",
   "metadata": {
    "collapsed": false
   },
   "source": [
    "energy_array = numpy.logspace(0, 8, 10000)\n",
    "energy_array1 = numpy.logspace(1, 8, 10000)\n",
    "energy_array2 = numpy.logspace(2, 8, 10000)\n",
    "\n",
    "energy_array4 = numpy.logspace(0, 8, 1000)\n",
    "energy_array5 = numpy.logspace(1, 8, 1000)\n",
    "energy_array6 = numpy.logspace(2, 8, 1000)"
   ]
  },
  {
   "cell_type": "raw",
   "metadata": {
    "collapsed": false
   },
   "source": [
    "## CHECK THIS AGAINST THE N(E) PLOT.\n",
    "## This is the model data from a fit and the plot 'model' in XSPEC.\n",
    "# fA - an NaI\n",
    "# fB - the BGO\n",
    "# fC - the LAT detector\n",
    "# all the models extend past the data range so they overlap just fine without LLE or the other NaI data..\n",
    "\n",
    "import pandas as pd\n",
    "\n",
    "direc = '/Users/KimiZ/GRBs2/analysis/LAT/bn080916009/PYXSPEC/GBMwLAT/grbm/'\n",
    "F1 = direc+'s1_model_emodel_eemodel.txt'  # s1 - NaI data from n3 detector\n",
    "F2 = direc+'s3_model_emodel_eemodel.txt'  # s3 - BGO data\n",
    "F3 = direc+'s5_model_emodel_eemodel.txt'  # s5 - LAT data\n",
    "f1 = numpy.loadtxt(F1, skiprows=1, delimiter=', ')\n",
    "f2 = numpy.loadtxt(F2, skiprows=1, delimiter=', ')\n",
    "f3 = numpy.loadtxt(F3, skiprows=1, delimiter=', ')\n",
    "ff1 = pd.DataFrame(f1)  # ff1[]\n",
    "ff2 = pd.DataFrame(f2)\n",
    "ff3 = pd.DataFrame(f3)\n",
    "# ff1[0] - energy\n",
    "# ff1[2] - model (Plot in Xspec)\n",
    "# ff1[3] - emodel (Plot in Xspec)\n",
    "# ff1[4] - eemodel (Plot in Xspec)\n",
    "\n",
    "Energy_Array_Dat = numpy.array(ff1[0][:]) # ENERGY ARRAY of s1 file. USED BY XSPEC as x-axis in plot.\n",
    "# columns: ModelEnergy(keV)_Plot.x(i), ModelEnergyErr(keV)_Plot.xErr(i), \n",
    "#          model_Plot.model(i), emodel_Plot.model(i), eemodel_Plot.model(i)"
   ]
  },
  {
   "cell_type": "raw",
   "metadata": {},
   "source": [
    "one = numpy.arange(1, 10000, 1)\n",
    "\n",
    "two = numpy.logspace(4, 8, 10000)\n",
    "\n",
    "three = numpy.concatenate([one, two])"
   ]
  },
  {
   "cell_type": "raw",
   "metadata": {},
   "source": [
    "one = numpy.arange(1, 1E8, 10) # 10 is the step size\n",
    "two = numpy.arange(10, 1E8, 10)\n",
    "three = numpy.arange(1, 300, 1)\n",
    "#three = numpy.logspace(1, 8, 100000)"
   ]
  },
  {
   "cell_type": "code",
   "execution_count": 310,
   "metadata": {
    "collapsed": true
   },
   "outputs": [],
   "source": [
    "from scipy.stats.mstats import gmean"
   ]
  },
  {
   "cell_type": "code",
   "execution_count": 432,
   "metadata": {
    "collapsed": false
   },
   "outputs": [],
   "source": [
    "def Band_fnu(Energy, **Pars):\n",
    "    alpha = round(float(Pars['alpha']), 4)\n",
    "    beta = round(float(Pars['beta']), 4)\n",
    "    efold = round(float(Pars['efold']), 4) # efolding energy\n",
    "    norm = round(float(Pars['norm']), 4)\n",
    "    eng = numpy.array(Energy)\n",
    "    \n",
    "    global flux\n",
    "    flux = numpy.zeros(len(eng)-1)\n",
    "    \n",
    "    for i in range(len(eng)-1):  \n",
    "        if eng[i+1] < ((alpha-beta)*efold):\n",
    "            multiplier = (-efold**(alpha+1.))\n",
    "            lowIntegral = float(sy.uppergamma(alpha+1., eng[i]/efold ))\n",
    "            highIntegral = float(sy.uppergamma(alpha+1., eng[i+1]/efold ))\n",
    "            #eqn = multiplier * (lowIntegral - highIntegral)\n",
    "            eqn = multiplier * (highIntegral - lowIntegral)\n",
    "            flux[i] = eqn\n",
    "            #flux.append(eqn)\n",
    "            \n",
    "        else:\n",
    "            multiplier = ((alpha-beta)**(alpha-beta) * numpy.exp(beta-alpha) * (efold**(alpha-beta))) * (1./(beta+1.))\n",
    "            lowIntegral = (eng[i]**(beta+1.))\n",
    "            highIntegral = (eng[i+1]**(beta+1.))\n",
    "            #eqn = multiplier * (lowIntegral - highIntegral)\n",
    "            eqn = multiplier * (highIntegral - lowIntegral)\n",
    "            #flux.append(eqn)\n",
    "            flux[i] = eqn\n",
    "#    return flux\n"
   ]
  },
  {
   "cell_type": "code",
   "execution_count": null,
   "metadata": {
    "collapsed": true
   },
   "outputs": [],
   "source": []
  },
  {
   "cell_type": "code",
   "execution_count": null,
   "metadata": {
    "collapsed": true
   },
   "outputs": [],
   "source": []
  },
  {
   "cell_type": "code",
   "execution_count": 489,
   "metadata": {
    "collapsed": true
   },
   "outputs": [],
   "source": [
    "def Band_fnu(Energy, **Pars):\n",
    "    alpha = round(float(Pars['alpha']), 4)\n",
    "    beta = round(float(Pars['beta']), 4)\n",
    "    efold = round(float(Pars['efold']), 4) # efolding energy\n",
    "    norm = round(float(Pars['norm']), 4)\n",
    "    eng = numpy.array(Energy)\n",
    "    \n",
    "    global flux\n",
    "    flux = numpy.zeros(len(eng)-1)\n",
    "    \n",
    "    for i in range(len(eng)-1):  \n",
    "        if eng[i+1] < ((alpha-beta)*efold):\n",
    "            multiplier = (-efold**(alpha+1.))\n",
    "            lowIntegral = float(sy.uppergamma(alpha+1., eng[i]/efold ))\n",
    "            highIntegral = float(sy.uppergamma(alpha+1., eng[i+1]/efold ))\n",
    "            #eqn = multiplier * (lowIntegral - highIntegral)\n",
    "            eqn = multiplier * (highIntegral - lowIntegral)\n",
    "            flux[i] = eqn\n",
    "            #flux.append(eqn)\n",
    "            \n",
    "        else:\n",
    "            multiplier = ((alpha-beta)**(alpha-beta) * numpy.exp(beta-alpha) * (efold**(alpha-beta))) * (1./(beta+1.))\n",
    "            lowIntegral = (eng[i]**(beta+1.))\n",
    "            highIntegral = (eng[i+1]**(beta+1.))\n",
    "            #eqn = multiplier * (lowIntegral - highIntegral)\n",
    "            eqn = multiplier * (highIntegral - lowIntegral)\n",
    "            #flux.append(eqn)\n",
    "            flux[i] = eqn\n",
    "#    return flux\n"
   ]
  },
  {
   "cell_type": "code",
   "execution_count": 496,
   "metadata": {
    "collapsed": true
   },
   "outputs": [],
   "source": [
    "alpha = -1.0286698070834475\n",
    "beta=-2.2003327469378235\n",
    "efold=527.5755660475579\n",
    "norm=0.01748869026041366"
   ]
  },
  {
   "cell_type": "code",
   "execution_count": 532,
   "metadata": {
    "collapsed": false
   },
   "outputs": [
    {
     "data": {
      "text/plain": [
       "0.36865174949969437"
      ]
     },
     "execution_count": 532,
     "metadata": {},
     "output_type": "execute_result"
    }
   ],
   "source": [
    "eng=en2\n",
    "\n",
    "multiplier = (-efold**(alpha+1.))\n",
    "lowIntegral = float(sy.uppergamma(alpha+1., eng[0]/efold ))\n",
    "highIntegral = float(sy.uppergamma(alpha+1., eng[1]/efold ))\n",
    "eqn = multiplier * (highIntegral - lowIntegral); eqn"
   ]
  },
  {
   "cell_type": "code",
   "execution_count": 540,
   "metadata": {
    "collapsed": false
   },
   "outputs": [
    {
     "data": {
      "text/plain": [
       "0.008763152828943077"
      ]
     },
     "execution_count": 540,
     "metadata": {},
     "output_type": "execute_result"
    }
   ],
   "source": [
    "((1./100)**-alpha)"
   ]
  },
  {
   "cell_type": "code",
   "execution_count": 535,
   "metadata": {
    "collapsed": false
   },
   "outputs": [
    {
     "data": {
      "text/plain": [
       "0.5896915193372212"
      ]
     },
     "execution_count": 535,
     "metadata": {},
     "output_type": "execute_result"
    }
   ],
   "source": [
    "q2/q1"
   ]
  },
  {
   "cell_type": "code",
   "execution_count": 536,
   "metadata": {
    "collapsed": false
   },
   "outputs": [
    {
     "data": {
      "text/plain": [
       "0.08969151933722119"
      ]
     },
     "execution_count": 536,
     "metadata": {},
     "output_type": "execute_result"
    }
   ],
   "source": [
    "0.5896915193372212-.5"
   ]
  },
  {
   "cell_type": "code",
   "execution_count": 533,
   "metadata": {
    "collapsed": false
   },
   "outputs": [],
   "source": [
    "q2=eqn # 2"
   ]
  },
  {
   "cell_type": "code",
   "execution_count": 531,
   "metadata": {
    "collapsed": false
   },
   "outputs": [],
   "source": [
    "q1=eqn # 1"
   ]
  },
  {
   "cell_type": "code",
   "execution_count": 523,
   "metadata": {
    "collapsed": false
   },
   "outputs": [
    {
     "data": {
      "text/plain": [
       "0.5896915193372212"
      ]
     },
     "execution_count": 523,
     "metadata": {},
     "output_type": "execute_result"
    }
   ],
   "source": [
    "0.36865174949969437/0.6251603379238646"
   ]
  },
  {
   "cell_type": "code",
   "execution_count": 528,
   "metadata": {
    "collapsed": false
   },
   "outputs": [
    {
     "data": {
      "text/plain": [
       "(array([10, 10, 10, 10, 10, 10, 10, 10, 10, 10, 10, 10, 10, 10, 10, 10, 10,\n",
       "        10, 10, 10, 10, 10, 10, 10, 10, 10, 10, 10]),\n",
       " array([5, 5, 5, 5, 5, 5, 5, 5, 5, 5, 5, 5, 5, 5, 5, 5, 5, 5, 5, 5, 5, 5, 5,\n",
       "        5, 5, 5, 5, 5, 5, 5, 5, 5, 5, 5, 5, 5, 5, 5, 5, 5, 5, 5, 5, 5, 5, 5,\n",
       "        5, 5, 5, 5, 5, 5, 5, 5, 5, 5, 5]))"
      ]
     },
     "execution_count": 528,
     "metadata": {},
     "output_type": "execute_result"
    }
   ],
   "source": [
    "numpy.diff(en1), numpy.diff(en2)"
   ]
  },
  {
   "cell_type": "code",
   "execution_count": 521,
   "metadata": {
    "collapsed": false
   },
   "outputs": [
    {
     "data": {
      "text/plain": [
       "array([ 10,  15,  20,  25,  30,  35,  40,  45,  50,  55,  60,  65,  70,\n",
       "        75,  80,  85,  90,  95, 100, 105, 110, 115, 120, 125, 130, 135,\n",
       "       140, 145, 150, 155, 160, 165, 170, 175, 180, 185, 190, 195, 200,\n",
       "       205, 210, 215, 220, 225, 230, 235, 240, 245, 250, 255, 260, 265,\n",
       "       270, 275, 280, 285, 290, 295])"
      ]
     },
     "execution_count": 521,
     "metadata": {},
     "output_type": "execute_result"
    }
   ],
   "source": [
    "en2"
   ]
  },
  {
   "cell_type": "code",
   "execution_count": 512,
   "metadata": {
    "collapsed": false
   },
   "outputs": [],
   "source": [
    "en1 = numpy.arange(10, 300, 10)\n",
    "en2 = numpy.arange(10, 300, 5)"
   ]
  },
  {
   "cell_type": "code",
   "execution_count": 494,
   "metadata": {
    "collapsed": false
   },
   "outputs": [
    {
     "data": {
      "text/plain": [
       "array([  1,  11,  21,  31,  41,  51,  61,  71,  81,  91, 101, 111, 121,\n",
       "       131, 141, 151, 161, 171, 181, 191, 201, 211, 221, 231, 241, 251,\n",
       "       261, 271, 281, 291])"
      ]
     },
     "execution_count": 494,
     "metadata": {},
     "output_type": "execute_result"
    }
   ],
   "source": [
    "en1[0"
   ]
  },
  {
   "cell_type": "code",
   "execution_count": null,
   "metadata": {
    "collapsed": true
   },
   "outputs": [],
   "source": []
  },
  {
   "cell_type": "code",
   "execution_count": 486,
   "metadata": {
    "collapsed": false
   },
   "outputs": [],
   "source": [
    "# en1 = numpy.logspace(1, 8, 1000)\n",
    "# en2 = numpy.logspace(2, 8, 1000)\n",
    "#en1 = numpy.arange(1, 100000000, 1)\n",
    "en1 = numpy.arange(10, 100000000, 10)\n",
    "en2 = numpy.arange(1, 100000000, 10)\n",
    "en3 = numpy.arange(100, 100000000, 10)"
   ]
  },
  {
   "cell_type": "code",
   "execution_count": 480,
   "metadata": {
    "collapsed": false
   },
   "outputs": [
    {
     "data": {
      "text/plain": [
       "(10000, 10000000)"
      ]
     },
     "execution_count": 480,
     "metadata": {},
     "output_type": "execute_result"
    }
   ],
   "source": [
    "len(en1), len(en2)"
   ]
  },
  {
   "cell_type": "raw",
   "metadata": {},
   "source": [
    "x1 = []\n",
    "for i,j in enumerate(en1):\n",
    "    x1.append(gmean([en1[i], en1[i+1]]))"
   ]
  },
  {
   "cell_type": "raw",
   "metadata": {},
   "source": [
    "x2 = []\n",
    "for i,j in enumerate(en2):\n",
    "    x2.append(gmean([en2[i], en2[i+1]]))"
   ]
  },
  {
   "cell_type": "code",
   "execution_count": null,
   "metadata": {
    "collapsed": true
   },
   "outputs": [],
   "source": []
  },
  {
   "cell_type": "code",
   "execution_count": 487,
   "metadata": {
    "collapsed": false
   },
   "outputs": [],
   "source": [
    "kim = Band_fnu(en1, **params)\n",
    "y1 = flux"
   ]
  },
  {
   "cell_type": "code",
   "execution_count": 488,
   "metadata": {
    "collapsed": false
   },
   "outputs": [
    {
     "ename": "KeyboardInterrupt",
     "evalue": "",
     "output_type": "error",
     "traceback": [
      "\u001b[0;31m---------------------------------------------------------------------------\u001b[0m",
      "\u001b[0;31mKeyboardInterrupt\u001b[0m                         Traceback (most recent call last)",
      "\u001b[0;32m<ipython-input-488-005e8f3887af>\u001b[0m in \u001b[0;36m<module>\u001b[0;34m()\u001b[0m\n\u001b[0;32m----> 1\u001b[0;31m \u001b[0mkim\u001b[0m \u001b[0;34m=\u001b[0m \u001b[0mBand_fnu\u001b[0m\u001b[0;34m(\u001b[0m\u001b[0men2\u001b[0m\u001b[0;34m,\u001b[0m \u001b[0;34m**\u001b[0m\u001b[0mparams\u001b[0m\u001b[0;34m)\u001b[0m\u001b[0;34m\u001b[0m\u001b[0m\n\u001b[0m\u001b[1;32m      2\u001b[0m \u001b[0my2\u001b[0m \u001b[0;34m=\u001b[0m \u001b[0mflux\u001b[0m\u001b[0;34m\u001b[0m\u001b[0m\n",
      "\u001b[0;32m<ipython-input-432-3df24b1adfb2>\u001b[0m in \u001b[0;36mBand_fnu\u001b[0;34m(Energy, **Pars)\u001b[0m\n\u001b[1;32m     10\u001b[0m \u001b[0;34m\u001b[0m\u001b[0m\n\u001b[1;32m     11\u001b[0m     \u001b[0;32mfor\u001b[0m \u001b[0mi\u001b[0m \u001b[0;32min\u001b[0m \u001b[0mrange\u001b[0m\u001b[0;34m(\u001b[0m\u001b[0mlen\u001b[0m\u001b[0;34m(\u001b[0m\u001b[0meng\u001b[0m\u001b[0;34m)\u001b[0m\u001b[0;34m-\u001b[0m\u001b[0;36m1\u001b[0m\u001b[0;34m)\u001b[0m\u001b[0;34m:\u001b[0m\u001b[0;34m\u001b[0m\u001b[0m\n\u001b[0;32m---> 12\u001b[0;31m         \u001b[0;32mif\u001b[0m \u001b[0meng\u001b[0m\u001b[0;34m[\u001b[0m\u001b[0mi\u001b[0m\u001b[0;34m+\u001b[0m\u001b[0;36m1\u001b[0m\u001b[0;34m]\u001b[0m \u001b[0;34m<\u001b[0m \u001b[0;34m(\u001b[0m\u001b[0;34m(\u001b[0m\u001b[0malpha\u001b[0m\u001b[0;34m-\u001b[0m\u001b[0mbeta\u001b[0m\u001b[0;34m)\u001b[0m\u001b[0;34m*\u001b[0m\u001b[0mefold\u001b[0m\u001b[0;34m)\u001b[0m\u001b[0;34m:\u001b[0m\u001b[0;34m\u001b[0m\u001b[0m\n\u001b[0m\u001b[1;32m     13\u001b[0m             \u001b[0mmultiplier\u001b[0m \u001b[0;34m=\u001b[0m \u001b[0;34m(\u001b[0m\u001b[0;34m-\u001b[0m\u001b[0mefold\u001b[0m\u001b[0;34m**\u001b[0m\u001b[0;34m(\u001b[0m\u001b[0malpha\u001b[0m\u001b[0;34m+\u001b[0m\u001b[0;36m1.\u001b[0m\u001b[0;34m)\u001b[0m\u001b[0;34m)\u001b[0m\u001b[0;34m\u001b[0m\u001b[0m\n\u001b[1;32m     14\u001b[0m             \u001b[0mlowIntegral\u001b[0m \u001b[0;34m=\u001b[0m \u001b[0mfloat\u001b[0m\u001b[0;34m(\u001b[0m\u001b[0msy\u001b[0m\u001b[0;34m.\u001b[0m\u001b[0muppergamma\u001b[0m\u001b[0;34m(\u001b[0m\u001b[0malpha\u001b[0m\u001b[0;34m+\u001b[0m\u001b[0;36m1.\u001b[0m\u001b[0;34m,\u001b[0m \u001b[0meng\u001b[0m\u001b[0;34m[\u001b[0m\u001b[0mi\u001b[0m\u001b[0;34m]\u001b[0m\u001b[0;34m/\u001b[0m\u001b[0mefold\u001b[0m \u001b[0;34m)\u001b[0m\u001b[0;34m)\u001b[0m\u001b[0;34m\u001b[0m\u001b[0m\n",
      "\u001b[0;31mKeyboardInterrupt\u001b[0m: "
     ]
    }
   ],
   "source": [
    "kim = Band_fnu(en2, **params)\n",
    "y2 = flux"
   ]
  },
  {
   "cell_type": "code",
   "execution_count": null,
   "metadata": {
    "collapsed": true
   },
   "outputs": [],
   "source": [
    "kim = Band_fnu(en3, **params)\n",
    "y3 = flux"
   ]
  },
  {
   "cell_type": "code",
   "execution_count": 485,
   "metadata": {
    "collapsed": false
   },
   "outputs": [
    {
     "data": {
      "text/plain": [
       "<matplotlib.legend.Legend at 0x1232eac90>"
      ]
     },
     "execution_count": 485,
     "metadata": {},
     "output_type": "execute_result"
    },
    {
     "data": {
      "image/png": "[encoded data removed]",
      "text/plain": [
       "<matplotlib.figure.Figure at 0x12349bcd0>"
      ]
     },
     "metadata": {},
     "output_type": "display_data"
    }
   ],
   "source": [
    "plt.figure(figsize=(11,7))\n",
    "plt.plot(y1, label='en1')\n",
    "plt.plot(y2, label='en2')\n",
    "plt.plot(y3, label='en3')\n",
    "plt.xscale('log')\n",
    "plt.yscale('log')\n",
    "plt.xlim(5, 5E+7)\n",
    "plt.ylim(1E-15, 10)\n",
    "plt.legend(loc='best')"
   ]
  },
  {
   "cell_type": "code",
   "execution_count": 399,
   "metadata": {
    "collapsed": false,
    "scrolled": true
   },
   "outputs": [],
   "source": [
    "y1_new = []\n",
    "for i in range(len(y1)):\n",
    "    y1_new.append(x1[i]*y1[i])"
   ]
  },
  {
   "cell_type": "code",
   "execution_count": 401,
   "metadata": {
    "collapsed": true
   },
   "outputs": [],
   "source": [
    "y2_new = []\n",
    "for i in range(len(y2)):\n",
    "    y2_new.append(x2[i]*y2[i])"
   ]
  },
  {
   "cell_type": "code",
   "execution_count": 421,
   "metadata": {
    "collapsed": false,
    "scrolled": false
   },
   "outputs": [
    {
     "data": {
      "image/png": "[encoded data removed]",
      "text/plain": [
       "<matplotlib.figure.Figure at 0x1b93eb910>"
      ]
     },
     "metadata": {},
     "output_type": "display_data"
    }
   ],
   "source": [
    "plt.figure(figsize=(11,7))\n",
    "plt.plot(x1, y1, '-.',color='red')\n",
    "plt.plot(x2, y2, '-.', color='blue')\n",
    "# plt.plot(x1, y1, '-.',color='red')\n",
    "# plt.plot(x2, y2, '-.', color='blue')\n",
    "#plt.plot(three[:-1], y3, '-.', color='green')\n",
    "#plt.plot(four[:-1], fluxD, '.', color='orange')\n",
    "plt.xlim(5, 5E+7)\n",
    "plt.ylim(1E-15, 10)\n",
    "#plt.vlines(618, 1E-14, 100)\n",
    "#plt.ylim(1E-15, 10)\n",
    "plt.xscale('log')\n",
    "plt.yscale('log')"
   ]
  },
  {
   "cell_type": "code",
   "execution_count": null,
   "metadata": {
    "collapsed": true
   },
   "outputs": [],
   "source": []
  },
  {
   "cell_type": "code",
   "execution_count": null,
   "metadata": {
    "collapsed": true
   },
   "outputs": [],
   "source": []
  },
  {
   "cell_type": "code",
   "execution_count": null,
   "metadata": {
    "collapsed": true
   },
   "outputs": [],
   "source": []
  },
  {
   "cell_type": "code",
   "execution_count": 156,
   "metadata": {
    "collapsed": false
   },
   "outputs": [
    {
     "data": {
      "image/png": "[encoded data removed]",
      "text/plain": [
       "<matplotlib.figure.Figure at 0x10b6408d0>"
      ]
     },
     "metadata": {},
     "output_type": "display_data"
    }
   ],
   "source": [
    "plt.figure(figsize=(11,7))\n",
    "# plt.plot(ENAR1[:-1], fluxA)\n",
    "# plt.plot(ENAR2[:-1], fluxB)\n",
    "# plt.plot(ENAR3[:-1], fluxC)\n",
    "# plt.plot(ENAR4[:-1], fluxD)\n",
    "plt.plot(ENAR5[:-1], fluxE)\n",
    "#plt.xlim(1, 400)\n",
    "#plt.ylim(1E-7, 1)\n",
    "plt.xlim(5, 5E+7)\n",
    "plt.xscale('log')\n",
    "plt.yscale('log')"
   ]
  },
  {
   "cell_type": "code",
   "execution_count": null,
   "metadata": {
    "collapsed": true
   },
   "outputs": [],
   "source": []
  },
  {
   "cell_type": "code",
   "execution_count": null,
   "metadata": {
    "collapsed": true
   },
   "outputs": [],
   "source": []
  },
  {
   "cell_type": "code",
   "execution_count": null,
   "metadata": {
    "collapsed": true
   },
   "outputs": [],
   "source": [
    "Band_fnu_w100keV(energy_array, params)"
   ]
  },
  {
   "cell_type": "code",
   "execution_count": null,
   "metadata": {
    "collapsed": true
   },
   "outputs": [],
   "source": [
    "plt.figure(figsize=(11,7))\n",
    "plt.plot(energy_array, flux)\n",
    "#plt.ylim(1E-7, 1)\n",
    "plt.xlim(5, 5E+7)\n",
    "plt.xscale('log')\n",
    "plt.yscale('log')"
   ]
  },
  {
   "cell_type": "code",
   "execution_count": 67,
   "metadata": {
    "collapsed": true
   },
   "outputs": [],
   "source": [
    "kim = Band_fnu(energy_array, **params)\n",
    "fluxA = flux"
   ]
  },
  {
   "cell_type": "code",
   "execution_count": 68,
   "metadata": {
    "collapsed": true
   },
   "outputs": [],
   "source": [
    "kim = Band_fnu(energy_array1, **params)\n",
    "fluxB = flux"
   ]
  },
  {
   "cell_type": "code",
   "execution_count": 69,
   "metadata": {
    "collapsed": true
   },
   "outputs": [],
   "source": [
    "kim = Band_fnu(energy_array2, **params)\n",
    "fluxC = flux"
   ]
  },
  {
   "cell_type": "code",
   "execution_count": 71,
   "metadata": {
    "collapsed": false
   },
   "outputs": [
    {
     "data": {
      "image/png": "[encoded data removed]",
      "text/plain": [
       "<matplotlib.figure.Figure at 0x10aa7fdd0>"
      ]
     },
     "metadata": {},
     "output_type": "display_data"
    }
   ],
   "source": [
    "plt.figure(figsize=(11,7))\n",
    "plt.plot(energy_array, fluxA)\n",
    "plt.plot(energy_array1, fluxB)\n",
    "plt.plot(energy_array2, fluxC)\n",
    "#plt.ylim(1E-7, 1)\n",
    "plt.xlim(5, 5E+7)\n",
    "plt.xscale('log')\n",
    "plt.yscale('log')"
   ]
  },
  {
   "cell_type": "code",
   "execution_count": null,
   "metadata": {
    "collapsed": true
   },
   "outputs": [],
   "source": []
  },
  {
   "cell_type": "code",
   "execution_count": null,
   "metadata": {
    "collapsed": false
   },
   "outputs": [],
   "source": [
    "plt.figure(figsize=(11,7))\n",
    "\n",
    "# plt.plot(Energy_Array_Dat[:-1],  Band_fnu_w100keV(Energy_Array_Dat, **params), 'b--', label='w 100keV data Energy Array')\n",
    "# plt.plot(Energy_Array_Dat[:-1],  Band_fnu(Energy_Array_Dat, **params), 'r--', label='w/o 100keV data Energy Array')\n",
    "\n",
    "\n",
    "plt.plot(energy_array[:-1],  Band_fnu(energy_array, **params), 'r--', label='0')\n",
    "plt.plot(energy_array1[:-1],  Band_fnu(energy_array1, **params), 'b--', label='1')\n",
    "plt.plot(energy_array2[:-1],  Band_fnu(energy_array2, **params), 'k--', label='2')\n",
    "\n",
    "\n",
    "# # plotting xspec results for emodel.\n",
    "# plt.plot(ff1[0], ff1[3], '-.', color='green', label='data')\n",
    "# plt.legend(loc='best')\n",
    "# plt.plot(ff2[0], ff2[3], '-.', color='green')\n",
    "# plt.plot(ff3[0], ff3[3], '-.', color='green')\n",
    "\n",
    "\n",
    "#plt.ylim(1E-7, 1)\n",
    "#plt.xlim(5, 5E+7)\n",
    "plt.ylim(9E-4, 2E-3)\n",
    "plt.xlim(1E2, 2E2)\n",
    "plt.xscale('log')\n",
    "plt.yscale('log')"
   ]
  },
  {
   "cell_type": "code",
   "execution_count": null,
   "metadata": {
    "collapsed": true
   },
   "outputs": [],
   "source": []
  },
  {
   "cell_type": "code",
   "execution_count": null,
   "metadata": {
    "collapsed": false
   },
   "outputs": [],
   "source": [
    "def Band_fnu_kz(Energy, **Pars):\n",
    "    alpha = float(Pars['alpha'])\n",
    "    beta = float(Pars['beta'])\n",
    "    efold = float(Pars['efold']) # efolding energy\n",
    "    norm = float(Pars['norm'])\n",
    "    eng = float(Energy)\n",
    "\n",
    "    if eng < ((alpha-beta)*efold):\n",
    "        multiplier = (efold**(alpha+1.))\n",
    "        lowIntegral = float(sy.uppergamma(alpha+1., eng/efold ))\n",
    "        eqn = norm * multiplier * lowIntegral\n",
    "        return eqn\n",
    "\n",
    "    else:\n",
    "        multiplier = ((alpha-beta)**(alpha-beta) * -numpy.exp(beta-alpha) * (efold**(alpha-beta))) * (1./(beta+1.))\n",
    "        highIntegral = (eng**(beta+1.))\n",
    "        eqn = norm * multiplier * highIntegral\n",
    "        return eqn\n",
    "    \n",
    "\n",
    "plt.figure(figsize=(11,7))\n",
    "\n",
    "i,j = [None]*2\n",
    "for i,j in enumerate(energy_array):\n",
    "    plt.plot(j,  Band_fnu_kz(j, **params), 'r.', label='0')\n",
    "i,j = [None]*2\n",
    "for i,j in enumerate(energy_array1):\n",
    "    plt.plot(j,  Band_fnu_kz(j, **params), 'b.', label='1')\n",
    "i,j = [None]*2\n",
    "for i,j in enumerate(energy_array2):\n",
    "    plt.plot(j,  Band_fnu_kz(j, **params), 'k.', label='2')\n",
    "\n",
    "\n",
    "# plotting xspec results for emodel.\n",
    "plt.plot(ff1[0], ff1[3], '-.', color='green', label='data')\n",
    "plt.legend(loc='best')\n",
    "plt.plot(ff2[0], ff2[3], '-.', color='green')\n",
    "plt.plot(ff3[0], ff3[3], '-.', color='green')\n",
    "\n",
    "\n",
    "#plt.ylim(1E-7, 1)\n",
    "plt.xlim(5, 5E+7)\n",
    "plt.xscale('log')\n",
    "plt.yscale('log')"
   ]
  },
  {
   "cell_type": "code",
   "execution_count": null,
   "metadata": {
    "collapsed": true
   },
   "outputs": [],
   "source": []
  },
  {
   "cell_type": "code",
   "execution_count": null,
   "metadata": {
    "collapsed": true
   },
   "outputs": [],
   "source": []
  },
  {
   "cell_type": "markdown",
   "metadata": {},
   "source": [
    "## (lowIntegral - highIntegral) works as well if you switch a few - signs around.  I present this version because this is the setup the PyXspec example gave.  You need to add a - sign to the 2nd part and take away the - sign in the first part.  This example won't match the + and - signs that Wolfram Alpha gives you."
   ]
  },
  {
   "cell_type": "code",
   "execution_count": null,
   "metadata": {
    "collapsed": false
   },
   "outputs": [],
   "source": [
    "def Band_fnu_w100keV_2(Energy, **Pars):\n",
    "    alpha = float(Pars['alpha'])\n",
    "    beta = float(Pars['beta'])\n",
    "    efold = float(Pars['efold']) # efolding energy\n",
    "    norm = float(Pars['norm'])\n",
    "    eng = numpy.array(Energy)\n",
    "\n",
    "    flux = []\n",
    "    for i in range(len(eng)-1):  \n",
    "        if eng[i] < ((alpha-beta)*efold):\n",
    "            multiplier = (100.**-alpha) * efold**(alpha+1.) \n",
    "            lowIntegral = float(sy.uppergamma(alpha+1., eng[i]/efold ))\n",
    "            highIntegral = float(sy.uppergamma(alpha+1., eng[i+1]/efold ))\n",
    "            eqn = multiplier * (lowIntegral - highIntegral)\n",
    "            flux.append(eqn)\n",
    "\n",
    "        else:\n",
    "            multiplier = ((100**-alpha) * (alpha-beta)**(alpha-beta) * -numpy.exp(beta-alpha) * (efold**(alpha-beta))) * (1./(beta+1.))\n",
    "            lowIntegral = (eng[i]**(beta+1.))\n",
    "            highIntegral = (eng[i+1]**(beta+1.))\n",
    "            eqn = multiplier * (lowIntegral - highIntegral)\n",
    "            flux.append(eqn)\n",
    "\n",
    "    return flux\n",
    "    \n",
    "    \n",
    "    \n",
    "    \n",
    "\n",
    "def Band_fnu_2(Energy, **Pars):\n",
    "    alpha = float(Pars['alpha'])\n",
    "    beta = float(Pars['beta'])\n",
    "    efold = float(Pars['efold']) # efolding energy\n",
    "    norm = float(Pars['norm'])\n",
    "    eng = numpy.array(Energy)\n",
    "\n",
    "    flux = []\n",
    "    for i in range(len(eng)-1):  \n",
    "        if eng[i] < ((alpha-beta)*efold):\n",
    "            multiplier = efold**(alpha+1.)\n",
    "            lowIntegral = float(sy.uppergamma(alpha+1., eng[i]/efold ))\n",
    "            highIntegral = float(sy.uppergamma(alpha+1., eng[i+1]/efold ))\n",
    "            eqn = multiplier * (lowIntegral - highIntegral)\n",
    "            flux.append(eqn)\n",
    "\n",
    "        else:\n",
    "            multiplier = ((alpha-beta)**(alpha-beta) * -numpy.exp(beta-alpha) * (efold**(alpha-beta))) * (1./(beta+1.))\n",
    "            lowIntegral = (eng[i]**(beta+1.))\n",
    "            highIntegral = (eng[i+1]**(beta+1.))\n",
    "            eqn = multiplier * (lowIntegral - highIntegral)\n",
    "            flux.append(eqn)\n",
    "            \n",
    "    return flux\n",
    "    \n",
    "\n",
    "plt.figure(figsize=(11,7))\n",
    "plt.plot(energy_array[:-1],  Band_fnu_2(energy_array, **params), 'r-')\n",
    "plt.plot(energy_array[:-1],  Band_fnu_w100keV_2(energy_array, **params), 'b-')\n",
    "\n",
    "# plotting xspec results for emodel.\n",
    "plt.plot(ff1[0], ff1[3], '-.', color='green')\n",
    "plt.plot(ff2[0], ff2[3], '-.', color='green')\n",
    "plt.plot(ff3[0], ff3[3], '-.', color='green')\n",
    "\n",
    "\n",
    "#plt.ylim(1E-7, 1)\n",
    "plt.xlim(5, 5E+7)\n",
    "plt.xscale('log')\n",
    "plt.yscale('log')"
   ]
  },
  {
   "cell_type": "markdown",
   "metadata": {},
   "source": [
    "## Adding in the normalization "
   ]
  },
  {
   "cell_type": "code",
   "execution_count": null,
   "metadata": {
    "collapsed": false
   },
   "outputs": [],
   "source": [
    "def band_100keV(Energy, **Pars):\n",
    "    alpha = float(Pars['alpha'])\n",
    "    beta = float(Pars['beta'])\n",
    "    efold = float(Pars['efold']) # efolding energy\n",
    "    norm = float(Pars['norm'])\n",
    "    eng = numpy.array(Energy)\n",
    "    #flux = numpy.zeros(len(eng))\n",
    "\n",
    "    flux = []\n",
    "    for i in range(len(eng)-1):  \n",
    "        if eng[i] < ((alpha-beta)*efold):\n",
    "            multiplier = norm*(100.**-alpha) * efold**(alpha+1.) \n",
    "            lowIntegral = float(sy.uppergamma(alpha+1., eng[i]/efold ))\n",
    "            highIntegral = float(sy.uppergamma(alpha+1., eng[i+1]/efold ))\n",
    "            eqn = multiplier * (lowIntegral - highIntegral)\n",
    "            flux.append(eqn)\n",
    "            #flux[i] = eqn\n",
    "            #print flux[i]\n",
    "        else:\n",
    "            multiplier = norm*((100**-alpha) * (alpha-beta)**(alpha-beta) * -numpy.exp(beta-alpha) * (efold**(alpha-beta))) * (1./(beta+1.))\n",
    "            lowIntegral = (eng[i]**(beta+1.))\n",
    "            highIntegral = (eng[i+1]**(beta+1.))\n",
    "            eqn = multiplier * (lowIntegral - highIntegral)\n",
    "            flux.append(eqn)\n",
    "            #flux[i] = eqn\n",
    "            #print flux[i]\n",
    "            #eqn = ((100**-alpha) * (alpha-beta)**(alpha-beta) * -1*numpy.exp(beta-alpha) * eng**(beta+1.) * efold**(alpha-beta)) * (1./(beta+1.))\n",
    "            #return eqn\n",
    "    return flux\n",
    "    \n",
    "    \n",
    "    \n",
    "    \n",
    "\n",
    "def band(Energy, **Pars):\n",
    "    alpha = float(Pars['alpha'])\n",
    "    beta = float(Pars['beta'])\n",
    "    efold = float(Pars['efold']) # efolding energy\n",
    "    norm = float(Pars['norm'])\n",
    "    eng = numpy.array(Energy)\n",
    "    #flux = numpy.zeros(len(eng))\n",
    "\n",
    "    flux = []\n",
    "    for i in range(len(eng)-1):  \n",
    "        if eng[i] < ((alpha-beta)*efold):\n",
    "            multiplier = norm*(efold**(alpha+1.))\n",
    "            lowIntegral = float(sy.uppergamma(alpha+1., eng[i]/efold ))\n",
    "            highIntegral = float(sy.uppergamma(alpha+1., eng[i+1]/efold ))\n",
    "            eqn = multiplier * (lowIntegral - highIntegral)\n",
    "            flux.append(eqn)\n",
    "            #flux[i] = eqn\n",
    "            #print flux[i]\n",
    "        else:\n",
    "            multiplier = norm * ((alpha-beta)**(alpha-beta) * -numpy.exp(beta-alpha) * (efold**(alpha-beta))) * (1./(beta+1.))\n",
    "            lowIntegral = (eng[i]**(beta+1.))\n",
    "            highIntegral = (eng[i+1]**(beta+1.))\n",
    "            eqn = multiplier * (lowIntegral - highIntegral)\n",
    "            flux.append(eqn)\n",
    "            #flux[i] = eqn\n",
    "            #print flux[i]\n",
    "            #eqn = ((100**-alpha) * (alpha-beta)**(alpha-beta) * -1*numpy.exp(beta-alpha) * eng**(beta+1.) * efold**(alpha-beta)) * (1./(beta+1.))\n",
    "            #return eqn\n",
    "    return flux\n",
    "    \n",
    "\n",
    "plt.figure(figsize=(11,7))\n",
    "plt.plot(energy_array[:-1],  band(energy_array, **params), 'r-')\n",
    "plt.plot(energy_array[:-1],  band_100keV(energy_array, **params), 'b-')\n",
    "#plt.ylim(1E-7, 1)\n",
    "plt.xlim(5, 5E+7)\n",
    "plt.xscale('log')\n",
    "plt.yscale('log')"
   ]
  },
  {
   "cell_type": "markdown",
   "metadata": {},
   "source": [
    "def band(Energy, params):\n",
    "    engs = float(Energy)\n",
    "    a = float(params[0]) # alpha: low-energy index\n",
    "    b = float(params[1]) # beta: high-energy index\n",
    "    efold = float(params[2]) # e-folding energy, E_0\n",
    "    a=alpha\n",
    "    b=beta\n",
    "    efold = efolding\n",
    "\n",
    "    if engs < ((a - b) * efold):\n",
    "        #eqn = ((100.**(-a)) * (efold**(a+1.))) * (float(mp.gammainc(a + 1., a=engs/efold)))\n",
    "        eqn = (100.**-a) * efold * (engs**a) * ((engs/efold)**-a) * (float(mp.gammainc(a + 1., a=engs/efold)))\n",
    "\n",
    "    else:\n",
    "        eqn = (100.**-a) * -math.exp(b-a) * (engs**(b+1.)) * ((efold*(a-b))**(a-b)) * (1./(b+1.))\n",
    "    return eqn"
   ]
  },
  {
   "cell_type": "code",
   "execution_count": null,
   "metadata": {
    "collapsed": true
   },
   "outputs": [],
   "source": []
  },
  {
   "cell_type": "code",
   "execution_count": null,
   "metadata": {
    "collapsed": true
   },
   "outputs": [],
   "source": []
  },
  {
   "cell_type": "code",
   "execution_count": null,
   "metadata": {
    "collapsed": true
   },
   "outputs": [],
   "source": [
    "# This is the form that Wolfram alpha spits out, assuming that alpha, energy and efold are all positive.\n",
    "def band1(Energy, **Pars):\n",
    "    alpha = float(Pars['alpha'])\n",
    "    beta = float(Pars['beta'])\n",
    "    efold = float(Pars['efold']) # efolding energy\n",
    "    norm = float(Pars['norm'])\n",
    "    eng = numpy.array(Energy)\n",
    "    #flux = numpy.zeros(len(eng))\n",
    "\n",
    "    flux = []\n",
    "    for i in range(len(eng)-1):  \n",
    "        if eng[i] < ((alpha-beta)*efold):\n",
    "            multiplier = efold**(alpha+1.)\n",
    "            lowIntegral = float(sy.uppergamma(alpha+1., eng[i]/efold ))\n",
    "            highIntegral = float(sy.uppergamma(alpha+1., eng[i+1]/efold ))\n",
    "            eqn = multiplier * (lowIntegral - highIntegral)\n",
    "            flux.append(eqn)\n",
    "            #flux[i] = eqn\n",
    "            #print flux[i]\n",
    "        else:\n",
    "            multiplier = ((alpha-beta)**(alpha-beta) * -numpy.exp(beta-alpha) * (efold**(alpha-beta))) * (1./(beta+1.))\n",
    "            lowIntegral = (eng[i]**(beta+1.))\n",
    "            highIntegral = (eng[i+1]**(beta+1.))\n",
    "            eqn = multiplier * (lowIntegral - highIntegral)\n",
    "            flux.append(eqn)\n",
    "            #flux[i] = eqn\n",
    "            #print flux[i]\n",
    "            #eqn = ((100**-alpha) * (alpha-beta)**(alpha-beta) * -1*numpy.exp(beta-alpha) * eng**(beta+1.) * efold**(alpha-beta)) * (1./(beta+1.))\n",
    "            #return eqn\n",
    "    return flux\n",
    "    "
   ]
  },
  {
   "cell_type": "code",
   "execution_count": null,
   "metadata": {
    "collapsed": true
   },
   "outputs": [],
   "source": [
    "# This is the one I just changed to the aternative first part of band fn.  \n",
    "# This is the first option Wolfram Alpha shoots out and makes no assumptions \n",
    "# of positives for alpha, energy and efold.\n",
    "def band2(Energy, **Pars):\n",
    "    alpha = float(Pars['alpha'])\n",
    "    beta = float(Pars['beta'])\n",
    "    efold = float(Pars['efold']) # efolding energy\n",
    "    norm = float(Pars['norm'])\n",
    "    eng = numpy.array(Energy)\n",
    "    #flux = numpy.zeros(len(eng))\n",
    "\n",
    "    flux = []\n",
    "    for i in range(len(eng)-1):  \n",
    "        if eng[i] < ((alpha-beta)*efold):\n",
    "            #multiplier = efold**(alpha+1.)\n",
    "            multiplier = efold \n",
    "            lowIntegral = (eng[i]**alpha) * ((eng[i]/efold)**-alpha) * float(sy.uppergamma(alpha+1., eng[i]/efold ))\n",
    "            highIntegral = (eng[i+1]**alpha) * ((eng[i+1]/efold)**-alpha) * float(sy.uppergamma(alpha+1., eng[i+1]/efold ))\n",
    "            eqn = multiplier * (lowIntegral - highIntegral)\n",
    "            flux.append(eqn)\n",
    "            #flux[i] = eqn\n",
    "            #print flux[i]\n",
    "        else:\n",
    "            multiplier = ((alpha-beta)**(alpha-beta) * -numpy.exp(beta-alpha) * (efold**(alpha-beta))) * (1./(beta+1.))\n",
    "            lowIntegral = (eng[i]**(beta+1.))\n",
    "            highIntegral = (eng[i+1]**(beta+1.))\n",
    "            eqn = multiplier * (lowIntegral - highIntegral)\n",
    "            flux.append(eqn)\n",
    "            #flux[i] = eqn\n",
    "            #print flux[i]\n",
    "            #eqn = ((100**-alpha) * (alpha-beta)**(alpha-beta) * -1*numpy.exp(beta-alpha) * eng**(beta+1.) * efold**(alpha-beta)) * (1./(beta+1.))\n",
    "            #return eqn\n",
    "    return flux\n",
    "    "
   ]
  },
  {
   "cell_type": "code",
   "execution_count": null,
   "metadata": {
    "collapsed": false
   },
   "outputs": [],
   "source": [
    "plt.plot(energy_array[:-1],  band1(energy_array, **params), 'r-')\n",
    "plt.plot(energy_array[:-1],  band2(energy_array, **params), 'b--')\n",
    "#plt.ylim(1E-7, 1)\n",
    "plt.xlim(5, 5E+7)\n",
    "plt.xscale('log')\n",
    "plt.yscale('log')"
   ]
  },
  {
   "cell_type": "markdown",
   "metadata": {},
   "source": [
    "# $\\nu F_{\\nu}$"
   ]
  },
  {
   "cell_type": "markdown",
   "metadata": {},
   "source": [
    "## These next two are $\\nu F_{\\nu}$.\n",
    "You take the Band function, multiply it by another factor of energy and integrate it.  "
   ]
  },
  {
   "cell_type": "code",
   "execution_count": null,
   "metadata": {
    "collapsed": false,
    "scrolled": true
   },
   "outputs": [],
   "source": [
    "# This is the form that Wolfram alpha spits out, assuming that alpha, energy, and efold are all positive.\n",
    "# This is usually the last one Wolfram Alpha spits out as an answer.\n",
    "def band1(Energy, **Pars):\n",
    "    alpha = float(Pars['alpha'])\n",
    "    beta = float(Pars['beta'])\n",
    "    efold = float(Pars['efold']) # efolding energy\n",
    "    norm = float(Pars['norm'])\n",
    "    eng = numpy.array(Energy)\n",
    "\n",
    "    flux = []\n",
    "    for i in range(len(eng)-1):  \n",
    "        if eng[i] < ((alpha-beta)*efold):\n",
    "            multiplier = efold**(alpha+2.)\n",
    "            lowIntegral = float(sy.uppergamma(alpha+2., eng[i]/efold ))\n",
    "            highIntegral = float(sy.uppergamma(alpha+2., eng[i+1]/efold ))\n",
    "            eqn = multiplier * (lowIntegral - highIntegral)\n",
    "            flux.append(eqn)\n",
    "            #flux[i] = eqn\n",
    "            #print flux[i]\n",
    "        else:\n",
    "            multiplier = ((alpha-beta)**(alpha-beta) * -numpy.exp(beta-alpha) * (efold**(alpha-beta))) * (1./(beta+2.))\n",
    "            lowIntegral = (eng[i]**(beta+2.))\n",
    "            highIntegral = (eng[i+1]**(beta+2.))\n",
    "            eqn = multiplier * (lowIntegral - highIntegral)\n",
    "            flux.append(eqn)\n",
    "    return flux\n",
    "    \n",
    "\n",
    "# This option is the first Wolfram Alpha spits out.  It makes no assumtions of positive parameters.\n",
    "# I only changed the first part of the Band fn.  You can check that the 2nd part is also consistent between\n",
    "# Wolfram solutions by doing some basic algebra.\n",
    "def band2(Energy, **Pars):\n",
    "    alpha = float(Pars['alpha'])\n",
    "    beta = float(Pars['beta'])\n",
    "    efold = float(Pars['efold']) # efolding energy\n",
    "    norm = float(Pars['norm'])\n",
    "    eng = numpy.array(Energy)\n",
    "\n",
    "    flux = []\n",
    "    for i in range(len(eng)-1):  \n",
    "        if eng[i] < ((alpha-beta)*efold):\n",
    "            multiplier = (efold**2)\n",
    "            lowIntegral = (eng[i]**alpha) * ((eng[i]/efold)**-alpha) * float(sy.uppergamma(alpha+2., eng[i]/efold ))\n",
    "            highIntegral = (eng[i+1]**alpha) * ((eng[i+1]/efold)**-alpha) * float(sy.uppergamma(alpha+2., eng[i+1]/efold ))\n",
    "            eqn = multiplier * (lowIntegral - highIntegral)\n",
    "            flux.append(eqn)\n",
    "        else:\n",
    "            multiplier = ((alpha-beta)**(alpha-beta) * -numpy.exp(beta-alpha) * (efold**(alpha-beta))) * (1./(beta+2.))\n",
    "            lowIntegral = (eng[i]**(beta+2.))\n",
    "            highIntegral = (eng[i+1]**(beta+2.))\n",
    "            eqn = multiplier * (lowIntegral - highIntegral)\n",
    "            flux.append(eqn)\n",
    "    return flux\n",
    "    \n",
    "\n",
    "plt.plot(energy_array[:-1],  band1(energy_array, **params), 'r-')\n",
    "plt.plot(energy_array[:-1],  band2(energy_array, **params), 'b--')\n",
    "\n",
    "#plt.ylim(1E-7, 1)\n",
    "plt.xlim(5, 5E+7)\n",
    "plt.xscale('log')\n",
    "plt.yscale('log')"
   ]
  },
  {
   "cell_type": "code",
   "execution_count": null,
   "metadata": {
    "collapsed": true
   },
   "outputs": [],
   "source": [
    "# This is the form that Wolfram alpha spits out, assuming that alpha, energy, and efold are all positive.\n",
    "# This is usually the last one Wolfram Alpha spits out as an answer.\n",
    "def band1(Energy, **Pars):\n",
    "    alpha = float(Pars['alpha'])\n",
    "    beta = float(Pars['beta'])\n",
    "    efold = float(Pars['efold']) # efolding energy\n",
    "    norm = float(Pars['norm'])\n",
    "    eng = numpy.array(Energy)\n",
    "\n",
    "    flux = []\n",
    "    for i in range(len(eng)-1):  \n",
    "        if eng[i] < ((alpha-beta)*efold):\n",
    "            multiplier = efold**(alpha+2.)\n",
    "            lowIntegral = float(sy.uppergamma(alpha+2., eng[i]/efold ))\n",
    "            highIntegral = float(sy.uppergamma(alpha+2., eng[i+1]/efold ))\n",
    "            eqn = multiplier * (lowIntegral - highIntegral)\n",
    "            flux.append(eqn)\n",
    "            #flux[i] = eqn\n",
    "            #print flux[i]\n",
    "        else:\n",
    "            multiplier = ((alpha-beta)**(alpha-beta) * -numpy.exp(beta-alpha) * (efold**(alpha-beta))) * (1./(beta+2.))\n",
    "            lowIntegral = (eng[i]**(beta+2.))\n",
    "            highIntegral = (eng[i+1]**(beta+2.))\n",
    "            eqn = multiplier * (lowIntegral - highIntegral)\n",
    "            flux.append(eqn)\n",
    "    return flux\n",
    "plt.plot(energy_array[:-1],  band2(energy_array, **params), 'b--')\n",
    "\n",
    "#plt.ylim(1E-7, 1)\n",
    "plt.xlim(5, 5E+7)\n",
    "plt.xscale('log')\n",
    "plt.yscale('log')  "
   ]
  },
  {
   "cell_type": "code",
   "execution_count": null,
   "metadata": {
    "collapsed": true
   },
   "outputs": [],
   "source": [
    "# plotting xspec results for emodel.\n",
    "plt.plot(ff1[0], ff1[3], '-.', color='green')\n",
    "plt.plot(ff2[0], ff2[3], '-.', color='green')\n",
    "plt.plot(ff3[0], ff3[3], '-.', color='green')"
   ]
  },
  {
   "cell_type": "markdown",
   "metadata": {},
   "source": [
    "### Testing if we change the negative signs to what Wolfram Alpha gives, and swapping (lowIntegral - highIntegral) to (highIntegral-lowIntegral) to see if it is consistent, and it is."
   ]
  },
  {
   "cell_type": "code",
   "execution_count": null,
   "metadata": {
    "collapsed": false
   },
   "outputs": [],
   "source": [
    "# This is the form that Wolfram alpha spits out where we assume all parameters are positive.  \n",
    "# It's the same as all the rest it spits out.\n",
    "\n",
    "def band1(Energy, **Pars):\n",
    "    alpha = float(Pars['alpha'])\n",
    "    beta = float(Pars['beta'])\n",
    "    efold = float(Pars['efold']) # efolding energy\n",
    "    norm = float(Pars['norm'])\n",
    "    eng = numpy.array(Energy)\n",
    "\n",
    "    flux = []\n",
    "    for i in range(len(eng)-1):  \n",
    "        if eng[i] < ((alpha-beta)*efold):\n",
    "            multiplier = efold**(alpha+2.)\n",
    "            lowIntegral = float(sy.uppergamma(alpha+2., eng[i]/efold ))\n",
    "            highIntegral = float(sy.uppergamma(alpha+2., eng[i+1]/efold ))\n",
    "            eqn = -multiplier * (highIntegral - lowIntegral)\n",
    "            flux.append(eqn)\n",
    "\n",
    "        else:\n",
    "            multiplier = ((alpha-beta)**(alpha-beta) * numpy.exp(beta-alpha) * (efold**(alpha-beta))) * (1./(beta+2.))\n",
    "            lowIntegral = (eng[i]**(beta+2.))\n",
    "            highIntegral = (eng[i+1]**(beta+2.))\n",
    "            eqn = multiplier * (highIntegral - lowIntegral)\n",
    "            flux.append(eqn)\n",
    "    return flux\n",
    "\n",
    "\n",
    "\n",
    "# This is the one I just changed to the aternative first part of band fn.  \n",
    "# This is the first option Wolfram Alpha shoots out and makes no assumptions \n",
    "# of positives for alpha, energy and efold.\n",
    "def band2(Energy, **Pars):\n",
    "    alpha = float(Pars['alpha'])\n",
    "    beta = float(Pars['beta'])\n",
    "    efold = float(Pars['efold']) # efolding energy\n",
    "    norm = float(Pars['norm'])\n",
    "    eng = numpy.array(Energy)\n",
    "\n",
    "    flux = []\n",
    "    for i in range(len(eng)-1):  \n",
    "        if eng[i] < ((alpha-beta)*efold):\n",
    "            multiplier = (efold**2)\n",
    "            lowIntegral = (eng[i]**alpha) * ((eng[i]/efold)**-alpha) * float(sy.uppergamma(alpha+2., eng[i]/efold ))\n",
    "            highIntegral = (eng[i+1]**alpha) * ((eng[i+1]/efold)**-alpha) * float(sy.uppergamma(alpha+2., eng[i+1]/efold ))\n",
    "            eqn = multiplier * (lowIntegral - highIntegral)\n",
    "            flux.append(eqn)\n",
    "        else:\n",
    "            multiplier = ((alpha-beta)**(alpha-beta) * -numpy.exp(beta-alpha) * (efold**(alpha-beta))) * (1./(beta+2.))\n",
    "            lowIntegral = (eng[i]**(beta+2.))\n",
    "            highIntegral = (eng[i+1]**(beta+2.))\n",
    "            eqn = multiplier * (lowIntegral - highIntegral)\n",
    "            flux.append(eqn)\n",
    "    return flux\n",
    "\n",
    "plt.figure(figsize=(11,7))\n",
    "plt.plot(energy_array[:-1],  band1(energy_array, **params), 'r-')\n",
    "plt.plot(energy_array[:-1],  band2(energy_array, **params), 'b--')\n",
    "#plt.ylim(1E-7, 1)\n",
    "plt.xlim(5, 5E+7)\n",
    "plt.xscale('log')\n",
    "plt.yscale('log')"
   ]
  },
  {
   "cell_type": "markdown",
   "metadata": {},
   "source": [
    " "
   ]
  },
  {
   "cell_type": "markdown",
   "metadata": {},
   "source": [
    "# N(E) or model plot"
   ]
  },
  {
   "cell_type": "markdown",
   "metadata": {},
   "source": [
    "#### epeak = efold \\* (alpha+2)\n",
    "#### ebreak = efold \\* (alpha - beta) = ((alpha-beta) \\* epeak) / (alpha+2.)"
   ]
  },
  {
   "cell_type": "code",
   "execution_count": null,
   "metadata": {
    "collapsed": false
   },
   "outputs": [],
   "source": [
    "# This version of the band function is N(E), the Photon Flux Density, or known as model out of model, emodel, and eemodel.\n",
    "# This version \n",
    "def bandB(Energy, **Pars):\n",
    "    alpha = round(float(Pars['alpha']), 5)\n",
    "    beta = round(float(Pars['beta']), 5)\n",
    "    efold = round(float(Pars['efold']), 5) # efolding energy\n",
    "    norm = round(float(Pars['norm']), 5)\n",
    "    eng = float(Energy)\n",
    "\n",
    "    eqn = []\n",
    "    if eng <= ((alpha-beta)*efold):\n",
    "        eqn = norm*((1./100.)**(alpha))*(eng**alpha)*(numpy.exp(-(eng/efold)))\n",
    "        return eqn\n",
    "\n",
    "    else:\n",
    "        eqn = norm*((1./100.)**(alpha))*((eng**beta) * numpy.exp(-(alpha-beta)) * (((alpha-beta)*efold)**(alpha-beta)))\n",
    "        return eqn\n",
    "\n",
    "plt.figure(figsize=(11,7))\n",
    "for i in energy_array:\n",
    "    plt.plot(i,  bandB(i, **params), marker='.', markersize=2,  color='red')\n",
    "plt.plot(ff1[0], ff1[2], '-.', color='green')\n",
    "plt.plot(ff2[0], ff2[2], '-.', color='green')\n",
    "plt.plot(ff3[0], ff3[2], '-.', color='green')\n",
    "\n",
    "#plt.ylim(1E-13, 1E-12)\n",
    "plt.xlim(5, 5E+7)\n",
    "plt.xscale('log')\n",
    "plt.yscale('log')"
   ]
  },
  {
   "cell_type": "code",
   "execution_count": null,
   "metadata": {
    "collapsed": true
   },
   "outputs": [],
   "source": []
  },
  {
   "cell_type": "code",
   "execution_count": null,
   "metadata": {
    "collapsed": true
   },
   "outputs": [],
   "source": []
  },
  {
   "cell_type": "code",
   "execution_count": null,
   "metadata": {
    "collapsed": true
   },
   "outputs": [],
   "source": []
  },
  {
   "cell_type": "code",
   "execution_count": null,
   "metadata": {
    "collapsed": true
   },
   "outputs": [],
   "source": []
  },
  {
   "cell_type": "code",
   "execution_count": null,
   "metadata": {
    "collapsed": true
   },
   "outputs": [],
   "source": []
  },
  {
   "cell_type": "code",
   "execution_count": null,
   "metadata": {
    "collapsed": true
   },
   "outputs": [],
   "source": []
  },
  {
   "cell_type": "markdown",
   "metadata": {},
   "source": [
    "def band(Energy, flux, **Pars):\n",
    "    alpha = float(Pars['alpha'])\n",
    "    beta = float(Pars['beta'])\n",
    "    efold = float(Pars['efold']) # efolding energy\n",
    "    norm = float(Pars['norm'])\n",
    "    eng = numpy.array(Energy)\n",
    "    flux = numpy.zeros(len(eng))\n",
    "\n",
    "\n",
    "    for i in range(len(eng)-1):  \n",
    "        if eng[i] < ((alpha-beta)*efold):\n",
    "            multiplier = (100**-alpha) * efold**(alpha+1.) \n",
    "            lowIntegral = float(mp.gammainc(alpha+1., eng[i]/efold ))\n",
    "            highIntegral = float(mp.gammainc(alpha+1., eng[i+1]/efold ))\n",
    "            eqn = multiplier * (lowIntegral - highIntegral)\n",
    "            flux[i] = eqn\n",
    "        else:\n",
    "            multiplier = ((100**-alpha) * (alpha-beta)**(alpha-beta) * -numpy.exp(beta-alpha) * (efold**(alpha-beta))) * (1./(beta+1.))\n",
    "            lowIntegral = (eng[i]**(beta+1.))\n",
    "            highIntegral = (eng[i+1]**(beta+1.))\n",
    "            eqn = multiplier * (lowIntegral - highIntegral)\n",
    "            flux[i] = eqn\n",
    "            #eqn = ((100**-alpha) * (alpha-beta)**(alpha-beta) * -1*numpy.exp(beta-alpha) * eng**(beta+1.) * efold**(alpha-beta)) * (1./(beta+1.))\n",
    "            #return eqn\n",
    "        return flux\n",
    "    "
   ]
  }
 ],
 "metadata": {
  "kernelspec": {
   "display_name": "Python 2",
   "language": "python",
   "name": "python2"
  },
  "language_info": {
   "codemirror_mode": {
    "name": "ipython",
    "version": 2
   },
   "file_extension": ".py",
   "mimetype": "text/x-python",
   "name": "python",
   "nbconvert_exporter": "python",
   "pygments_lexer": "ipython2",
   "version": "2.7.12"
  }
 },
 "nbformat": 4,
 "nbformat_minor": 0
}
