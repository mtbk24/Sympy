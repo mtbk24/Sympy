{
 "cells": [
  {
   "cell_type": "markdown",
   "metadata": {},
   "source": [
    "## To see this same notebook without the output in LaTex view, see the Sympy_GRBfunctions notebook.\n",
    "\n",
    "#### Those functions create usable output."
   ]
  },
  {
   "cell_type": "code",
   "execution_count": 1,
   "metadata": {
    "collapsed": false
   },
   "outputs": [],
   "source": [
    "from __future__ import division\n",
    "#from sympy import *\n",
    "from sympy import exp, integrate, Integral, pi\n",
    "from sympy import Symbol\n",
    "from sympy.abc import a,b,x,y,z\n",
    "from sympy.abc import x\n",
    "from mpmath import gammainc\n",
    "from sympy import init_printing\n",
    "import matplotlib.pyplot as plt\n",
    "%matplotlib inline\n",
    "#init_printing(use_unicode=True, wrap_line=False, no_global=True)"
   ]
  },
  {
   "cell_type": "markdown",
   "metadata": {},
   "source": [
    "## The Band Function"
   ]
  },
  {
   "cell_type": "markdown",
   "metadata": {},
   "source": [
    "\\begin{equation*}\n",
    "f_{\\text{BAND}}(E) = \n",
    "\\end{equation*}\n",
    "\n",
    "\n",
    "\n",
    "\\begin{equation}\n",
    "A \n",
    "\\begin{cases} \n",
    "\t\\left( \\frac{E}{100 \\text{ keV}} \\right) ^\\alpha \\text{ exp} \\left[ -\\frac{ \\left( \\alpha + 2 \\right) E}{E_{peak}} \\right], \\\\ \n",
    "\t\t\\ \\ \\ \\ \\ \\  \\text{ for } E < \\frac{(\\alpha - \\beta) E_{peak}}{\\alpha + 2} \\\\\n",
    "\t\t\\left( \\frac{E}{100 \\text{ keV}} \\right) ^\\beta \\text{ exp} \\left( \\beta - \\alpha \\right) \n",
    "\t\\left[ \\frac{ \\left( \\alpha - \\beta \\right) E_{peak}}{100 \\text{ keV} (\\alpha + 2)} \\right] ^{\\alpha - \\beta} .\\\\\n",
    "\t\t\\ \\ \\ \\ \\ \\  \\text{ for } E \\geqslant \\frac{(\\alpha - \\beta) E_{peak}}{\\alpha + 2}  \\\\\n",
    "\\end{cases}\n",
    "\\end{equation}"
   ]
  },
  {
   "cell_type": "markdown",
   "metadata": {},
   "source": [
    "This model has four free parameters: the amplitude A (photons s$^{-1}$ cm$^{-2}$ keV$^{-1}$), the low-energy index $\\alpha$, the high-energy index $\\beta$, and the peak in the $\\nu F_{\\nu}$ spectrum, $E_{peak}$ (keV).  \n",
    "\n",
    "$E_{peak}$ and the e-folding energy used in XSPEC, $E_0$, are related by the following equation,\n",
    "\\begin{equation}\n",
    "E_0 = \\frac{E_{peak}}{(\\alpha + 2)}.  \n",
    "\\end{equation}\n",
    "The ``break energy\" is related to the photon energy $E_{peak}$ of the peak of the $\\nu F_{\\nu}$ spectrum by\n",
    "\\begin{equation}\n",
    "E_{break} = \\frac{(\\alpha - \\beta ) E_{peak}}{(\\alpha + 2)} = E_0(\\alpha - \\beta).\n",
    "\\end{equation}"
   ]
  },
  {
   "cell_type": "markdown",
   "metadata": {},
   "source": [
    "#### In order to integrate this equation in Wolfram Alpha or Python's sympy package, you'll need to break it into two parts for the integration, based on their conditions.  You will also need to simplify it as much as possible."
   ]
  },
  {
   "cell_type": "markdown",
   "metadata": {},
   "source": [
    "Substitute the e-folding energy in for peak energy over alpha + 2.\n",
    "\n",
    "\\begin{equation*}\n",
    "f_{\\text{BAND}}(E) = \n",
    "\\end{equation*}\n",
    "\n",
    "\n",
    "\n",
    "\\begin{equation}\n",
    "A \n",
    "\\begin{cases} \n",
    "\t\\left( \\frac{E}{100 \\text{ keV}} \\right) ^\\alpha \\text{ exp} \\left[ -\\frac{E}{E_0} \\right], \\\\ \n",
    "\t\t\\ \\ \\ \\ \\ \\  \\text{ for } E < (\\alpha - \\beta) E_0 \\\\\n",
    "\t\t\\left( \\frac{E}{100 \\text{ keV}} \\right) ^\\beta \\text{ exp} \\left( \\beta - \\alpha \\right) \n",
    "\t\\left[ \\frac{ \\left( \\alpha - \\beta \\right) E_0}{100 \\text{ keV}} \\right] ^{\\alpha - \\beta} .\\\\\n",
    "\t\t\\ \\ \\ \\ \\ \\  \\text{ for } E \\geqslant (\\alpha - \\beta) E_0  \\\\\n",
    "\\end{cases}\n",
    "\\end{equation}"
   ]
  },
  {
   "cell_type": "markdown",
   "metadata": {},
   "source": [
    "Simplify this even more by substituting single letter variables for the parameters.\n",
    "\n",
    "\n",
    "y = $\\left( \\alpha - \\beta \\right)$ \n",
    "\n",
    "z = $E_0$ \n",
    "\n",
    "x = $E$ \n",
    "\n",
    "a = $\\alpha$ \n",
    "\n",
    "b = $\\beta$ \n",
    "\n",
    "remove the 100 keV normalization factor that will cause a hangup in sympy, but Wolfram Alpha can handle it.  You will add it back on by introducing a factor of (100^ -alpha) after the integration is complete.  \n",
    "\n",
    "The factor of (1/100)^alpha, when included in the integration, returns  (100^ -alpha).  For the comptonized model, this will show up again.  Make sure to keep track of the signs. Depending on if alpha is - or + to start with, that will change your sign after integration.\n",
    "\n",
    "Remove the normalization (or Amplitude), $A$.  This parameter is intruduced as a nuience parameter that accounts for effects due to the detector, background, etc.\n",
    "We only care about the model."
   ]
  },
  {
   "cell_type": "markdown",
   "metadata": {},
   "source": [
    "\\begin{equation*}\n",
    "f_{\\text{BAND}}(E) = \n",
    "\\end{equation*}\n",
    "\n",
    "\n",
    "\n",
    "\\begin{equation}\n",
    "\\begin{cases} \n",
    "\t x ^a \\ \\text{ exp} \\left( -\\frac{x}{z} \\right), \\\\ \n",
    "\t\t\\ \\ \\ \\ \\ \\  \\text{ for lower part}\n",
    "        \\\\\n",
    "        \\\\\n",
    "\t\tx ^b \\ \\text{ exp} \\left( -y \\right) \n",
    "\t\\ \\left( y z \\right) ^y .\\\\\n",
    "\t\t\\ \\ \\ \\ \\ \\  \\text{ for upper part}   \\\\\n",
    "\\end{cases}\n",
    "\\end{equation}"
   ]
  },
  {
   "cell_type": "markdown",
   "metadata": {},
   "source": [
    "With the parameters plugged back in:"
   ]
  },
  {
   "cell_type": "markdown",
   "metadata": {},
   "source": [
    "\\begin{equation*}\n",
    "f_{\\text{BAND}}(E) = \n",
    "\\end{equation*}\n",
    "\n",
    "\n",
    "\n",
    "\\begin{equation}\n",
    "\\begin{cases} \n",
    "\t E ^\\alpha \\ \\text{ exp} \\left( -\\frac{E}{E_0} \\right), \\\\ \n",
    "\t\t\\ \\ \\ \\ \\ \\  \\text{ for lower part}\n",
    "        \\\\\n",
    "        \\\\\n",
    "\t\tE ^\\beta \\ \\text{ exp} \\left( - \\left( \\alpha - \\beta \\right) \\right)\n",
    "\t\\ \\left( \\left( \\alpha - \\beta \\right) E_0 \\right) ^{\\left( \\alpha - \\beta \\right)} .\\\\\n",
    "\t\t\\ \\ \\ \\ \\ \\  \\text{ for upper part}   \\\\\n",
    "\\end{cases}\n",
    "\\end{equation}"
   ]
  },
  {
   "cell_type": "markdown",
   "metadata": {},
   "source": [
    "Set all variables as Symbols that are real and positive."
   ]
  },
  {
   "cell_type": "code",
   "execution_count": 5,
   "metadata": {
    "collapsed": false
   },
   "outputs": [],
   "source": [
    "y = Symbol('y', real=True) # y - (alpha-beta) for the upper part\n",
    "a = Symbol('a', positive=True, real=True) # a - alpha\n",
    "b = Symbol('b', positive=True, real=True) # b - beta\n",
    "z = Symbol('z', positive=True, real=True) # z - e0 = epeak/(alpha+2)\n",
    "x = Symbol('x', positive=True, real=True) # x - energy\n",
    "\n",
    "# integrate(y * ((x/100)**a)*(exp(-(x/z))), x)"
   ]
  },
  {
   "cell_type": "markdown",
   "metadata": {},
   "source": [
    "We really want integrate\n",
    "\\begin{equation}\n",
    "\\int y \\times \\left( \\frac{x}{100} \\right)^a \\times exp\\left(-\\frac{x}{z}\\right) dx  \n",
    "\\end{equation}\n",
    "to work, but the factor of (1/100)^a causes problems.\n",
    "\n",
    "We just need to add on a factor of (100^(-a)) at the front of the ouput.  This will be the case for any function where we have a factor of (1/100)^a."
   ]
  },
  {
   "cell_type": "markdown",
   "metadata": {},
   "source": [
    "### Making the output look like LaTex eqauations -- "
   ]
  },
  {
   "cell_type": "code",
   "execution_count": 12,
   "metadata": {
    "collapsed": false,
    "scrolled": false
   },
   "outputs": [],
   "source": [
    "init_printing(use_latex=True)"
   ]
  },
  {
   "cell_type": "markdown",
   "metadata": {},
   "source": [
    "#### Calculating the lower part:"
   ]
  },
  {
   "cell_type": "code",
   "execution_count": 13,
   "metadata": {
    "collapsed": false
   },
   "outputs": [
    {
     "data": {
      "image/png": "[encoded data removed]",
      "text/latex": [
       "$$\\int \\frac{x^{a}}{e^{\\frac{x}{z}}}\\, dx$$"
      ],
      "text/plain": [
       "⌠           \n",
       "⎮     -x    \n",
       "⎮     ───   \n",
       "⎮  a   z    \n",
       "⎮ x ⋅ℯ    dx\n",
       "⌡           "
      ]
     },
     "execution_count": 13,
     "metadata": {},
     "output_type": "execute_result"
    }
   ],
   "source": [
    "integ_lower = Integral((x**a)*(exp(-(x/z))), x); integ_lower"
   ]
  },
  {
   "cell_type": "code",
   "execution_count": 14,
   "metadata": {
    "collapsed": false
   },
   "outputs": [
    {
     "data": {
      "text/plain": [
       "<bound method Integral.as_expr of Integral(x**a*exp(-x/z), x)>"
      ]
     },
     "execution_count": 14,
     "metadata": {},
     "output_type": "execute_result"
    }
   ],
   "source": [
    "integ_lower.as_expr"
   ]
  },
  {
   "cell_type": "code",
   "execution_count": 15,
   "metadata": {
    "collapsed": false
   },
   "outputs": [
    {
     "data": {
      "image/png": "[encoded data removed]",
      "text/latex": [
       "$$\\frac{a z z^{a} \\Gamma{\\left(a + 1 \\right)}}{\\Gamma{\\left(a + 2 \\right)}} \\gamma\\left(a + 1, \\frac{x}{z}\\right) + \\frac{z z^{a} \\Gamma{\\left(a + 1 \\right)}}{\\Gamma{\\left(a + 2 \\right)}} \\gamma\\left(a + 1, \\frac{x}{z}\\right)$$"
      ],
      "text/plain": [
       "     a           ⎛       x⎞      a           ⎛       x⎞\n",
       "a⋅z⋅z ⋅Γ(a + 1)⋅γ⎜a + 1, ─⎟   z⋅z ⋅Γ(a + 1)⋅γ⎜a + 1, ─⎟\n",
       "                 ⎝       z⎠                  ⎝       z⎠\n",
       "─────────────────────────── + ─────────────────────────\n",
       "          Γ(a + 2)                     Γ(a + 2)        "
      ]
     },
     "execution_count": 15,
     "metadata": {},
     "output_type": "execute_result"
    }
   ],
   "source": [
    "answer = integ_lower.doit(); answer"
   ]
  },
  {
   "cell_type": "code",
   "execution_count": 8,
   "metadata": {
    "collapsed": false
   },
   "outputs": [
    {
     "data": {
      "text/plain": [
       "<bound method Add.as_expr of a*z*z**a*gamma(a + 1)*lowergamma(a + 1, x/z)/gamma(a + 2) + z*z**a*gamma(a + 1)*lowergamma(a + 1, x/z)/gamma(a + 2)>"
      ]
     },
     "execution_count": 8,
     "metadata": {},
     "output_type": "execute_result"
    }
   ],
   "source": [
    "answer.as_expr"
   ]
  },
  {
   "cell_type": "code",
   "execution_count": 8,
   "metadata": {
    "collapsed": false
   },
   "outputs": [
    {
     "data": {
      "image/png": "[encoded data removed]",
      "text/latex": [
       "$$z^{a + 1} \\gamma\\left(a + 1, \\frac{x}{z}\\right)$$"
      ],
      "text/plain": [
       " a + 1  ⎛       x⎞\n",
       "z     ⋅γ⎜a + 1, ─⎟\n",
       "        ⎝       z⎠"
      ]
     },
     "execution_count": 8,
     "metadata": {},
     "output_type": "execute_result"
    }
   ],
   "source": [
    "lower = answer.simplify(); lower"
   ]
  },
  {
   "cell_type": "code",
   "execution_count": 9,
   "metadata": {
    "collapsed": false
   },
   "outputs": [
    {
     "data": {
      "text/plain": [
       "<bound method Mul.as_expr of z**(a + 1)*lowergamma(a + 1, x/z)>"
      ]
     },
     "execution_count": 9,
     "metadata": {},
     "output_type": "execute_result"
    }
   ],
   "source": [
    "lower.as_expr"
   ]
  },
  {
   "cell_type": "markdown",
   "metadata": {},
   "source": [
    "### I will get to what the $\\gamma$ symbol represents later.\n",
    "\n",
    "#### Now we calculate the upper part:"
   ]
  },
  {
   "cell_type": "code",
   "execution_count": 10,
   "metadata": {
    "collapsed": false
   },
   "outputs": [
    {
     "data": {
      "image/png": "[encoded data removed]",
      "text/latex": [
       "$$- \\frac{1}{e^{x}}$$"
      ],
      "text/plain": [
       "  -x\n",
       "-ℯ  "
      ]
     },
     "execution_count": 10,
     "metadata": {},
     "output_type": "execute_result"
    }
   ],
   "source": [
    "Integral(exp(-x), x).doit()"
   ]
  },
  {
   "cell_type": "code",
   "execution_count": 11,
   "metadata": {
    "collapsed": false,
    "scrolled": true
   },
   "outputs": [
    {
     "data": {
      "image/png": "[encoded data removed]",
      "text/latex": [
       "$$\\int x^{b} \\left(y z\\right)^{y} e^{- y}\\, dx$$"
      ],
      "text/plain": [
       "⌠                 \n",
       "⎮  b      y  -y   \n",
       "⎮ x ⋅(y⋅z) ⋅ℯ   dx\n",
       "⌡                 "
      ]
     },
     "execution_count": 11,
     "metadata": {},
     "output_type": "execute_result"
    }
   ],
   "source": [
    "integ_upper = Integral(((x**b) * exp(-y) * (y*z)**(y)), x); integ_upper"
   ]
  },
  {
   "cell_type": "code",
   "execution_count": 12,
   "metadata": {
    "collapsed": false
   },
   "outputs": [
    {
     "data": {
      "text/plain": [
       "<bound method Integral.as_expr of Integral(x**b*(y*z)**y*exp(-y), x)>"
      ]
     },
     "execution_count": 12,
     "metadata": {},
     "output_type": "execute_result"
    }
   ],
   "source": [
    "integ_upper.as_expr"
   ]
  },
  {
   "cell_type": "code",
   "execution_count": 14,
   "metadata": {
    "collapsed": false
   },
   "outputs": [
    {
     "data": {
      "image/png": "[encoded data removed]",
      "text/latex": [
       "$$\\frac{x^{b + 1} \\left(y z\\right)^{y}}{b + 1} e^{- y}$$"
      ],
      "text/plain": [
       " b + 1      y  -y\n",
       "x     ⋅(y⋅z) ⋅ℯ  \n",
       "─────────────────\n",
       "      b + 1      "
      ]
     },
     "execution_count": 14,
     "metadata": {},
     "output_type": "execute_result"
    }
   ],
   "source": [
    "answer2 = integ_upper.doit(); answer2"
   ]
  },
  {
   "cell_type": "code",
   "execution_count": 15,
   "metadata": {
    "collapsed": false
   },
   "outputs": [
    {
     "data": {
      "text/plain": [
       "<bound method Mul.as_expr of x**(b + 1)*(y*z)**y*exp(-y)/(b + 1)>"
      ]
     },
     "execution_count": 15,
     "metadata": {},
     "output_type": "execute_result"
    }
   ],
   "source": [
    "answer2.as_expr"
   ]
  },
  {
   "cell_type": "code",
   "execution_count": 16,
   "metadata": {
    "collapsed": false
   },
   "outputs": [
    {
     "data": {
      "image/png": "[encoded data removed]",
      "text/latex": [
       "$$\\frac{x^{b + 1} \\left(\\frac{y z}{e}\\right)^{y}}{b + 1}$$"
      ],
      "text/plain": [
       "                y\n",
       " b + 1 ⎛     -1⎞ \n",
       "x     ⋅⎝y⋅z⋅ℯ  ⎠ \n",
       "─────────────────\n",
       "      b + 1      "
      ]
     },
     "execution_count": 16,
     "metadata": {},
     "output_type": "execute_result"
    }
   ],
   "source": [
    "upper = answer2.simplify(); upper"
   ]
  },
  {
   "cell_type": "code",
   "execution_count": 17,
   "metadata": {
    "collapsed": false
   },
   "outputs": [
    {
     "data": {
      "text/plain": [
       "<bound method Mul.as_expr of x**(b + 1)*(y*z*exp(-1))**y/(b + 1)>"
      ]
     },
     "execution_count": 17,
     "metadata": {},
     "output_type": "execute_result"
    }
   ],
   "source": [
    "upper.as_expr"
   ]
  },
  {
   "cell_type": "markdown",
   "metadata": {},
   "source": [
    "#### Now we want to see what these look like with the actual parameter names."
   ]
  },
  {
   "cell_type": "code",
   "execution_count": 18,
   "metadata": {
    "collapsed": true
   },
   "outputs": [],
   "source": [
    "a = Symbol('alpha', positive=True, real=True)\n",
    "b = Symbol('beta', positive=True, real=True)\n",
    "z = Symbol('E0', positive=True, real=True) # e0 = epeak/(alpha+2)\n",
    "x = Symbol('E', positive=True, real=True) \n",
    "y = a-b\n",
    "# E is an energy array that will be passed to the function after it has been integrated."
   ]
  },
  {
   "cell_type": "code",
   "execution_count": 19,
   "metadata": {
    "collapsed": false
   },
   "outputs": [
    {
     "data": {
      "image/png": "[encoded data removed]",
      "text/latex": [
       "$$\\int \\frac{E^{\\alpha}}{e^{\\frac{E}{E_{0}}}}\\, dE$$"
      ],
      "text/plain": [
       "⌠           \n",
       "⎮     -E    \n",
       "⎮     ───   \n",
       "⎮  α   E₀   \n",
       "⎮ E ⋅ℯ    dE\n",
       "⌡           "
      ]
     },
     "execution_count": 19,
     "metadata": {},
     "output_type": "execute_result"
    }
   ],
   "source": [
    "integ_lower = Integral(((x)**a)*(exp(-x/z)), x); integ_lower"
   ]
  },
  {
   "cell_type": "code",
   "execution_count": 20,
   "metadata": {
    "collapsed": false
   },
   "outputs": [
    {
     "data": {
      "image/png": "[encoded data removed]",
      "text/latex": [
       "$$\\frac{E_{0} E_{0}^{\\alpha} \\alpha \\Gamma{\\left(\\alpha + 1 \\right)}}{\\Gamma{\\left(\\alpha + 2 \\right)}} \\gamma\\left(\\alpha + 1, \\frac{E}{E_{0}}\\right) + \\frac{E_{0} E_{0}^{\\alpha} \\Gamma{\\left(\\alpha + 1 \\right)}}{\\Gamma{\\left(\\alpha + 2 \\right)}} \\gamma\\left(\\alpha + 1, \\frac{E}{E_{0}}\\right)$$"
      ],
      "text/plain": [
       "     α             ⎛       E ⎞        α           ⎛       E ⎞\n",
       "E₀⋅E₀ ⋅α⋅Γ(α + 1)⋅γ⎜α + 1, ──⎟   E₀⋅E₀ ⋅Γ(α + 1)⋅γ⎜α + 1, ──⎟\n",
       "                   ⎝       E₀⎠                    ⎝       E₀⎠\n",
       "────────────────────────────── + ────────────────────────────\n",
       "           Γ(α + 2)                        Γ(α + 2)          "
      ]
     },
     "execution_count": 20,
     "metadata": {},
     "output_type": "execute_result"
    }
   ],
   "source": [
    "answer = integ_lower.doit(); answer"
   ]
  },
  {
   "cell_type": "code",
   "execution_count": 21,
   "metadata": {
    "collapsed": false
   },
   "outputs": [
    {
     "data": {
      "image/png": "[encoded data removed]",
      "text/latex": [
       "$$E_{0}^{\\alpha + 1} \\gamma\\left(\\alpha + 1, \\frac{E}{E_{0}}\\right)$$"
      ],
      "text/plain": [
       "  α + 1  ⎛       E ⎞\n",
       "E₀     ⋅γ⎜α + 1, ──⎟\n",
       "         ⎝       E₀⎠"
      ]
     },
     "execution_count": 21,
     "metadata": {},
     "output_type": "execute_result"
    }
   ],
   "source": [
    "lower = answer.simplify(); lower"
   ]
  },
  {
   "cell_type": "code",
   "execution_count": 22,
   "metadata": {
    "collapsed": false
   },
   "outputs": [
    {
     "data": {
      "image/png": "[encoded data removed]",
      "text/latex": [
       "$$\\int E^{\\beta} \\left(E_{0} \\left(\\alpha - \\beta\\right)\\right)^{\\alpha - \\beta} e^{- \\alpha + \\beta}\\, dE$$"
      ],
      "text/plain": [
       "⌠                                \n",
       "⎮  β             α - β  -α + β   \n",
       "⎮ E ⋅(E₀⋅(α - β))     ⋅ℯ       dE\n",
       "⌡                                "
      ]
     },
     "execution_count": 22,
     "metadata": {},
     "output_type": "execute_result"
    }
   ],
   "source": [
    "integ_upper = Integral( ((x**b) * exp(-y) * (y*z)**(y)), x); integ_upper"
   ]
  },
  {
   "cell_type": "code",
   "execution_count": 23,
   "metadata": {
    "collapsed": false
   },
   "outputs": [
    {
     "data": {
      "image/png": "[encoded data removed]",
      "text/latex": [
       "$$\\frac{E^{\\beta + 1}}{\\beta + 1} \\left(E_{0} \\left(\\alpha - \\beta\\right)\\right)^{\\alpha - \\beta} e^{- \\alpha + \\beta}$$"
      ],
      "text/plain": [
       " β + 1             α - β  -α + β\n",
       "E     ⋅(E₀⋅(α - β))     ⋅ℯ      \n",
       "────────────────────────────────\n",
       "             β + 1              "
      ]
     },
     "execution_count": 23,
     "metadata": {},
     "output_type": "execute_result"
    }
   ],
   "source": [
    "answer2 = integ_upper.doit(); answer2"
   ]
  },
  {
   "cell_type": "code",
   "execution_count": 24,
   "metadata": {
    "collapsed": false
   },
   "outputs": [
    {
     "data": {
      "image/png": "[encoded data removed]",
      "text/latex": [
       "$$\\frac{E^{\\beta + 1}}{\\beta + 1} \\left(E_{0} \\left(\\alpha - \\beta\\right)\\right)^{\\alpha - \\beta} e^{- \\alpha + \\beta}$$"
      ],
      "text/plain": [
       " β + 1             α - β  -α + β\n",
       "E     ⋅(E₀⋅(α - β))     ⋅ℯ      \n",
       "────────────────────────────────\n",
       "             β + 1              "
      ]
     },
     "execution_count": 24,
     "metadata": {},
     "output_type": "execute_result"
    }
   ],
   "source": [
    "upper = answer2.simplify(); upper"
   ]
  },
  {
   "cell_type": "markdown",
   "metadata": {},
   "source": [
    " "
   ]
  },
  {
   "cell_type": "markdown",
   "metadata": {},
   "source": [
    "### Now that we've shown you in pretty LaTex output, We need that output in a format that we can use as Python input."
   ]
  },
  {
   "cell_type": "code",
   "execution_count": 25,
   "metadata": {
    "collapsed": true
   },
   "outputs": [],
   "source": [
    "# as expression.  \n",
    "upper_expression = upper.as_expr()"
   ]
  },
  {
   "cell_type": "code",
   "execution_count": 26,
   "metadata": {
    "collapsed": false
   },
   "outputs": [
    {
     "name": "stdout",
     "output_type": "stream",
     "text": [
      "E**(beta + 1)*(E0*(alpha - beta))**(alpha - beta)*exp(-alpha + beta)/(beta + 1)\n"
     ]
    }
   ],
   "source": [
    "print upper_expression"
   ]
  },
  {
   "cell_type": "markdown",
   "metadata": {},
   "source": [
    "### If you start the session without the init_printing(), this printing will be the default, not the LaTex view."
   ]
  },
  {
   "cell_type": "code",
   "execution_count": 27,
   "metadata": {
    "collapsed": true
   },
   "outputs": [],
   "source": [
    "# as expression.  \n",
    "lower_expression = lower.as_expr()"
   ]
  },
  {
   "cell_type": "code",
   "execution_count": 28,
   "metadata": {
    "collapsed": false
   },
   "outputs": [
    {
     "name": "stdout",
     "output_type": "stream",
     "text": [
      "E0**(alpha + 1)*lowergamma(alpha + 1, E/E0)\n"
     ]
    }
   ],
   "source": [
    "print lower_expression"
   ]
  },
  {
   "cell_type": "markdown",
   "metadata": {},
   "source": [
    "## That $\\gamma$ function we saw earlier is the Incomplete Gamma Function.\n",
    "### The output says lowergamma, but we should use upppergamma.\n",
    "\n",
    "\n",
    "#### You can use import sympy  then sympy.uppergamma() and sympy.lowergamma()"
   ]
  },
  {
   "cell_type": "code",
   "execution_count": 32,
   "metadata": {
    "collapsed": true
   },
   "outputs": [],
   "source": [
    "# !open ./"
   ]
  },
  {
   "cell_type": "code",
   "execution_count": 33,
   "metadata": {
    "collapsed": true
   },
   "outputs": [],
   "source": [
    "from mpmath import gammainc"
   ]
  },
  {
   "cell_type": "markdown",
   "metadata": {},
   "source": [
    "Imagine that alpha = -1.342, E = 1000.0 keV and E0 = 592.738 keV.\n",
    "\n",
    "Then lowergamma(alpha + 1, E/E0) is also\n",
    "\n",
    "gammainc(alpha + 1, E/E0):"
   ]
  },
  {
   "cell_type": "code",
   "execution_count": 34,
   "metadata": {
    "collapsed": false
   },
   "outputs": [
    {
     "data": {
      "text/plain": [
       "mpf('0.057128909548596361')"
      ]
     },
     "execution_count": 34,
     "metadata": {},
     "output_type": "execute_result"
    }
   ],
   "source": [
    "gammainc(-1.342 + 1.0, 1000.0/592.738 )"
   ]
  },
  {
   "cell_type": "markdown",
   "metadata": {},
   "source": [
    "### In a usable format, use float() around it"
   ]
  },
  {
   "cell_type": "code",
   "execution_count": 35,
   "metadata": {
    "collapsed": false
   },
   "outputs": [
    {
     "data": {
      "image/png": "[encoded data removed]",
      "text/latex": [
       "$$0.0571289095486$$"
      ],
      "text/plain": [
       "0.0571289095486"
      ]
     },
     "execution_count": 35,
     "metadata": {},
     "output_type": "execute_result"
    }
   ],
   "source": [
    "float(gammainc(-1.342 + 1.0, 1000.0/592.738 ))"
   ]
  },
  {
   "cell_type": "code",
   "execution_count": 36,
   "metadata": {
    "collapsed": true
   },
   "outputs": [],
   "source": [
    "upper_expression = upper.as_expr()"
   ]
  },
  {
   "cell_type": "code",
   "execution_count": 37,
   "metadata": {
    "collapsed": false
   },
   "outputs": [
    {
     "data": {
      "image/png": "[encoded data removed]",
      "text/latex": [
       "$$E_{0}^{\\alpha + 1} \\gamma\\left(\\alpha + 1, \\frac{E}{E_{0}}\\right)$$"
      ],
      "text/plain": [
       "  α + 1  ⎛       E ⎞\n",
       "E₀     ⋅γ⎜α + 1, ──⎟\n",
       "         ⎝       E₀⎠"
      ]
     },
     "execution_count": 37,
     "metadata": {},
     "output_type": "execute_result"
    }
   ],
   "source": [
    "lower"
   ]
  },
  {
   "cell_type": "code",
   "execution_count": 38,
   "metadata": {
    "collapsed": false
   },
   "outputs": [
    {
     "data": {
      "image/png": "[encoded data removed]",
      "text/latex": [
       "$$E_{0}^{\\alpha + 1}$$"
      ],
      "text/plain": [
       "  α + 1\n",
       "E₀     "
      ]
     },
     "execution_count": 38,
     "metadata": {},
     "output_type": "execute_result"
    }
   ],
   "source": [
    "lower.args[0]"
   ]
  },
  {
   "cell_type": "code",
   "execution_count": 39,
   "metadata": {
    "collapsed": false
   },
   "outputs": [
    {
     "data": {
      "image/png": "[encoded data removed]",
      "text/latex": [
       "$$\\gamma\\left(\\alpha + 1, \\frac{E}{E_{0}}\\right)$$"
      ],
      "text/plain": [
       " ⎛       E ⎞\n",
       "γ⎜α + 1, ──⎟\n",
       " ⎝       E₀⎠"
      ]
     },
     "execution_count": 39,
     "metadata": {},
     "output_type": "execute_result"
    }
   ],
   "source": [
    "lower.args[1]"
   ]
  },
  {
   "cell_type": "markdown",
   "metadata": {},
   "source": [
    "## Comptonized Model"
   ]
  },
  {
   "cell_type": "markdown",
   "metadata": {},
   "source": [
    "The comptonized model (COMP) is an exponential cutoff power-law and is a version of the BAND function in the limit that $\\beta$ $\\rightarrow$ $-\\infty$:\n",
    "\n",
    "\\begin{equation}\n",
    "f_{\\text{COMP}}(E) = A \\left(\\frac{E}{E_{piv}}\\right)^{\\alpha} \\text{exp} \\left[ - \\frac{(\\alpha + 2) E}{E_{peak}} \\right].\n",
    "\\end{equation}\n",
    "\n",
    "This model has three free parameters: the amplitude A (photons s$^{-1}$ cm$^{-2}$ keV$^{-1}$), the low-energy index $\\alpha$ and the peak in the $\\nu F_{\\nu}$ spectrum, $E_{peak}$ (keV).  $E_{piv}$ is set to 100 keV, same as the PL model.  The COMP best fits dim bursts that lack high-energy emission required to constrain BANDs $\\beta$."
   ]
  },
  {
   "cell_type": "markdown",
   "metadata": {},
   "source": [
    "\\begin{equation}\n",
    "f_{\\text{COMP}}(E) = E^{\\alpha} \\ \\text{exp} \\left( - \\frac{ E}{E_0} \\right).\n",
    "\\end{equation}"
   ]
  },
  {
   "cell_type": "markdown",
   "metadata": {},
   "source": [
    " ## \\*IMPORTANT NOTE\\*:  \n",
    " ### You should be able to see that the Cutoff Power-Law (or Comptonized Power-Law) is the lower part of the Band Function.  So the integral already used for the lower part of BAND can be used here."
   ]
  },
  {
   "cell_type": "code",
   "execution_count": 40,
   "metadata": {
    "collapsed": true
   },
   "outputs": [],
   "source": [
    "a = Symbol('alpha', positive=True, real=True)\n",
    "z = Symbol('E0', positive=True, real=True) # e0 = epeak/(alpha+2)\n",
    "x = Symbol('E', positive=True, real=True) \n",
    "# E is an energy array that will be passed to the function after it has been integrated."
   ]
  },
  {
   "cell_type": "code",
   "execution_count": 41,
   "metadata": {
    "collapsed": false
   },
   "outputs": [
    {
     "data": {
      "image/png": "[encoded data removed]",
      "text/latex": [
       "$$\\int \\frac{E^{\\alpha}}{e^{\\frac{E}{E_{0}}}}\\, dE$$"
      ],
      "text/plain": [
       "⌠           \n",
       "⎮     -E    \n",
       "⎮     ───   \n",
       "⎮  α   E₀   \n",
       "⎮ E ⋅ℯ    dE\n",
       "⌡           "
      ]
     },
     "execution_count": 41,
     "metadata": {},
     "output_type": "execute_result"
    }
   ],
   "source": [
    "integ_copl = Integral( ((x**a) * exp(-x/z)), x); integ_copl"
   ]
  },
  {
   "cell_type": "code",
   "execution_count": 42,
   "metadata": {
    "collapsed": false
   },
   "outputs": [
    {
     "data": {
      "image/png": "[encoded data removed]",
      "text/latex": [
       "$$\\frac{E_{0} E_{0}^{\\alpha} \\alpha \\Gamma{\\left(\\alpha + 1 \\right)}}{\\Gamma{\\left(\\alpha + 2 \\right)}} \\gamma\\left(\\alpha + 1, \\frac{E}{E_{0}}\\right) + \\frac{E_{0} E_{0}^{\\alpha} \\Gamma{\\left(\\alpha + 1 \\right)}}{\\Gamma{\\left(\\alpha + 2 \\right)}} \\gamma\\left(\\alpha + 1, \\frac{E}{E_{0}}\\right)$$"
      ],
      "text/plain": [
       "     α             ⎛       E ⎞        α           ⎛       E ⎞\n",
       "E₀⋅E₀ ⋅α⋅Γ(α + 1)⋅γ⎜α + 1, ──⎟   E₀⋅E₀ ⋅Γ(α + 1)⋅γ⎜α + 1, ──⎟\n",
       "                   ⎝       E₀⎠                    ⎝       E₀⎠\n",
       "────────────────────────────── + ────────────────────────────\n",
       "           Γ(α + 2)                        Γ(α + 2)          "
      ]
     },
     "execution_count": 42,
     "metadata": {},
     "output_type": "execute_result"
    }
   ],
   "source": [
    "answer = integ_copl.doit(); answer"
   ]
  },
  {
   "cell_type": "code",
   "execution_count": 43,
   "metadata": {
    "collapsed": false
   },
   "outputs": [
    {
     "data": {
      "image/png": "[encoded data removed]",
      "text/latex": [
       "$$E_{0}^{\\alpha + 1} \\gamma\\left(\\alpha + 1, \\frac{E}{E_{0}}\\right)$$"
      ],
      "text/plain": [
       "  α + 1  ⎛       E ⎞\n",
       "E₀     ⋅γ⎜α + 1, ──⎟\n",
       "         ⎝       E₀⎠"
      ]
     },
     "execution_count": 43,
     "metadata": {},
     "output_type": "execute_result"
    }
   ],
   "source": [
    "COPL = answer.simplify(); COPL"
   ]
  },
  {
   "cell_type": "markdown",
   "metadata": {},
   "source": [
    "### Again, the $\\gamma$ presented here is the Incomplete Gamma Function.  See the mpmath's gammainc function discussion above."
   ]
  },
  {
   "cell_type": "markdown",
   "metadata": {},
   "source": [
    "Since we'd reall like to include the (1/100)^a, but we can't becaumse sympy won't calculate it, we have to add on that factor of (100^a) to the front of the output."
   ]
  },
  {
   "cell_type": "markdown",
   "metadata": {},
   "source": [
    "## Power-Law Model"
   ]
  },
  {
   "cell_type": "markdown",
   "metadata": {},
   "source": [
    "The most simple model is a single power-law and has only two free parameters,\n",
    "\n",
    "\\begin{equation}\n",
    "f_{\\text{PL}}(E) = A \\left(\\frac{E}{E_{piv}}\\right)^{\\alpha}\n",
    "\\end{equation}\n",
    "\n",
    "which are A, the amplitude (photons s$^{-1}$ cm$^{-2}$ keV$^{-1}$), $\\alpha$ is the spectral index, and the pivot energy $E_{piv}$ is set to 100 keV.  The pivot energy normalizes the model to the bandpass of the data."
   ]
  },
  {
   "cell_type": "code",
   "execution_count": 44,
   "metadata": {
    "collapsed": true
   },
   "outputs": [],
   "source": [
    "a = Symbol('alpha', positive=True, real=True)\n",
    "x = Symbol('E', positive=True, real=True) "
   ]
  },
  {
   "cell_type": "code",
   "execution_count": 45,
   "metadata": {
    "collapsed": false
   },
   "outputs": [
    {
     "data": {
      "image/png": "[encoded data removed]",
      "text/latex": [
       "$$\\int \\left(\\frac{E}{100}\\right)^{\\alpha}\\, dE$$"
      ],
      "text/plain": [
       "⌠          \n",
       "⎮      α   \n",
       "⎮ ⎛ E ⎞    \n",
       "⎮ ⎜───⎟  dE\n",
       "⎮ ⎝100⎠    \n",
       "⌡          "
      ]
     },
     "execution_count": 45,
     "metadata": {},
     "output_type": "execute_result"
    }
   ],
   "source": [
    "integ_pl = Integral( (x/100)**a, x); integ_pl"
   ]
  },
  {
   "cell_type": "code",
   "execution_count": 46,
   "metadata": {
    "collapsed": false
   },
   "outputs": [
    {
     "data": {
      "image/png": "[encoded data removed]",
      "text/latex": [
       "$$\\frac{100 \\left(\\frac{E}{100}\\right)^{\\alpha + 1}}{\\alpha + 1}$$"
      ],
      "text/plain": [
       "         α + 1\n",
       "    ⎛ E ⎞     \n",
       "100⋅⎜───⎟     \n",
       "    ⎝100⎠     \n",
       "──────────────\n",
       "    α + 1     "
      ]
     },
     "execution_count": 46,
     "metadata": {},
     "output_type": "execute_result"
    }
   ],
   "source": [
    "answer = integ_pl.doit(); answer"
   ]
  },
  {
   "cell_type": "code",
   "execution_count": 47,
   "metadata": {
    "collapsed": false
   },
   "outputs": [
    {
     "data": {
      "image/png": "[encoded data removed]",
      "text/latex": [
       "$$\\frac{E^{\\alpha + 1}}{100^{\\alpha} \\left(\\alpha + 1\\right)}$$"
      ],
      "text/plain": [
       "   -α  α + 1\n",
       "100  ⋅E     \n",
       "────────────\n",
       "   α + 1    "
      ]
     },
     "execution_count": 47,
     "metadata": {},
     "output_type": "execute_result"
    }
   ],
   "source": [
    "PL = answer.simplify(); PL"
   ]
  },
  {
   "cell_type": "markdown",
   "metadata": {},
   "source": [
    "### Here I can demonstrate the factor of (1/100)^a because of how simple the power-law model is.  The result is a factor of 100^(-a), just as we see in the BAND Funciton and the Cutoff Power-Law function."
   ]
  },
  {
   "cell_type": "markdown",
   "metadata": {},
   "source": [
    "## Blackbody Model"
   ]
  },
  {
   "cell_type": "markdown",
   "metadata": {},
   "source": [
    "The blackbody is a Planck-like function believed to represent the thermal emission from the jet's photosphere.  The fireball model predicts two components, a non-thermal synchrotron and a strong thermal component associated with the jet's photosphere, which would be observable when the ejecta layers become optically thin to Thompson scattering (Goodman 1986; M$\\acute{e}$sz$\\acute{a}$ros 2002; Rees $\\&$ M$\\acute{e}$sz$\\acute{a}$ros 2005).\n",
    "\n",
    "\n",
    "\\begin{equation}\n",
    "f_{\\text{BBODY}}(E) = A \\frac{E^{2}}{exp\\left(\\frac{E}{kT}\\right)-1}\n",
    "\\end{equation}\n",
    "This model has one free parameter, $kT$, and is always nested with one of the non-thermal synchrotron models listed above."
   ]
  },
  {
   "cell_type": "markdown",
   "metadata": {},
   "source": [
    "\\begin{equation}\n",
    "f_{\\text{BBODY}}(E) = \\frac{x^{2}}{exp\\left(\\frac{x}{y}\\right)-1}\n",
    "\\end{equation}"
   ]
  },
  {
   "cell_type": "markdown",
   "metadata": {},
   "source": [
    "## See also:\n",
    "http://webcache.googleusercontent.com/search?q=cache:gz4pTM5COAkJ:csa.phys.uvic.ca/teaching/solve-problems-with-sympy/examples-of-problems-to-solve-with-sympy-live/at_download/file+&cd=4&hl=en&ct=clnk&gl=us"
   ]
  },
  {
   "cell_type": "markdown",
   "metadata": {},
   "source": [
    "http://csa.phys.uvic.ca/teaching/solve-problems-with-sympy"
   ]
  },
  {
   "cell_type": "code",
   "execution_count": 48,
   "metadata": {
    "collapsed": true
   },
   "outputs": [],
   "source": [
    "x = Symbol('E', positive=True, real=True) # energy\n",
    "y = Symbol('kT', positive=True, real=True) # kT"
   ]
  },
  {
   "cell_type": "code",
   "execution_count": 49,
   "metadata": {
    "collapsed": false,
    "scrolled": false
   },
   "outputs": [
    {
     "data": {
      "image/png": "[encoded data removed]",
      "text/latex": [
       "$$\\int \\frac{E^{2}}{e^{E} - 1}\\, dE$$"
      ],
      "text/plain": [
       "⌠          \n",
       "⎮    2     \n",
       "⎮   E      \n",
       "⎮ ────── dE\n",
       "⎮  E       \n",
       "⎮ ℯ  - 1   \n",
       "⌡          "
      ]
     },
     "execution_count": 49,
     "metadata": {},
     "output_type": "execute_result"
    }
   ],
   "source": [
    "integrate((x**2)/(exp(x)-1), x)"
   ]
  },
  {
   "cell_type": "code",
   "execution_count": 55,
   "metadata": {
    "collapsed": false
   },
   "outputs": [],
   "source": [
    "from sympy import oo"
   ]
  },
  {
   "cell_type": "code",
   "execution_count": 56,
   "metadata": {
    "collapsed": false
   },
   "outputs": [],
   "source": [
    "top = integrate(x**3/(exp(x)-1),(x,0, oo))"
   ]
  },
  {
   "cell_type": "code",
   "execution_count": 57,
   "metadata": {
    "collapsed": false
   },
   "outputs": [
    {
     "data": {
      "image/png": "[encoded data removed]",
      "text/latex": [
       "$$\\int_{0}^{\\infty} \\frac{E^{3}}{e^{E} - 1}\\, dE$$"
      ],
      "text/plain": [
       "∞          \n",
       "⌠          \n",
       "⎮    3     \n",
       "⎮   E      \n",
       "⎮ ────── dE\n",
       "⎮  E       \n",
       "⎮ ℯ  - 1   \n",
       "⌡          \n",
       "0          "
      ]
     },
     "execution_count": 57,
     "metadata": {},
     "output_type": "execute_result"
    }
   ],
   "source": [
    "top"
   ]
  },
  {
   "cell_type": "code",
   "execution_count": 58,
   "metadata": {
    "collapsed": false
   },
   "outputs": [],
   "source": [
    "bottom = integrate(x**2/(exp(x)-1),(x,0,oo))"
   ]
  },
  {
   "cell_type": "code",
   "execution_count": 59,
   "metadata": {
    "collapsed": false
   },
   "outputs": [
    {
     "data": {
      "image/png": "[encoded data removed]",
      "text/latex": [
       "$$\\int_{0}^{\\infty} \\frac{E^{2}}{e^{E} - 1}\\, dE$$"
      ],
      "text/plain": [
       "∞          \n",
       "⌠          \n",
       "⎮    2     \n",
       "⎮   E      \n",
       "⎮ ────── dE\n",
       "⎮  E       \n",
       "⎮ ℯ  - 1   \n",
       "⌡          \n",
       "0          "
      ]
     },
     "execution_count": 59,
     "metadata": {},
     "output_type": "execute_result"
    }
   ],
   "source": [
    "bottom"
   ]
  },
  {
   "cell_type": "code",
   "execution_count": null,
   "metadata": {
    "collapsed": true
   },
   "outputs": [],
   "source": []
  },
  {
   "cell_type": "code",
   "execution_count": 62,
   "metadata": {
    "collapsed": false
   },
   "outputs": [
    {
     "data": {
      "image/png": "[encoded data removed]",
      "text/latex": [
       "$$\\frac{E^{\\alpha + 1}}{100^{\\alpha} \\left(\\alpha + 1\\right)}$$"
      ],
      "text/plain": [
       "   -α  α + 1\n",
       "100  ⋅E     \n",
       "────────────\n",
       "   α + 1    "
      ]
     },
     "execution_count": 62,
     "metadata": {},
     "output_type": "execute_result"
    }
   ],
   "source": [
    "BBODY = answer.simplify(); BBODY"
   ]
  },
  {
   "cell_type": "code",
   "execution_count": 63,
   "metadata": {
    "collapsed": false
   },
   "outputs": [
    {
     "ename": "NameError",
     "evalue": "name 'integ_bbody' is not defined",
     "output_type": "error",
     "traceback": [
      "\u001b[0;31m---------------------------------------------------------------------------\u001b[0m",
      "\u001b[0;31mNameError\u001b[0m                                 Traceback (most recent call last)",
      "\u001b[0;32m<ipython-input-63-d72f4debbfbd>\u001b[0m in \u001b[0;36m<module>\u001b[0;34m()\u001b[0m\n\u001b[0;32m----> 1\u001b[0;31m \u001b[0manswer\u001b[0m \u001b[0;34m=\u001b[0m \u001b[0minteg_bbody\u001b[0m\u001b[0;34m.\u001b[0m\u001b[0mdoit\u001b[0m\u001b[0;34m(\u001b[0m\u001b[0;34m)\u001b[0m\u001b[0;34m;\u001b[0m \u001b[0manswer\u001b[0m\u001b[0;34m\u001b[0m\u001b[0m\n\u001b[0m",
      "\u001b[0;31mNameError\u001b[0m: name 'integ_bbody' is not defined"
     ]
    }
   ],
   "source": [
    "answer = integ_bbody.doit(); answer"
   ]
  },
  {
   "cell_type": "code",
   "execution_count": 64,
   "metadata": {
    "collapsed": false
   },
   "outputs": [
    {
     "data": {
      "image/png": "[encoded data removed]",
      "text/latex": [
       "$$\\int \\frac{e^{\\frac{E}{E_{0}}}}{E^{\\alpha}}\\, dE$$"
      ],
      "text/plain": [
       "⌠           \n",
       "⎮      E    \n",
       "⎮      ──   \n",
       "⎮  -α  E₀   \n",
       "⎮ E  ⋅ℯ   dE\n",
       "⌡           "
      ]
     },
     "execution_count": 64,
     "metadata": {},
     "output_type": "execute_result"
    }
   ],
   "source": [
    "integ_lower = Integral((x**(-a))*(exp((x/z))), x); integ_lower"
   ]
  },
  {
   "cell_type": "code",
   "execution_count": 65,
   "metadata": {
    "collapsed": false
   },
   "outputs": [
    {
     "data": {
      "image/png": "[encoded data removed]",
      "text/latex": [
       "$$\\frac{E_{0} \\alpha e^{i \\pi \\alpha} \\Gamma{\\left(- \\alpha + 1 \\right)}}{E_{0}^{\\alpha} \\Gamma{\\left(- \\alpha + 2 \\right)}} \\gamma\\left(- \\alpha + 1, \\frac{E}{E_{0}} e^{i \\pi}\\right) - \\frac{E_{0} e^{i \\pi \\alpha} \\Gamma{\\left(- \\alpha + 1 \\right)}}{E_{0}^{\\alpha} \\Gamma{\\left(- \\alpha + 2 \\right)}} \\gamma\\left(- \\alpha + 1, \\frac{E}{E_{0}} e^{i \\pi}\\right)$$"
      ],
      "text/plain": [
       "                            ⎛           ⅈ⋅π⎞                             ⎛    \n",
       "     -α    ⅈ⋅π⋅α            ⎜        E⋅ℯ   ⎟        -α  ⅈ⋅π⋅α            ⎜    \n",
       "E₀⋅E₀  ⋅α⋅ℯ     ⋅Γ(-α + 1)⋅γ⎜-α + 1, ──────⎟   E₀⋅E₀  ⋅ℯ     ⋅Γ(-α + 1)⋅γ⎜-α +\n",
       "                            ⎝          E₀  ⎠                             ⎝    \n",
       "──────────────────────────────────────────── - ───────────────────────────────\n",
       "                 Γ(-α + 2)                                     Γ(-α + 2)      \n",
       "\n",
       "       ⅈ⋅π⎞\n",
       "    E⋅ℯ   ⎟\n",
       " 1, ──────⎟\n",
       "      E₀  ⎠\n",
       "───────────\n",
       "           "
      ]
     },
     "execution_count": 65,
     "metadata": {},
     "output_type": "execute_result"
    }
   ],
   "source": [
    "answer = integ_lower.doit(); answer"
   ]
  },
  {
   "cell_type": "code",
   "execution_count": 66,
   "metadata": {
    "collapsed": false
   },
   "outputs": [
    {
     "data": {
      "image/png": "[encoded data removed]",
      "text/latex": [
       "$$- E_{0}^{- \\alpha + 1} e^{i \\pi \\alpha} \\gamma\\left(- \\alpha - 1, \\frac{E}{E_{0}} e^{i \\pi}\\right)$$"
      ],
      "text/plain": [
       "                  ⎛             ⅈ⋅π⎞\n",
       "   -α + 1  ⅈ⋅π⋅α  ⎜          E⋅ℯ   ⎟\n",
       "-E₀      ⋅ℯ     ⋅γ⎜-(α - 1), ──────⎟\n",
       "                  ⎝            E₀  ⎠"
      ]
     },
     "execution_count": 66,
     "metadata": {},
     "output_type": "execute_result"
    }
   ],
   "source": [
    "answer.simplify()"
   ]
  },
  {
   "cell_type": "code",
   "execution_count": null,
   "metadata": {
    "collapsed": true
   },
   "outputs": [],
   "source": []
  },
  {
   "cell_type": "code",
   "execution_count": null,
   "metadata": {
    "collapsed": true
   },
   "outputs": [],
   "source": []
  },
  {
   "cell_type": "code",
   "execution_count": null,
   "metadata": {
    "collapsed": true
   },
   "outputs": [],
   "source": []
  },
  {
   "cell_type": "code",
   "execution_count": null,
   "metadata": {
    "collapsed": true
   },
   "outputs": [],
   "source": []
  },
  {
   "cell_type": "code",
   "execution_count": null,
   "metadata": {
    "collapsed": true
   },
   "outputs": [],
   "source": []
  }
 ],
 "metadata": {
  "kernelspec": {
   "display_name": "Python 2",
   "language": "python",
   "name": "python2"
  },
  "language_info": {
   "codemirror_mode": {
    "name": "ipython",
    "version": 2
   },
   "file_extension": ".py",
   "mimetype": "text/x-python",
   "name": "python",
   "nbconvert_exporter": "python",
   "pygments_lexer": "ipython2",
   "version": "2.7.12"
  }
 },
 "nbformat": 4,
 "nbformat_minor": 0
}
